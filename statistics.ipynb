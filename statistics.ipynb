{
 "cells": [
  {
   "cell_type": "code",
   "id": "initial_id",
   "metadata": {
    "collapsed": true,
    "ExecuteTime": {
     "end_time": "2024-11-21T00:03:18.861348Z",
     "start_time": "2024-11-21T00:03:18.858916Z"
    }
   },
   "source": [
    "import math\n",
    "data = [1,2,3,4,5]\n",
    "mean = sum(data)/len(data)\n",
    "variance = sum((x - mean) **2 for x in data)/len(data)\n",
    "std_dev = math.sqrt(variance)\n",
    "print(mean)\n",
    "print(variance)\n",
    "print(std_dev)"
   ],
   "outputs": [
    {
     "name": "stdout",
     "output_type": "stream",
     "text": [
      "3.0\n",
      "2.0\n",
      "1.4142135623730951\n"
     ]
    }
   ],
   "execution_count": 1
  },
  {
   "metadata": {
    "ExecuteTime": {
     "end_time": "2024-11-21T00:04:42.441440Z",
     "start_time": "2024-11-21T00:04:42.373801Z"
    }
   },
   "cell_type": "code",
   "source": [
    "# IQR\n",
    "import numpy as np\n",
    "q1, q3 = np.percentile(data, [25, 75])\n",
    "iqr = q3 - q1\n",
    "print(iqr)"
   ],
   "id": "ac59a7d95a49e4d0",
   "outputs": [
    {
     "name": "stdout",
     "output_type": "stream",
     "text": [
      "2.0\n"
     ]
    }
   ],
   "execution_count": 2
  },
  {
   "metadata": {},
   "cell_type": "code",
   "outputs": [],
   "execution_count": null,
   "source": "",
   "id": "4b979fd5eca3cc45"
  }
 ],
 "metadata": {
  "kernelspec": {
   "display_name": "Python 3",
   "language": "python",
   "name": "python3"
  },
  "language_info": {
   "codemirror_mode": {
    "name": "ipython",
    "version": 2
   },
   "file_extension": ".py",
   "mimetype": "text/x-python",
   "name": "python",
   "nbconvert_exporter": "python",
   "pygments_lexer": "ipython2",
   "version": "2.7.6"
  }
 },
 "nbformat": 4,
 "nbformat_minor": 5
}
