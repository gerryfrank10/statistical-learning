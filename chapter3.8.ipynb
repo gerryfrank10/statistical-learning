{
 "cells": [
  {
   "cell_type": "code",
   "id": "initial_id",
   "metadata": {
    "collapsed": true,
    "ExecuteTime": {
     "end_time": "2024-12-02T12:46:28.468110Z",
     "start_time": "2024-12-02T12:46:28.463192Z"
    }
   },
   "source": [
    "import numpy as np\n",
    "import matplotlib.pyplot as plt\n",
    "import pandas as pd\n",
    "import seaborn as sns\n",
    "import statsmodels.formula.api as smf\n",
    "\n",
    "%matplotlib inline"
   ],
   "outputs": [],
   "execution_count": 9
  },
  {
   "metadata": {
    "ExecuteTime": {
     "end_time": "2024-12-02T12:39:59.337929Z",
     "start_time": "2024-12-02T12:39:59.319327Z"
    }
   },
   "cell_type": "code",
   "source": [
    "df = pd.read_csv('datasets/Auto.csv')\n",
    "df.head()"
   ],
   "id": "57a062be7c4dfc10",
   "outputs": [
    {
     "data": {
      "text/plain": [
       "    mpg  cylinders  displacement horsepower  weight  acceleration  year  \\\n",
       "0  18.0          8         307.0        130    3504          12.0    70   \n",
       "1  15.0          8         350.0        165    3693          11.5    70   \n",
       "2  18.0          8         318.0        150    3436          11.0    70   \n",
       "3  16.0          8         304.0        150    3433          12.0    70   \n",
       "4  17.0          8         302.0        140    3449          10.5    70   \n",
       "\n",
       "   origin                       name  \n",
       "0       1  chevrolet chevelle malibu  \n",
       "1       1          buick skylark 320  \n",
       "2       1         plymouth satellite  \n",
       "3       1              amc rebel sst  \n",
       "4       1                ford torino  "
      ],
      "text/html": [
       "<div>\n",
       "<style scoped>\n",
       "    .dataframe tbody tr th:only-of-type {\n",
       "        vertical-align: middle;\n",
       "    }\n",
       "\n",
       "    .dataframe tbody tr th {\n",
       "        vertical-align: top;\n",
       "    }\n",
       "\n",
       "    .dataframe thead th {\n",
       "        text-align: right;\n",
       "    }\n",
       "</style>\n",
       "<table border=\"1\" class=\"dataframe\">\n",
       "  <thead>\n",
       "    <tr style=\"text-align: right;\">\n",
       "      <th></th>\n",
       "      <th>mpg</th>\n",
       "      <th>cylinders</th>\n",
       "      <th>displacement</th>\n",
       "      <th>horsepower</th>\n",
       "      <th>weight</th>\n",
       "      <th>acceleration</th>\n",
       "      <th>year</th>\n",
       "      <th>origin</th>\n",
       "      <th>name</th>\n",
       "    </tr>\n",
       "  </thead>\n",
       "  <tbody>\n",
       "    <tr>\n",
       "      <th>0</th>\n",
       "      <td>18.0</td>\n",
       "      <td>8</td>\n",
       "      <td>307.0</td>\n",
       "      <td>130</td>\n",
       "      <td>3504</td>\n",
       "      <td>12.0</td>\n",
       "      <td>70</td>\n",
       "      <td>1</td>\n",
       "      <td>chevrolet chevelle malibu</td>\n",
       "    </tr>\n",
       "    <tr>\n",
       "      <th>1</th>\n",
       "      <td>15.0</td>\n",
       "      <td>8</td>\n",
       "      <td>350.0</td>\n",
       "      <td>165</td>\n",
       "      <td>3693</td>\n",
       "      <td>11.5</td>\n",
       "      <td>70</td>\n",
       "      <td>1</td>\n",
       "      <td>buick skylark 320</td>\n",
       "    </tr>\n",
       "    <tr>\n",
       "      <th>2</th>\n",
       "      <td>18.0</td>\n",
       "      <td>8</td>\n",
       "      <td>318.0</td>\n",
       "      <td>150</td>\n",
       "      <td>3436</td>\n",
       "      <td>11.0</td>\n",
       "      <td>70</td>\n",
       "      <td>1</td>\n",
       "      <td>plymouth satellite</td>\n",
       "    </tr>\n",
       "    <tr>\n",
       "      <th>3</th>\n",
       "      <td>16.0</td>\n",
       "      <td>8</td>\n",
       "      <td>304.0</td>\n",
       "      <td>150</td>\n",
       "      <td>3433</td>\n",
       "      <td>12.0</td>\n",
       "      <td>70</td>\n",
       "      <td>1</td>\n",
       "      <td>amc rebel sst</td>\n",
       "    </tr>\n",
       "    <tr>\n",
       "      <th>4</th>\n",
       "      <td>17.0</td>\n",
       "      <td>8</td>\n",
       "      <td>302.0</td>\n",
       "      <td>140</td>\n",
       "      <td>3449</td>\n",
       "      <td>10.5</td>\n",
       "      <td>70</td>\n",
       "      <td>1</td>\n",
       "      <td>ford torino</td>\n",
       "    </tr>\n",
       "  </tbody>\n",
       "</table>\n",
       "</div>"
      ]
     },
     "execution_count": 2,
     "metadata": {},
     "output_type": "execute_result"
    }
   ],
   "execution_count": 2
  },
  {
   "metadata": {
    "ExecuteTime": {
     "end_time": "2024-12-02T12:41:47.068131Z",
     "start_time": "2024-12-02T12:41:47.061984Z"
    }
   },
   "cell_type": "code",
   "source": [
    "X_train = df['horsepower']\n",
    "Y_train = df['mpg']\n",
    "X_train.unique(), Y_train.unique() # Some values have ? in them"
   ],
   "id": "93d34cfbf8b0512b",
   "outputs": [
    {
     "data": {
      "text/plain": [
       "(array(['130', '165', '150', '140', '198', '220', '215', '225', '190',\n",
       "        '170', '160', '95', '97', '85', '88', '46', '87', '90', '113',\n",
       "        '200', '210', '193', '?', '100', '105', '175', '153', '180', '110',\n",
       "        '72', '86', '70', '76', '65', '69', '60', '80', '54', '208', '155',\n",
       "        '112', '92', '145', '137', '158', '167', '94', '107', '230', '49',\n",
       "        '75', '91', '122', '67', '83', '78', '52', '61', '93', '148',\n",
       "        '129', '96', '71', '98', '115', '53', '81', '79', '120', '152',\n",
       "        '102', '108', '68', '58', '149', '89', '63', '48', '66', '139',\n",
       "        '103', '125', '133', '138', '135', '142', '77', '62', '132', '84',\n",
       "        '64', '74', '116', '82'], dtype=object),\n",
       " array([18. , 15. , 16. , 17. , 14. , 24. , 22. , 21. , 27. , 26. , 25. ,\n",
       "        10. , 11. ,  9. , 28. , 19. , 12. , 13. , 23. , 30. , 31. , 35. ,\n",
       "        20. , 29. , 32. , 33. , 17.5, 15.5, 14.5, 22.5, 24.5, 18.5, 29.5,\n",
       "        26.5, 16.5, 31.5, 36. , 25.5, 33.5, 20.5, 30.5, 21.5, 43.1, 36.1,\n",
       "        32.8, 39.4, 19.9, 19.4, 20.2, 19.2, 25.1, 20.6, 20.8, 18.6, 18.1,\n",
       "        17.7, 27.5, 27.2, 30.9, 21.1, 23.2, 23.8, 23.9, 20.3, 21.6, 16.2,\n",
       "        19.8, 22.3, 17.6, 18.2, 16.9, 31.9, 34.1, 35.7, 27.4, 25.4, 34.2,\n",
       "        34.5, 31.8, 37.3, 28.4, 28.8, 26.8, 41.5, 38.1, 32.1, 37.2, 26.4,\n",
       "        24.3, 19.1, 34.3, 29.8, 31.3, 37. , 32.2, 46.6, 27.9, 40.8, 44.3,\n",
       "        43.4, 36.4, 44.6, 40.9, 33.8, 32.7, 23.7, 23.6, 32.4, 26.6, 25.8,\n",
       "        23.5, 39.1, 39. , 35.1, 32.3, 37.7, 34.7, 34.4, 29.9, 33.7, 32.9,\n",
       "        31.6, 28.1, 30.7, 24.2, 22.4, 34. , 38. , 44. ]))"
      ]
     },
     "execution_count": 3,
     "metadata": {},
     "output_type": "execute_result"
    }
   ],
   "execution_count": 3
  },
  {
   "metadata": {
    "ExecuteTime": {
     "end_time": "2024-12-02T12:43:17.145224Z",
     "start_time": "2024-12-02T12:43:17.136635Z"
    }
   },
   "cell_type": "code",
   "source": [
    "droplist = X_train[X_train == '?'].index\n",
    "X_train = X_train.drop(droplist)\n",
    "Y_train = Y_train.drop(droplist)\n",
    "X_train.unique(), Y_train.unique()"
   ],
   "id": "7ef5b0bcad856425",
   "outputs": [
    {
     "data": {
      "text/plain": [
       "(array(['130', '165', '150', '140', '198', '220', '215', '225', '190',\n",
       "        '170', '160', '95', '97', '85', '88', '46', '87', '90', '113',\n",
       "        '200', '210', '193', '100', '105', '175', '153', '180', '110',\n",
       "        '72', '86', '70', '76', '65', '69', '60', '80', '54', '208', '155',\n",
       "        '112', '92', '145', '137', '158', '167', '94', '107', '230', '49',\n",
       "        '75', '91', '122', '67', '83', '78', '52', '61', '93', '148',\n",
       "        '129', '96', '71', '98', '115', '53', '81', '79', '120', '152',\n",
       "        '102', '108', '68', '58', '149', '89', '63', '48', '66', '139',\n",
       "        '103', '125', '133', '138', '135', '142', '77', '62', '132', '84',\n",
       "        '64', '74', '116', '82'], dtype=object),\n",
       " array([18. , 15. , 16. , 17. , 14. , 24. , 22. , 21. , 27. , 26. , 25. ,\n",
       "        10. , 11. ,  9. , 28. , 19. , 12. , 13. , 23. , 30. , 31. , 35. ,\n",
       "        20. , 29. , 32. , 33. , 17.5, 15.5, 14.5, 22.5, 24.5, 18.5, 29.5,\n",
       "        26.5, 16.5, 31.5, 36. , 25.5, 33.5, 20.5, 30.5, 21.5, 43.1, 36.1,\n",
       "        32.8, 39.4, 19.9, 19.4, 20.2, 19.2, 25.1, 20.6, 20.8, 18.6, 18.1,\n",
       "        17.7, 27.5, 27.2, 30.9, 21.1, 23.2, 23.8, 23.9, 20.3, 21.6, 16.2,\n",
       "        19.8, 22.3, 17.6, 18.2, 16.9, 31.9, 34.1, 35.7, 27.4, 25.4, 34.2,\n",
       "        34.5, 31.8, 37.3, 28.4, 28.8, 26.8, 41.5, 38.1, 32.1, 37.2, 26.4,\n",
       "        24.3, 19.1, 34.3, 29.8, 31.3, 37. , 32.2, 46.6, 27.9, 40.8, 44.3,\n",
       "        43.4, 36.4, 44.6, 33.8, 32.7, 23.7, 32.4, 26.6, 25.8, 23.5, 39.1,\n",
       "        39. , 35.1, 32.3, 37.7, 34.7, 34.4, 29.9, 33.7, 32.9, 31.6, 28.1,\n",
       "        30.7, 24.2, 22.4, 34. , 38. , 44. ]))"
      ]
     },
     "execution_count": 4,
     "metadata": {},
     "output_type": "execute_result"
    }
   ],
   "execution_count": 4
  },
  {
   "metadata": {
    "ExecuteTime": {
     "end_time": "2024-12-02T12:43:34.258312Z",
     "start_time": "2024-12-02T12:43:34.255257Z"
    }
   },
   "cell_type": "code",
   "source": [
    "# Get the shape if they are the same\n",
    "X_train.shape, Y_train.shape"
   ],
   "id": "1376b1f0908888ad",
   "outputs": [
    {
     "data": {
      "text/plain": [
       "((392,), (392,))"
      ]
     },
     "execution_count": 5,
     "metadata": {},
     "output_type": "execute_result"
    }
   ],
   "execution_count": 5
  },
  {
   "metadata": {
    "ExecuteTime": {
     "end_time": "2024-12-02T12:44:55.466763Z",
     "start_time": "2024-12-02T12:44:55.459142Z"
    }
   },
   "cell_type": "code",
   "source": [
    "# Create a dataset for statsmodel\n",
    "df2 = pd.DataFrame({\n",
    "    'horsepower': X_train.astype('float'),\n",
    "    'mpg': Y_train.astype('float')\n",
    "})\n",
    "df2.head()"
   ],
   "id": "77a29ed96ea6ee6f",
   "outputs": [
    {
     "data": {
      "text/plain": [
       "   horsepower   mpg\n",
       "0       130.0  18.0\n",
       "1       165.0  15.0\n",
       "2       150.0  18.0\n",
       "3       150.0  16.0\n",
       "4       140.0  17.0"
      ],
      "text/html": [
       "<div>\n",
       "<style scoped>\n",
       "    .dataframe tbody tr th:only-of-type {\n",
       "        vertical-align: middle;\n",
       "    }\n",
       "\n",
       "    .dataframe tbody tr th {\n",
       "        vertical-align: top;\n",
       "    }\n",
       "\n",
       "    .dataframe thead th {\n",
       "        text-align: right;\n",
       "    }\n",
       "</style>\n",
       "<table border=\"1\" class=\"dataframe\">\n",
       "  <thead>\n",
       "    <tr style=\"text-align: right;\">\n",
       "      <th></th>\n",
       "      <th>horsepower</th>\n",
       "      <th>mpg</th>\n",
       "    </tr>\n",
       "  </thead>\n",
       "  <tbody>\n",
       "    <tr>\n",
       "      <th>0</th>\n",
       "      <td>130.0</td>\n",
       "      <td>18.0</td>\n",
       "    </tr>\n",
       "    <tr>\n",
       "      <th>1</th>\n",
       "      <td>165.0</td>\n",
       "      <td>15.0</td>\n",
       "    </tr>\n",
       "    <tr>\n",
       "      <th>2</th>\n",
       "      <td>150.0</td>\n",
       "      <td>18.0</td>\n",
       "    </tr>\n",
       "    <tr>\n",
       "      <th>3</th>\n",
       "      <td>150.0</td>\n",
       "      <td>16.0</td>\n",
       "    </tr>\n",
       "    <tr>\n",
       "      <th>4</th>\n",
       "      <td>140.0</td>\n",
       "      <td>17.0</td>\n",
       "    </tr>\n",
       "  </tbody>\n",
       "</table>\n",
       "</div>"
      ]
     },
     "execution_count": 6,
     "metadata": {},
     "output_type": "execute_result"
    }
   ],
   "execution_count": 6
  },
  {
   "metadata": {
    "ExecuteTime": {
     "end_time": "2024-12-02T12:45:35.165373Z",
     "start_time": "2024-12-02T12:45:35.101955Z"
    }
   },
   "cell_type": "code",
   "source": [
    "plt.scatter(df2['horsepower'], df2['mpg'])\n",
    "plt.show()"
   ],
   "id": "93ffb0c1186c56cb",
   "outputs": [
    {
     "data": {
      "text/plain": [
       "<Figure size 640x480 with 1 Axes>"
      ],
      "image/png": "[encoded data removed]"
     },
     "metadata": {},
     "output_type": "display_data"
    }
   ],
   "execution_count": 8
  },
  {
   "metadata": {
    "ExecuteTime": {
     "end_time": "2024-12-02T12:48:35.980792Z",
     "start_time": "2024-12-02T12:48:35.967501Z"
    }
   },
   "cell_type": "code",
   "source": [
    "mod = smf.ols(formula='mpg ~ horsepower', data=df2)\n",
    "res = mod.fit()\n",
    "print(res.summary())"
   ],
   "id": "8312dbd719f1cd87",
   "outputs": [
    {
     "name": "stdout",
     "output_type": "stream",
     "text": [
      "                            OLS Regression Results                            \n",
      "==============================================================================\n",
      "Dep. Variable:                    mpg   R-squared:                       0.606\n",
      "Model:                            OLS   Adj. R-squared:                  0.605\n",
      "Method:                 Least Squares   F-statistic:                     599.7\n",
      "Date:                Mon, 02 Dec 2024   Prob (F-statistic):           7.03e-81\n",
      "Time:                        12:48:35   Log-Likelihood:                -1178.7\n",
      "No. Observations:                 392   AIC:                             2361.\n",
      "Df Residuals:                     390   BIC:                             2369.\n",
      "Df Model:                           1                                         \n",
      "Covariance Type:            nonrobust                                         \n",
      "==============================================================================\n",
      "                 coef    std err          t      P>|t|      [0.025      0.975]\n",
      "------------------------------------------------------------------------------\n",
      "Intercept     39.9359      0.717     55.660      0.000      38.525      41.347\n",
      "horsepower    -0.1578      0.006    -24.489      0.000      -0.171      -0.145\n",
      "==============================================================================\n",
      "Omnibus:                       16.432   Durbin-Watson:                   0.920\n",
      "Prob(Omnibus):                  0.000   Jarque-Bera (JB):               17.305\n",
      "Skew:                           0.492   Prob(JB):                     0.000175\n",
      "Kurtosis:                       3.299   Cond. No.                         322.\n",
      "==============================================================================\n",
      "\n",
      "Notes:\n",
      "[1] Standard Errors assume that the covariance matrix of the errors is correctly specified.\n"
     ]
    }
   ],
   "execution_count": 11
  },
  {
   "metadata": {},
   "cell_type": "markdown",
   "source": [
    " 1. There is a relationship between predictor and response, We can reject NULL\n",
    "hypothesis that the regression coefficients are zero. since F-statistic is larger\n",
    "than 1 and p-value is closer to zero\n",
    "2. Since R2 is just about 0.606 we can say 60% of variance in mpg is explained by horsepower\n",
    "3. Relationship is negative because the coefficient to horsepower is -0.1578"
   ],
   "id": "2ca56d815abb1cf1"
  },
  {
   "metadata": {
    "ExecuteTime": {
     "end_time": "2024-12-02T12:54:33.942024Z",
     "start_time": "2024-12-02T12:54:33.886365Z"
    }
   },
   "cell_type": "code",
   "source": [
    "plt.subplots(1,1)\n",
    "plt.scatter(X_train.astype('float'), Y_train.astype('float'))\n",
    "plt.plot(X_train.astype('float'), res.fittedvalues, color='red')\n",
    "plt.show()"
   ],
   "id": "7bd816dd4a570160",
   "outputs": [
    {
     "data": {
      "text/plain": [
       "<Figure size 640x480 with 0 Axes>"
      ]
     },
     "metadata": {},
     "output_type": "display_data"
    },
    {
     "data": {
      "text/plain": [
       "<Figure size 640x480 with 1 Axes>"
      ],
      "image/png": "[encoded data removed]"
     },
     "metadata": {},
     "output_type": "display_data"
    }
   ],
   "execution_count": 13
  },
  {
   "metadata": {},
   "cell_type": "code",
   "outputs": [],
   "execution_count": null,
   "source": "",
   "id": "708d0dc1896f1679"
  }
 ],
 "metadata": {
  "kernelspec": {
   "display_name": "Python 3",
   "language": "python",
   "name": "python3"
  },
  "language_info": {
   "codemirror_mode": {
    "name": "ipython",
    "version": 2
   },
   "file_extension": ".py",
   "mimetype": "text/x-python",
   "name": "python",
   "nbconvert_exporter": "python",
   "pygments_lexer": "ipython2",
   "version": "2.7.6"
  }
 },
 "nbformat": 4,
 "nbformat_minor": 5
}
