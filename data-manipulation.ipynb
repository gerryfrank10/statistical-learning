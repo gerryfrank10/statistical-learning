{
 "cells": [
  {
   "cell_type": "code",
   "id": "initial_id",
   "metadata": {
    "collapsed": true,
    "ExecuteTime": {
     "end_time": "2024-11-21T11:12:05.215111Z",
     "start_time": "2024-11-21T11:12:04.544037Z"
    }
   },
   "source": [
    "import pandas as pd\n",
    "import numpy as np\n",
    "import matplotlib.pyplot as plt"
   ],
   "outputs": [],
   "execution_count": 1
  },
  {
   "metadata": {
    "ExecuteTime": {
     "end_time": "2024-11-21T11:19:54.387881Z",
     "start_time": "2024-11-21T11:19:54.381889Z"
    }
   },
   "cell_type": "code",
   "source": [
    "data = {'Name': ['John', 'Alice', 'Bob', 'Emily'],\n",
    "        'Age': [25, 30, 28, 35],\n",
    "        'City': ['New York', 'Paris', 'London', 'Tokyo']}\n",
    "df = pd.DataFrame(data)\n",
    "df.head()"
   ],
   "id": "99762b123030f00e",
   "outputs": [
    {
     "data": {
      "text/plain": [
       "    Name  Age      City\n",
       "0   John   25  New York\n",
       "1  Alice   30     Paris\n",
       "2    Bob   28    London\n",
       "3  Emily   35     Tokyo"
      ],
      "text/html": [
       "<div>\n",
       "<style scoped>\n",
       "    .dataframe tbody tr th:only-of-type {\n",
       "        vertical-align: middle;\n",
       "    }\n",
       "\n",
       "    .dataframe tbody tr th {\n",
       "        vertical-align: top;\n",
       "    }\n",
       "\n",
       "    .dataframe thead th {\n",
       "        text-align: right;\n",
       "    }\n",
       "</style>\n",
       "<table border=\"1\" class=\"dataframe\">\n",
       "  <thead>\n",
       "    <tr style=\"text-align: right;\">\n",
       "      <th></th>\n",
       "      <th>Name</th>\n",
       "      <th>Age</th>\n",
       "      <th>City</th>\n",
       "    </tr>\n",
       "  </thead>\n",
       "  <tbody>\n",
       "    <tr>\n",
       "      <th>0</th>\n",
       "      <td>John</td>\n",
       "      <td>25</td>\n",
       "      <td>New York</td>\n",
       "    </tr>\n",
       "    <tr>\n",
       "      <th>1</th>\n",
       "      <td>Alice</td>\n",
       "      <td>30</td>\n",
       "      <td>Paris</td>\n",
       "    </tr>\n",
       "    <tr>\n",
       "      <th>2</th>\n",
       "      <td>Bob</td>\n",
       "      <td>28</td>\n",
       "      <td>London</td>\n",
       "    </tr>\n",
       "    <tr>\n",
       "      <th>3</th>\n",
       "      <td>Emily</td>\n",
       "      <td>35</td>\n",
       "      <td>Tokyo</td>\n",
       "    </tr>\n",
       "  </tbody>\n",
       "</table>\n",
       "</div>"
      ]
     },
     "execution_count": 13,
     "metadata": {},
     "output_type": "execute_result"
    }
   ],
   "execution_count": 13
  },
  {
   "metadata": {
    "ExecuteTime": {
     "end_time": "2024-11-21T11:19:54.659780Z",
     "start_time": "2024-11-21T11:19:54.654704Z"
    }
   },
   "cell_type": "code",
   "source": [
    "# Adding new data\n",
    "new_data = {'Name': 'Gerald', 'Age': 29, 'City': 'New York'}\n",
    "# Old way of appending in earlier versions now removed\n",
    "#df = df.append(new_data, ignore_index=True)\n",
    "df = pd.concat([df, pd.DataFrame([new_data])], ignore_index=True)\n",
    "df.head()"
   ],
   "id": "aa45c054b7282df4",
   "outputs": [
    {
     "data": {
      "text/plain": [
       "     Name  Age      City\n",
       "0    John   25  New York\n",
       "1   Alice   30     Paris\n",
       "2     Bob   28    London\n",
       "3   Emily   35     Tokyo\n",
       "4  Gerald   29  New York"
      ],
      "text/html": [
       "<div>\n",
       "<style scoped>\n",
       "    .dataframe tbody tr th:only-of-type {\n",
       "        vertical-align: middle;\n",
       "    }\n",
       "\n",
       "    .dataframe tbody tr th {\n",
       "        vertical-align: top;\n",
       "    }\n",
       "\n",
       "    .dataframe thead th {\n",
       "        text-align: right;\n",
       "    }\n",
       "</style>\n",
       "<table border=\"1\" class=\"dataframe\">\n",
       "  <thead>\n",
       "    <tr style=\"text-align: right;\">\n",
       "      <th></th>\n",
       "      <th>Name</th>\n",
       "      <th>Age</th>\n",
       "      <th>City</th>\n",
       "    </tr>\n",
       "  </thead>\n",
       "  <tbody>\n",
       "    <tr>\n",
       "      <th>0</th>\n",
       "      <td>John</td>\n",
       "      <td>25</td>\n",
       "      <td>New York</td>\n",
       "    </tr>\n",
       "    <tr>\n",
       "      <th>1</th>\n",
       "      <td>Alice</td>\n",
       "      <td>30</td>\n",
       "      <td>Paris</td>\n",
       "    </tr>\n",
       "    <tr>\n",
       "      <th>2</th>\n",
       "      <td>Bob</td>\n",
       "      <td>28</td>\n",
       "      <td>London</td>\n",
       "    </tr>\n",
       "    <tr>\n",
       "      <th>3</th>\n",
       "      <td>Emily</td>\n",
       "      <td>35</td>\n",
       "      <td>Tokyo</td>\n",
       "    </tr>\n",
       "    <tr>\n",
       "      <th>4</th>\n",
       "      <td>Gerald</td>\n",
       "      <td>29</td>\n",
       "      <td>New York</td>\n",
       "    </tr>\n",
       "  </tbody>\n",
       "</table>\n",
       "</div>"
      ]
     },
     "execution_count": 14,
     "metadata": {},
     "output_type": "execute_result"
    }
   ],
   "execution_count": 14
  },
  {
   "metadata": {
    "ExecuteTime": {
     "end_time": "2024-11-21T11:20:15.470799Z",
     "start_time": "2024-11-21T11:20:15.465015Z"
    }
   },
   "cell_type": "code",
   "source": [
    "# Updating the data\n",
    "df.loc[df['Name'] == 'Gerald', 'Age'] = 35\n",
    "df.head()"
   ],
   "id": "8698336cfda9d57d",
   "outputs": [
    {
     "data": {
      "text/plain": [
       "     Name  Age      City\n",
       "0    John   25  New York\n",
       "1   Alice   30     Paris\n",
       "2     Bob   28    London\n",
       "3   Emily   35     Tokyo\n",
       "4  Gerald   35  New York"
      ],
      "text/html": [
       "<div>\n",
       "<style scoped>\n",
       "    .dataframe tbody tr th:only-of-type {\n",
       "        vertical-align: middle;\n",
       "    }\n",
       "\n",
       "    .dataframe tbody tr th {\n",
       "        vertical-align: top;\n",
       "    }\n",
       "\n",
       "    .dataframe thead th {\n",
       "        text-align: right;\n",
       "    }\n",
       "</style>\n",
       "<table border=\"1\" class=\"dataframe\">\n",
       "  <thead>\n",
       "    <tr style=\"text-align: right;\">\n",
       "      <th></th>\n",
       "      <th>Name</th>\n",
       "      <th>Age</th>\n",
       "      <th>City</th>\n",
       "    </tr>\n",
       "  </thead>\n",
       "  <tbody>\n",
       "    <tr>\n",
       "      <th>0</th>\n",
       "      <td>John</td>\n",
       "      <td>25</td>\n",
       "      <td>New York</td>\n",
       "    </tr>\n",
       "    <tr>\n",
       "      <th>1</th>\n",
       "      <td>Alice</td>\n",
       "      <td>30</td>\n",
       "      <td>Paris</td>\n",
       "    </tr>\n",
       "    <tr>\n",
       "      <th>2</th>\n",
       "      <td>Bob</td>\n",
       "      <td>28</td>\n",
       "      <td>London</td>\n",
       "    </tr>\n",
       "    <tr>\n",
       "      <th>3</th>\n",
       "      <td>Emily</td>\n",
       "      <td>35</td>\n",
       "      <td>Tokyo</td>\n",
       "    </tr>\n",
       "    <tr>\n",
       "      <th>4</th>\n",
       "      <td>Gerald</td>\n",
       "      <td>35</td>\n",
       "      <td>New York</td>\n",
       "    </tr>\n",
       "  </tbody>\n",
       "</table>\n",
       "</div>"
      ]
     },
     "execution_count": 16,
     "metadata": {},
     "output_type": "execute_result"
    }
   ],
   "execution_count": 16
  },
  {
   "metadata": {
    "ExecuteTime": {
     "end_time": "2024-11-21T11:21:22.125924Z",
     "start_time": "2024-11-21T11:21:22.119446Z"
    }
   },
   "cell_type": "code",
   "source": [
    "# Deleting data\n",
    "df = df.drop(index=0)\n",
    "df.head()"
   ],
   "id": "65e5f1a5f38d4946",
   "outputs": [
    {
     "data": {
      "text/plain": [
       "     Name  Age      City\n",
       "1   Alice   30     Paris\n",
       "2     Bob   28    London\n",
       "3   Emily   35     Tokyo\n",
       "4  Gerald   35  New York"
      ],
      "text/html": [
       "<div>\n",
       "<style scoped>\n",
       "    .dataframe tbody tr th:only-of-type {\n",
       "        vertical-align: middle;\n",
       "    }\n",
       "\n",
       "    .dataframe tbody tr th {\n",
       "        vertical-align: top;\n",
       "    }\n",
       "\n",
       "    .dataframe thead th {\n",
       "        text-align: right;\n",
       "    }\n",
       "</style>\n",
       "<table border=\"1\" class=\"dataframe\">\n",
       "  <thead>\n",
       "    <tr style=\"text-align: right;\">\n",
       "      <th></th>\n",
       "      <th>Name</th>\n",
       "      <th>Age</th>\n",
       "      <th>City</th>\n",
       "    </tr>\n",
       "  </thead>\n",
       "  <tbody>\n",
       "    <tr>\n",
       "      <th>1</th>\n",
       "      <td>Alice</td>\n",
       "      <td>30</td>\n",
       "      <td>Paris</td>\n",
       "    </tr>\n",
       "    <tr>\n",
       "      <th>2</th>\n",
       "      <td>Bob</td>\n",
       "      <td>28</td>\n",
       "      <td>London</td>\n",
       "    </tr>\n",
       "    <tr>\n",
       "      <th>3</th>\n",
       "      <td>Emily</td>\n",
       "      <td>35</td>\n",
       "      <td>Tokyo</td>\n",
       "    </tr>\n",
       "    <tr>\n",
       "      <th>4</th>\n",
       "      <td>Gerald</td>\n",
       "      <td>35</td>\n",
       "      <td>New York</td>\n",
       "    </tr>\n",
       "  </tbody>\n",
       "</table>\n",
       "</div>"
      ]
     },
     "execution_count": 17,
     "metadata": {},
     "output_type": "execute_result"
    }
   ],
   "execution_count": 17
  },
  {
   "metadata": {
    "ExecuteTime": {
     "end_time": "2024-11-21T11:21:55.815496Z",
     "start_time": "2024-11-21T11:21:55.808178Z"
    }
   },
   "cell_type": "code",
   "source": [
    "# Sorting values\n",
    "df = df.sort_values(by=['Age'], ascending=False)\n",
    "df.head()"
   ],
   "id": "b1026bd24fb9fbff",
   "outputs": [
    {
     "data": {
      "text/plain": [
       "     Name  Age      City\n",
       "3   Emily   35     Tokyo\n",
       "4  Gerald   35  New York\n",
       "1   Alice   30     Paris\n",
       "2     Bob   28    London"
      ],
      "text/html": [
       "<div>\n",
       "<style scoped>\n",
       "    .dataframe tbody tr th:only-of-type {\n",
       "        vertical-align: middle;\n",
       "    }\n",
       "\n",
       "    .dataframe tbody tr th {\n",
       "        vertical-align: top;\n",
       "    }\n",
       "\n",
       "    .dataframe thead th {\n",
       "        text-align: right;\n",
       "    }\n",
       "</style>\n",
       "<table border=\"1\" class=\"dataframe\">\n",
       "  <thead>\n",
       "    <tr style=\"text-align: right;\">\n",
       "      <th></th>\n",
       "      <th>Name</th>\n",
       "      <th>Age</th>\n",
       "      <th>City</th>\n",
       "    </tr>\n",
       "  </thead>\n",
       "  <tbody>\n",
       "    <tr>\n",
       "      <th>3</th>\n",
       "      <td>Emily</td>\n",
       "      <td>35</td>\n",
       "      <td>Tokyo</td>\n",
       "    </tr>\n",
       "    <tr>\n",
       "      <th>4</th>\n",
       "      <td>Gerald</td>\n",
       "      <td>35</td>\n",
       "      <td>New York</td>\n",
       "    </tr>\n",
       "    <tr>\n",
       "      <th>1</th>\n",
       "      <td>Alice</td>\n",
       "      <td>30</td>\n",
       "      <td>Paris</td>\n",
       "    </tr>\n",
       "    <tr>\n",
       "      <th>2</th>\n",
       "      <td>Bob</td>\n",
       "      <td>28</td>\n",
       "      <td>London</td>\n",
       "    </tr>\n",
       "  </tbody>\n",
       "</table>\n",
       "</div>"
      ]
     },
     "execution_count": 18,
     "metadata": {},
     "output_type": "execute_result"
    }
   ],
   "execution_count": 18
  },
  {
   "metadata": {
    "ExecuteTime": {
     "end_time": "2024-11-21T11:22:38.400050Z",
     "start_time": "2024-11-21T11:22:38.394138Z"
    }
   },
   "cell_type": "code",
   "source": [
    "# Filtering values\n",
    "filtered_df = df[df['Age'] >= 35]\n",
    "filtered_df.head()"
   ],
   "id": "37419592cb86ae1e",
   "outputs": [
    {
     "data": {
      "text/plain": [
       "     Name  Age      City\n",
       "3   Emily   35     Tokyo\n",
       "4  Gerald   35  New York"
      ],
      "text/html": [
       "<div>\n",
       "<style scoped>\n",
       "    .dataframe tbody tr th:only-of-type {\n",
       "        vertical-align: middle;\n",
       "    }\n",
       "\n",
       "    .dataframe tbody tr th {\n",
       "        vertical-align: top;\n",
       "    }\n",
       "\n",
       "    .dataframe thead th {\n",
       "        text-align: right;\n",
       "    }\n",
       "</style>\n",
       "<table border=\"1\" class=\"dataframe\">\n",
       "  <thead>\n",
       "    <tr style=\"text-align: right;\">\n",
       "      <th></th>\n",
       "      <th>Name</th>\n",
       "      <th>Age</th>\n",
       "      <th>City</th>\n",
       "    </tr>\n",
       "  </thead>\n",
       "  <tbody>\n",
       "    <tr>\n",
       "      <th>3</th>\n",
       "      <td>Emily</td>\n",
       "      <td>35</td>\n",
       "      <td>Tokyo</td>\n",
       "    </tr>\n",
       "    <tr>\n",
       "      <th>4</th>\n",
       "      <td>Gerald</td>\n",
       "      <td>35</td>\n",
       "      <td>New York</td>\n",
       "    </tr>\n",
       "  </tbody>\n",
       "</table>\n",
       "</div>"
      ]
     },
     "execution_count": 20,
     "metadata": {},
     "output_type": "execute_result"
    }
   ],
   "execution_count": 20
  },
  {
   "metadata": {
    "ExecuteTime": {
     "end_time": "2024-11-21T11:23:43.491659Z",
     "start_time": "2024-11-21T11:23:43.486359Z"
    }
   },
   "cell_type": "code",
   "source": [
    "data2 = {'Name': ['John', 'Alice', 'Bob'],'Salary': [5000, 6000, 4500]}\n",
    "df2 = pd.DataFrame(data2)\n",
    "df2.head()"
   ],
   "id": "a5062eeb7600d7be",
   "outputs": [
    {
     "data": {
      "text/plain": [
       "    Name  Salary\n",
       "0   John    5000\n",
       "1  Alice    6000\n",
       "2    Bob    4500"
      ],
      "text/html": [
       "<div>\n",
       "<style scoped>\n",
       "    .dataframe tbody tr th:only-of-type {\n",
       "        vertical-align: middle;\n",
       "    }\n",
       "\n",
       "    .dataframe tbody tr th {\n",
       "        vertical-align: top;\n",
       "    }\n",
       "\n",
       "    .dataframe thead th {\n",
       "        text-align: right;\n",
       "    }\n",
       "</style>\n",
       "<table border=\"1\" class=\"dataframe\">\n",
       "  <thead>\n",
       "    <tr style=\"text-align: right;\">\n",
       "      <th></th>\n",
       "      <th>Name</th>\n",
       "      <th>Salary</th>\n",
       "    </tr>\n",
       "  </thead>\n",
       "  <tbody>\n",
       "    <tr>\n",
       "      <th>0</th>\n",
       "      <td>John</td>\n",
       "      <td>5000</td>\n",
       "    </tr>\n",
       "    <tr>\n",
       "      <th>1</th>\n",
       "      <td>Alice</td>\n",
       "      <td>6000</td>\n",
       "    </tr>\n",
       "    <tr>\n",
       "      <th>2</th>\n",
       "      <td>Bob</td>\n",
       "      <td>4500</td>\n",
       "    </tr>\n",
       "  </tbody>\n",
       "</table>\n",
       "</div>"
      ]
     },
     "execution_count": 21,
     "metadata": {},
     "output_type": "execute_result"
    }
   ],
   "execution_count": 21
  },
  {
   "metadata": {
    "ExecuteTime": {
     "end_time": "2024-11-21T11:24:39.253347Z",
     "start_time": "2024-11-21T11:24:39.239928Z"
    }
   },
   "cell_type": "code",
   "source": [
    "# Joining and merging of data\n",
    "merged_df = pd.merge(df, df2, how='left', on='Name')\n",
    "merged_df.head()"
   ],
   "id": "368539cad8f31186",
   "outputs": [
    {
     "data": {
      "text/plain": [
       "     Name  Age      City  Salary\n",
       "0   Emily   35     Tokyo     NaN\n",
       "1  Gerald   35  New York     NaN\n",
       "2   Alice   30     Paris  6000.0\n",
       "3     Bob   28    London  4500.0"
      ],
      "text/html": [
       "<div>\n",
       "<style scoped>\n",
       "    .dataframe tbody tr th:only-of-type {\n",
       "        vertical-align: middle;\n",
       "    }\n",
       "\n",
       "    .dataframe tbody tr th {\n",
       "        vertical-align: top;\n",
       "    }\n",
       "\n",
       "    .dataframe thead th {\n",
       "        text-align: right;\n",
       "    }\n",
       "</style>\n",
       "<table border=\"1\" class=\"dataframe\">\n",
       "  <thead>\n",
       "    <tr style=\"text-align: right;\">\n",
       "      <th></th>\n",
       "      <th>Name</th>\n",
       "      <th>Age</th>\n",
       "      <th>City</th>\n",
       "      <th>Salary</th>\n",
       "    </tr>\n",
       "  </thead>\n",
       "  <tbody>\n",
       "    <tr>\n",
       "      <th>0</th>\n",
       "      <td>Emily</td>\n",
       "      <td>35</td>\n",
       "      <td>Tokyo</td>\n",
       "      <td>NaN</td>\n",
       "    </tr>\n",
       "    <tr>\n",
       "      <th>1</th>\n",
       "      <td>Gerald</td>\n",
       "      <td>35</td>\n",
       "      <td>New York</td>\n",
       "      <td>NaN</td>\n",
       "    </tr>\n",
       "    <tr>\n",
       "      <th>2</th>\n",
       "      <td>Alice</td>\n",
       "      <td>30</td>\n",
       "      <td>Paris</td>\n",
       "      <td>6000.0</td>\n",
       "    </tr>\n",
       "    <tr>\n",
       "      <th>3</th>\n",
       "      <td>Bob</td>\n",
       "      <td>28</td>\n",
       "      <td>London</td>\n",
       "      <td>4500.0</td>\n",
       "    </tr>\n",
       "  </tbody>\n",
       "</table>\n",
       "</div>"
      ]
     },
     "execution_count": 22,
     "metadata": {},
     "output_type": "execute_result"
    }
   ],
   "execution_count": 22
  },
  {
   "metadata": {
    "ExecuteTime": {
     "end_time": "2024-11-21T11:27:20.674855Z",
     "start_time": "2024-11-21T11:27:20.667914Z"
    }
   },
   "cell_type": "code",
   "source": [
    "# Transforming data\n",
    "df['City'] = df['City'].str.upper()\n",
    "df.head()"
   ],
   "id": "763b22bb06dbf90",
   "outputs": [
    {
     "data": {
      "text/plain": [
       "     Name  Age      City\n",
       "3   Emily   35     TOKYO\n",
       "4  Gerald   35  NEW YORK\n",
       "1   Alice   30     PARIS\n",
       "2     Bob   28    LONDON"
      ],
      "text/html": [
       "<div>\n",
       "<style scoped>\n",
       "    .dataframe tbody tr th:only-of-type {\n",
       "        vertical-align: middle;\n",
       "    }\n",
       "\n",
       "    .dataframe tbody tr th {\n",
       "        vertical-align: top;\n",
       "    }\n",
       "\n",
       "    .dataframe thead th {\n",
       "        text-align: right;\n",
       "    }\n",
       "</style>\n",
       "<table border=\"1\" class=\"dataframe\">\n",
       "  <thead>\n",
       "    <tr style=\"text-align: right;\">\n",
       "      <th></th>\n",
       "      <th>Name</th>\n",
       "      <th>Age</th>\n",
       "      <th>City</th>\n",
       "    </tr>\n",
       "  </thead>\n",
       "  <tbody>\n",
       "    <tr>\n",
       "      <th>3</th>\n",
       "      <td>Emily</td>\n",
       "      <td>35</td>\n",
       "      <td>TOKYO</td>\n",
       "    </tr>\n",
       "    <tr>\n",
       "      <th>4</th>\n",
       "      <td>Gerald</td>\n",
       "      <td>35</td>\n",
       "      <td>NEW YORK</td>\n",
       "    </tr>\n",
       "    <tr>\n",
       "      <th>1</th>\n",
       "      <td>Alice</td>\n",
       "      <td>30</td>\n",
       "      <td>PARIS</td>\n",
       "    </tr>\n",
       "    <tr>\n",
       "      <th>2</th>\n",
       "      <td>Bob</td>\n",
       "      <td>28</td>\n",
       "      <td>LONDON</td>\n",
       "    </tr>\n",
       "  </tbody>\n",
       "</table>\n",
       "</div>"
      ]
     },
     "execution_count": 23,
     "metadata": {},
     "output_type": "execute_result"
    }
   ],
   "execution_count": 23
  },
  {
   "metadata": {
    "ExecuteTime": {
     "end_time": "2024-11-21T11:33:32.255204Z",
     "start_time": "2024-11-21T11:33:32.235756Z"
    }
   },
   "cell_type": "code",
   "source": [
    "# Handling Missing data\n",
    "'''\n",
    "    1. Dropping Missing values\n",
    "    2. Ignore missing values\n",
    "    3. Imputation\n",
    "'''\n",
    "data = {\n",
    "    'A': [1, 2, np.nan, 4, 5],\n",
    "    'B': [6, 7, 8, 9, np.nan],\n",
    "    'C': [10, np.nan, 12, 13, 14]\n",
    "}\n",
    "df = pd.DataFrame(data)\n",
    "print(df.head())\n",
    "\n",
    "# Dropping missing values\n",
    "df_dropped = df.dropna() # Dropping rows with missing values\n",
    "df_dropped_columns = df_dropped.dropna(axis=1) # Dropping columns missing values\n",
    "print(f'Dropped Columns: \\n{df_dropped_columns.head()}')\n",
    "print(f'Dropped Rows: \\n{df_dropped.head()}')\n",
    "\n",
    "# Ignore tuples\n",
    "df_ignore = df.dropna(how='any')\n",
    "print(f'Ignore Columns: \\n{df_ignore.head()}')\n",
    "\n",
    "# Imputation\n",
    "df_imputed_mean = df.fillna(df.mean())\n",
    "print(f'Imputed Mean: \\n{df_imputed_mean.head()}')"
   ],
   "id": "9f0e7b827c606e23",
   "outputs": [
    {
     "name": "stdout",
     "output_type": "stream",
     "text": [
      "     A    B     C\n",
      "0  1.0  6.0  10.0\n",
      "1  2.0  7.0   NaN\n",
      "2  NaN  8.0  12.0\n",
      "3  4.0  9.0  13.0\n",
      "4  5.0  NaN  14.0\n",
      "Dropped Columns: \n",
      "     A    B     C\n",
      "0  1.0  6.0  10.0\n",
      "3  4.0  9.0  13.0\n",
      "Dropped Rows: \n",
      "     A    B     C\n",
      "0  1.0  6.0  10.0\n",
      "3  4.0  9.0  13.0\n",
      "Ignore Columns: \n",
      "     A    B     C\n",
      "0  1.0  6.0  10.0\n",
      "3  4.0  9.0  13.0\n",
      "Imputed Mean: \n",
      "     A    B      C\n",
      "0  1.0  6.0  10.00\n",
      "1  2.0  7.0  12.25\n",
      "2  3.0  8.0  12.00\n",
      "3  4.0  9.0  13.00\n",
      "4  5.0  7.5  14.00\n"
     ]
    }
   ],
   "execution_count": 24
  },
  {
   "metadata": {
    "ExecuteTime": {
     "end_time": "2024-11-21T11:54:57.115022Z",
     "start_time": "2024-11-21T11:54:56.879271Z"
    }
   },
   "cell_type": "code",
   "source": [
    "# Noisy Data\n",
    "'''\n",
    "    The noisy data can cause the miss out relationship between target and features, their occurrences can significantly\n",
    "    impact prediction of any useful information. and cause algorithm to miss out patterns in the data.\n",
    "'''\n",
    "data = {\n",
    "    'Age': [25, 30, 35, 40, 45, 50, 55, 60, 65, 70],\n",
    "    'Income': [50000, 60000, 70000, 80000, 90000, 100000, 110000, 120000, 130000, 140000]\n",
    "}\n",
    "df = pd.DataFrame(data)\n",
    "\n",
    "# 1. Binning\n",
    "df['AgeBin'] = pd.cut(df['Age'], bins=[0,30,40,50,100], labels=['Young', 'Adult', 'Middle-Aged', 'Senior'])\n",
    "print(f'Binned Ages: \\n{df.head()}')\n",
    "\n",
    "# 2. Regression\n",
    "from sklearn.linear_model import LinearRegression\n",
    "X = np.array([1, 2, 3, 4, 5]).reshape(-1, 1)\n",
    "y = np.array([2, 4, 6, 8, 10])\n",
    "\n",
    "regression = LinearRegression()\n",
    "regression.fit(X, y)\n",
    "\n",
    "X_new = np.array([6,7,8]).reshape(-1, 1)\n",
    "predictions = regression.predict(X_new)\n",
    "print(f'Predicted Values: \\n{predictions}')\n",
    "\n",
    "# 3. Clustering\n",
    "from sklearn.cluster import KMeans\n",
    "from sklearn.datasets import make_blobs\n",
    "\n",
    "X, _ = make_blobs(n_samples=100, centers=3, random_state=0)\n",
    "kmeans = KMeans(n_clusters=3, random_state=0).fit(X)\n",
    "\n",
    "new_data = np.array([[0,0], [4,4]])\n",
    "predictions = kmeans.predict(new_data)\n",
    "print(f'Kmeans Prediction: \\n{predictions}')"
   ],
   "id": "ae3ed58a18231cc7",
   "outputs": [
    {
     "name": "stdout",
     "output_type": "stream",
     "text": [
      "Binned Ages: \n",
      "   Age  Income       AgeBin\n",
      "0   25   50000        Young\n",
      "1   30   60000        Young\n",
      "2   35   70000        Adult\n",
      "3   40   80000        Adult\n",
      "4   45   90000  Middle-Aged\n",
      "Predicted Values: \n",
      "[12. 14. 16.]\n",
      "Kmeans Prediction: \n",
      "[1 1]\n"
     ]
    }
   ],
   "execution_count": 30
  },
  {
   "metadata": {
    "ExecuteTime": {
     "end_time": "2024-11-21T13:09:54.743899Z",
     "start_time": "2024-11-21T13:09:54.613961Z"
    }
   },
   "cell_type": "code",
   "source": [
    "# Continuation\n",
    "# Outliers\n",
    "import numpy as np\n",
    "import pandas as pd\n",
    "from sklearn.ensemble import IsolationForest\n",
    "from sklearn.neighbors import LocalOutlierFactor\n",
    "from scipy.stats import zscore\n",
    "from sklearn.cluster import DBSCAN\n",
    "import seaborn as sns\n",
    "\n",
    "data = {\n",
    "    'Feature1': [1, 2, 3, 4, 1000],\n",
    "    'Feature2': [5, 6, 7, 8, 2000],\n",
    "    'Context': ['A', 'A', 'A', 'A', 'B']\n",
    "}\n",
    "df = pd.DataFrame(data)\n",
    "print(df.head())\n",
    "\n",
    "# 1. Global Outlier\n",
    "sns.boxplot(x=df['Feature1'])\n",
    "plt.show()\n",
    "global_outliers = []\n",
    "z_scores = zscore(df['Feature1'])\n",
    "outliers = np.where(np.abs(z_scores) > 3)\n",
    "print(outliers)\n",
    "\n",
    "# 2. Contextual Outlier\n",
    "def calculate_contextual_zscores(group):\n",
    "    return zscore(group['Feature1'])\n",
    "\n",
    "df['Z_Score_Feature1'] = df.groupby('Context')['Feature1'].transform(calculate_contextual_zscores)\n",
    "\n",
    "# Identify outliers\n",
    "outliers = df[np.abs(df['Z_Score_Feature1']) > 3]\n",
    "print(\"Outliers:\\n\", outliers)\n",
    "\n",
    "# 3. Collective Outlier\n",
    "X = df.drop('Context', axis=1)\n",
    "dbscan = DBSCAN(eps=0.3, min_samples=2)\n",
    "dbscan.fit(X)\n",
    "collective_outliers = np.where(dbscan.labels_ == -1)[0]\n",
    "print(f'DBSCAN Outliers: \\n{collective_outliers}')"
   ],
   "id": "25c5667ea995286f",
   "outputs": [
    {
     "name": "stdout",
     "output_type": "stream",
     "text": [
      "   Feature1  Feature2 Context\n",
      "0         1         5       A\n",
      "1         2         6       A\n",
      "2         3         7       A\n",
      "3         4         8       A\n",
      "4      1000      2000       B\n"
     ]
    },
    {
     "data": {
      "text/plain": [
       "<Figure size 640x480 with 1 Axes>"
      ],
      "image/png": "[encoded data removed]"
     },
     "metadata": {},
     "output_type": "display_data"
    },
    {
     "name": "stdout",
     "output_type": "stream",
     "text": [
      "(array([], dtype=int64),)\n"
     ]
    },
    {
     "ename": "KeyError",
     "evalue": "'Feature1'",
     "output_type": "error",
     "traceback": [
      "\u001B[0;31m---------------------------------------------------------------------------\u001B[0m",
      "\u001B[0;31mKeyError\u001B[0m                                  Traceback (most recent call last)",
      "File \u001B[0;32m/opt/anaconda3/envs/learning/lib/python3.12/site-packages/pandas/core/indexes/base.py:3805\u001B[0m, in \u001B[0;36mIndex.get_loc\u001B[0;34m(self, key)\u001B[0m\n\u001B[1;32m   3804\u001B[0m \u001B[38;5;28;01mtry\u001B[39;00m:\n\u001B[0;32m-> 3805\u001B[0m     \u001B[38;5;28;01mreturn\u001B[39;00m \u001B[38;5;28mself\u001B[39m\u001B[38;5;241m.\u001B[39m_engine\u001B[38;5;241m.\u001B[39mget_loc(casted_key)\n\u001B[1;32m   3806\u001B[0m \u001B[38;5;28;01mexcept\u001B[39;00m \u001B[38;5;167;01mKeyError\u001B[39;00m \u001B[38;5;28;01mas\u001B[39;00m err:\n",
      "File \u001B[0;32mindex.pyx:167\u001B[0m, in \u001B[0;36mpandas._libs.index.IndexEngine.get_loc\u001B[0;34m()\u001B[0m\n",
      "File \u001B[0;32mindex.pyx:175\u001B[0m, in \u001B[0;36mpandas._libs.index.IndexEngine.get_loc\u001B[0;34m()\u001B[0m\n",
      "File \u001B[0;32mpandas/_libs/index_class_helper.pxi:70\u001B[0m, in \u001B[0;36mpandas._libs.index.Int64Engine._check_type\u001B[0;34m()\u001B[0m\n",
      "\u001B[0;31mKeyError\u001B[0m: 'Feature1'",
      "\nThe above exception was the direct cause of the following exception:\n",
      "\u001B[0;31mKeyError\u001B[0m                                  Traceback (most recent call last)",
      "Cell \u001B[0;32mIn[51], line 31\u001B[0m\n\u001B[1;32m     28\u001B[0m \u001B[38;5;28;01mdef\u001B[39;00m \u001B[38;5;21mcalculate_contextual_zscores\u001B[39m(group):\n\u001B[1;32m     29\u001B[0m     \u001B[38;5;28;01mreturn\u001B[39;00m zscore(group[\u001B[38;5;124m'\u001B[39m\u001B[38;5;124mFeature1\u001B[39m\u001B[38;5;124m'\u001B[39m])\n\u001B[0;32m---> 31\u001B[0m df[\u001B[38;5;124m'\u001B[39m\u001B[38;5;124mZ_Score_Feature1\u001B[39m\u001B[38;5;124m'\u001B[39m] \u001B[38;5;241m=\u001B[39m df\u001B[38;5;241m.\u001B[39mgroupby(\u001B[38;5;124m'\u001B[39m\u001B[38;5;124mContext\u001B[39m\u001B[38;5;124m'\u001B[39m)[\u001B[38;5;124m'\u001B[39m\u001B[38;5;124mFeature1\u001B[39m\u001B[38;5;124m'\u001B[39m]\u001B[38;5;241m.\u001B[39mtransform(calculate_contextual_zscores)\n\u001B[1;32m     33\u001B[0m \u001B[38;5;66;03m# Identify outliers\u001B[39;00m\n\u001B[1;32m     34\u001B[0m outliers \u001B[38;5;241m=\u001B[39m df[np\u001B[38;5;241m.\u001B[39mabs(df[\u001B[38;5;124m'\u001B[39m\u001B[38;5;124mZ_Score_Feature1\u001B[39m\u001B[38;5;124m'\u001B[39m]) \u001B[38;5;241m>\u001B[39m \u001B[38;5;241m3\u001B[39m]\n",
      "File \u001B[0;32m/opt/anaconda3/envs/learning/lib/python3.12/site-packages/pandas/core/groupby/generic.py:517\u001B[0m, in \u001B[0;36mSeriesGroupBy.transform\u001B[0;34m(self, func, engine, engine_kwargs, *args, **kwargs)\u001B[0m\n\u001B[1;32m    514\u001B[0m \u001B[38;5;129m@Substitution\u001B[39m(klass\u001B[38;5;241m=\u001B[39m\u001B[38;5;124m\"\u001B[39m\u001B[38;5;124mSeries\u001B[39m\u001B[38;5;124m\"\u001B[39m, example\u001B[38;5;241m=\u001B[39m__examples_series_doc)\n\u001B[1;32m    515\u001B[0m \u001B[38;5;129m@Appender\u001B[39m(_transform_template)\n\u001B[1;32m    516\u001B[0m \u001B[38;5;28;01mdef\u001B[39;00m \u001B[38;5;21mtransform\u001B[39m(\u001B[38;5;28mself\u001B[39m, func, \u001B[38;5;241m*\u001B[39margs, engine\u001B[38;5;241m=\u001B[39m\u001B[38;5;28;01mNone\u001B[39;00m, engine_kwargs\u001B[38;5;241m=\u001B[39m\u001B[38;5;28;01mNone\u001B[39;00m, \u001B[38;5;241m*\u001B[39m\u001B[38;5;241m*\u001B[39mkwargs):\n\u001B[0;32m--> 517\u001B[0m     \u001B[38;5;28;01mreturn\u001B[39;00m \u001B[38;5;28mself\u001B[39m\u001B[38;5;241m.\u001B[39m_transform(\n\u001B[1;32m    518\u001B[0m         func, \u001B[38;5;241m*\u001B[39margs, engine\u001B[38;5;241m=\u001B[39mengine, engine_kwargs\u001B[38;5;241m=\u001B[39mengine_kwargs, \u001B[38;5;241m*\u001B[39m\u001B[38;5;241m*\u001B[39mkwargs\n\u001B[1;32m    519\u001B[0m     )\n",
      "File \u001B[0;32m/opt/anaconda3/envs/learning/lib/python3.12/site-packages/pandas/core/groupby/groupby.py:2021\u001B[0m, in \u001B[0;36mGroupBy._transform\u001B[0;34m(self, func, engine, engine_kwargs, *args, **kwargs)\u001B[0m\n\u001B[1;32m   2018\u001B[0m     warn_alias_replacement(\u001B[38;5;28mself\u001B[39m, orig_func, func)\n\u001B[1;32m   2020\u001B[0m \u001B[38;5;28;01mif\u001B[39;00m \u001B[38;5;129;01mnot\u001B[39;00m \u001B[38;5;28misinstance\u001B[39m(func, \u001B[38;5;28mstr\u001B[39m):\n\u001B[0;32m-> 2021\u001B[0m     \u001B[38;5;28;01mreturn\u001B[39;00m \u001B[38;5;28mself\u001B[39m\u001B[38;5;241m.\u001B[39m_transform_general(func, engine, engine_kwargs, \u001B[38;5;241m*\u001B[39margs, \u001B[38;5;241m*\u001B[39m\u001B[38;5;241m*\u001B[39mkwargs)\n\u001B[1;32m   2023\u001B[0m \u001B[38;5;28;01melif\u001B[39;00m func \u001B[38;5;129;01mnot\u001B[39;00m \u001B[38;5;129;01min\u001B[39;00m base\u001B[38;5;241m.\u001B[39mtransform_kernel_allowlist:\n\u001B[1;32m   2024\u001B[0m     msg \u001B[38;5;241m=\u001B[39m \u001B[38;5;124mf\u001B[39m\u001B[38;5;124m\"\u001B[39m\u001B[38;5;124m'\u001B[39m\u001B[38;5;132;01m{\u001B[39;00mfunc\u001B[38;5;132;01m}\u001B[39;00m\u001B[38;5;124m'\u001B[39m\u001B[38;5;124m is not a valid function name for transform(name)\u001B[39m\u001B[38;5;124m\"\u001B[39m\n",
      "File \u001B[0;32m/opt/anaconda3/envs/learning/lib/python3.12/site-packages/pandas/core/groupby/generic.py:557\u001B[0m, in \u001B[0;36mSeriesGroupBy._transform_general\u001B[0;34m(self, func, engine, engine_kwargs, *args, **kwargs)\u001B[0m\n\u001B[1;32m    552\u001B[0m \u001B[38;5;28;01mfor\u001B[39;00m name, group \u001B[38;5;129;01min\u001B[39;00m \u001B[38;5;28mself\u001B[39m\u001B[38;5;241m.\u001B[39m_grouper\u001B[38;5;241m.\u001B[39mget_iterator(\n\u001B[1;32m    553\u001B[0m     \u001B[38;5;28mself\u001B[39m\u001B[38;5;241m.\u001B[39m_obj_with_exclusions, axis\u001B[38;5;241m=\u001B[39m\u001B[38;5;28mself\u001B[39m\u001B[38;5;241m.\u001B[39maxis\n\u001B[1;32m    554\u001B[0m ):\n\u001B[1;32m    555\u001B[0m     \u001B[38;5;66;03m# this setattr is needed for test_transform_lambda_with_datetimetz\u001B[39;00m\n\u001B[1;32m    556\u001B[0m     \u001B[38;5;28mobject\u001B[39m\u001B[38;5;241m.\u001B[39m\u001B[38;5;21m__setattr__\u001B[39m(group, \u001B[38;5;124m\"\u001B[39m\u001B[38;5;124mname\u001B[39m\u001B[38;5;124m\"\u001B[39m, name)\n\u001B[0;32m--> 557\u001B[0m     res \u001B[38;5;241m=\u001B[39m func(group, \u001B[38;5;241m*\u001B[39margs, \u001B[38;5;241m*\u001B[39m\u001B[38;5;241m*\u001B[39mkwargs)\n\u001B[1;32m    559\u001B[0m     results\u001B[38;5;241m.\u001B[39mappend(klass(res, index\u001B[38;5;241m=\u001B[39mgroup\u001B[38;5;241m.\u001B[39mindex))\n\u001B[1;32m    561\u001B[0m \u001B[38;5;66;03m# check for empty \"results\" to avoid concat ValueError\u001B[39;00m\n",
      "Cell \u001B[0;32mIn[51], line 29\u001B[0m, in \u001B[0;36mcalculate_contextual_zscores\u001B[0;34m(group)\u001B[0m\n\u001B[1;32m     28\u001B[0m \u001B[38;5;28;01mdef\u001B[39;00m \u001B[38;5;21mcalculate_contextual_zscores\u001B[39m(group):\n\u001B[0;32m---> 29\u001B[0m     \u001B[38;5;28;01mreturn\u001B[39;00m zscore(group[\u001B[38;5;124m'\u001B[39m\u001B[38;5;124mFeature1\u001B[39m\u001B[38;5;124m'\u001B[39m])\n",
      "File \u001B[0;32m/opt/anaconda3/envs/learning/lib/python3.12/site-packages/pandas/core/series.py:1121\u001B[0m, in \u001B[0;36mSeries.__getitem__\u001B[0;34m(self, key)\u001B[0m\n\u001B[1;32m   1118\u001B[0m     \u001B[38;5;28;01mreturn\u001B[39;00m \u001B[38;5;28mself\u001B[39m\u001B[38;5;241m.\u001B[39m_values[key]\n\u001B[1;32m   1120\u001B[0m \u001B[38;5;28;01melif\u001B[39;00m key_is_scalar:\n\u001B[0;32m-> 1121\u001B[0m     \u001B[38;5;28;01mreturn\u001B[39;00m \u001B[38;5;28mself\u001B[39m\u001B[38;5;241m.\u001B[39m_get_value(key)\n\u001B[1;32m   1123\u001B[0m \u001B[38;5;66;03m# Convert generator to list before going through hashable part\u001B[39;00m\n\u001B[1;32m   1124\u001B[0m \u001B[38;5;66;03m# (We will iterate through the generator there to check for slices)\u001B[39;00m\n\u001B[1;32m   1125\u001B[0m \u001B[38;5;28;01mif\u001B[39;00m is_iterator(key):\n",
      "File \u001B[0;32m/opt/anaconda3/envs/learning/lib/python3.12/site-packages/pandas/core/series.py:1237\u001B[0m, in \u001B[0;36mSeries._get_value\u001B[0;34m(self, label, takeable)\u001B[0m\n\u001B[1;32m   1234\u001B[0m     \u001B[38;5;28;01mreturn\u001B[39;00m \u001B[38;5;28mself\u001B[39m\u001B[38;5;241m.\u001B[39m_values[label]\n\u001B[1;32m   1236\u001B[0m \u001B[38;5;66;03m# Similar to Index.get_value, but we do not fall back to positional\u001B[39;00m\n\u001B[0;32m-> 1237\u001B[0m loc \u001B[38;5;241m=\u001B[39m \u001B[38;5;28mself\u001B[39m\u001B[38;5;241m.\u001B[39mindex\u001B[38;5;241m.\u001B[39mget_loc(label)\n\u001B[1;32m   1239\u001B[0m \u001B[38;5;28;01mif\u001B[39;00m is_integer(loc):\n\u001B[1;32m   1240\u001B[0m     \u001B[38;5;28;01mreturn\u001B[39;00m \u001B[38;5;28mself\u001B[39m\u001B[38;5;241m.\u001B[39m_values[loc]\n",
      "File \u001B[0;32m/opt/anaconda3/envs/learning/lib/python3.12/site-packages/pandas/core/indexes/base.py:3812\u001B[0m, in \u001B[0;36mIndex.get_loc\u001B[0;34m(self, key)\u001B[0m\n\u001B[1;32m   3807\u001B[0m     \u001B[38;5;28;01mif\u001B[39;00m \u001B[38;5;28misinstance\u001B[39m(casted_key, \u001B[38;5;28mslice\u001B[39m) \u001B[38;5;129;01mor\u001B[39;00m (\n\u001B[1;32m   3808\u001B[0m         \u001B[38;5;28misinstance\u001B[39m(casted_key, abc\u001B[38;5;241m.\u001B[39mIterable)\n\u001B[1;32m   3809\u001B[0m         \u001B[38;5;129;01mand\u001B[39;00m \u001B[38;5;28many\u001B[39m(\u001B[38;5;28misinstance\u001B[39m(x, \u001B[38;5;28mslice\u001B[39m) \u001B[38;5;28;01mfor\u001B[39;00m x \u001B[38;5;129;01min\u001B[39;00m casted_key)\n\u001B[1;32m   3810\u001B[0m     ):\n\u001B[1;32m   3811\u001B[0m         \u001B[38;5;28;01mraise\u001B[39;00m InvalidIndexError(key)\n\u001B[0;32m-> 3812\u001B[0m     \u001B[38;5;28;01mraise\u001B[39;00m \u001B[38;5;167;01mKeyError\u001B[39;00m(key) \u001B[38;5;28;01mfrom\u001B[39;00m \u001B[38;5;21;01merr\u001B[39;00m\n\u001B[1;32m   3813\u001B[0m \u001B[38;5;28;01mexcept\u001B[39;00m \u001B[38;5;167;01mTypeError\u001B[39;00m:\n\u001B[1;32m   3814\u001B[0m     \u001B[38;5;66;03m# If we have a listlike key, _check_indexing_error will raise\u001B[39;00m\n\u001B[1;32m   3815\u001B[0m     \u001B[38;5;66;03m#  InvalidIndexError. Otherwise we fall through and re-raise\u001B[39;00m\n\u001B[1;32m   3816\u001B[0m     \u001B[38;5;66;03m#  the TypeError.\u001B[39;00m\n\u001B[1;32m   3817\u001B[0m     \u001B[38;5;28mself\u001B[39m\u001B[38;5;241m.\u001B[39m_check_indexing_error(key)\n",
      "\u001B[0;31mKeyError\u001B[0m: 'Feature1'"
     ]
    }
   ],
   "execution_count": 51
  },
  {
   "metadata": {
    "ExecuteTime": {
     "end_time": "2024-11-21T12:49:48.317946Z",
     "start_time": "2024-11-21T12:49:47.764125Z"
    }
   },
   "cell_type": "code",
   "source": [
    "import numpy as np\n",
    "import pandas as pd\n",
    "import matplotlib.pyplot as plt\n",
    "from sklearn.datasets import fetch_california_housing\n",
    "X, y = fetch_california_housing(as_frame=True, return_X_y=True)\n",
    "X.describe()"
   ],
   "id": "6a85faa79ab15a54",
   "outputs": [
    {
     "data": {
      "text/plain": [
       "             MedInc      HouseAge      AveRooms     AveBedrms    Population  \\\n",
       "count  20640.000000  20640.000000  20640.000000  20640.000000  20640.000000   \n",
       "mean       3.870671     28.639486      5.429000      1.096675   1425.476744   \n",
       "std        1.899822     12.585558      2.474173      0.473911   1132.462122   \n",
       "min        0.499900      1.000000      0.846154      0.333333      3.000000   \n",
       "25%        2.563400     18.000000      4.440716      1.006079    787.000000   \n",
       "50%        3.534800     29.000000      5.229129      1.048780   1166.000000   \n",
       "75%        4.743250     37.000000      6.052381      1.099526   1725.000000   \n",
       "max       15.000100     52.000000    141.909091     34.066667  35682.000000   \n",
       "\n",
       "           AveOccup      Latitude     Longitude  \n",
       "count  20640.000000  20640.000000  20640.000000  \n",
       "mean       3.070655     35.631861   -119.569704  \n",
       "std       10.386050      2.135952      2.003532  \n",
       "min        0.692308     32.540000   -124.350000  \n",
       "25%        2.429741     33.930000   -121.800000  \n",
       "50%        2.818116     34.260000   -118.490000  \n",
       "75%        3.282261     37.710000   -118.010000  \n",
       "max     1243.333333     41.950000   -114.310000  "
      ],
      "text/html": [
       "<div>\n",
       "<style scoped>\n",
       "    .dataframe tbody tr th:only-of-type {\n",
       "        vertical-align: middle;\n",
       "    }\n",
       "\n",
       "    .dataframe tbody tr th {\n",
       "        vertical-align: top;\n",
       "    }\n",
       "\n",
       "    .dataframe thead th {\n",
       "        text-align: right;\n",
       "    }\n",
       "</style>\n",
       "<table border=\"1\" class=\"dataframe\">\n",
       "  <thead>\n",
       "    <tr style=\"text-align: right;\">\n",
       "      <th></th>\n",
       "      <th>MedInc</th>\n",
       "      <th>HouseAge</th>\n",
       "      <th>AveRooms</th>\n",
       "      <th>AveBedrms</th>\n",
       "      <th>Population</th>\n",
       "      <th>AveOccup</th>\n",
       "      <th>Latitude</th>\n",
       "      <th>Longitude</th>\n",
       "    </tr>\n",
       "  </thead>\n",
       "  <tbody>\n",
       "    <tr>\n",
       "      <th>count</th>\n",
       "      <td>20640.000000</td>\n",
       "      <td>20640.000000</td>\n",
       "      <td>20640.000000</td>\n",
       "      <td>20640.000000</td>\n",
       "      <td>20640.000000</td>\n",
       "      <td>20640.000000</td>\n",
       "      <td>20640.000000</td>\n",
       "      <td>20640.000000</td>\n",
       "    </tr>\n",
       "    <tr>\n",
       "      <th>mean</th>\n",
       "      <td>3.870671</td>\n",
       "      <td>28.639486</td>\n",
       "      <td>5.429000</td>\n",
       "      <td>1.096675</td>\n",
       "      <td>1425.476744</td>\n",
       "      <td>3.070655</td>\n",
       "      <td>35.631861</td>\n",
       "      <td>-119.569704</td>\n",
       "    </tr>\n",
       "    <tr>\n",
       "      <th>std</th>\n",
       "      <td>1.899822</td>\n",
       "      <td>12.585558</td>\n",
       "      <td>2.474173</td>\n",
       "      <td>0.473911</td>\n",
       "      <td>1132.462122</td>\n",
       "      <td>10.386050</td>\n",
       "      <td>2.135952</td>\n",
       "      <td>2.003532</td>\n",
       "    </tr>\n",
       "    <tr>\n",
       "      <th>min</th>\n",
       "      <td>0.499900</td>\n",
       "      <td>1.000000</td>\n",
       "      <td>0.846154</td>\n",
       "      <td>0.333333</td>\n",
       "      <td>3.000000</td>\n",
       "      <td>0.692308</td>\n",
       "      <td>32.540000</td>\n",
       "      <td>-124.350000</td>\n",
       "    </tr>\n",
       "    <tr>\n",
       "      <th>25%</th>\n",
       "      <td>2.563400</td>\n",
       "      <td>18.000000</td>\n",
       "      <td>4.440716</td>\n",
       "      <td>1.006079</td>\n",
       "      <td>787.000000</td>\n",
       "      <td>2.429741</td>\n",
       "      <td>33.930000</td>\n",
       "      <td>-121.800000</td>\n",
       "    </tr>\n",
       "    <tr>\n",
       "      <th>50%</th>\n",
       "      <td>3.534800</td>\n",
       "      <td>29.000000</td>\n",
       "      <td>5.229129</td>\n",
       "      <td>1.048780</td>\n",
       "      <td>1166.000000</td>\n",
       "      <td>2.818116</td>\n",
       "      <td>34.260000</td>\n",
       "      <td>-118.490000</td>\n",
       "    </tr>\n",
       "    <tr>\n",
       "      <th>75%</th>\n",
       "      <td>4.743250</td>\n",
       "      <td>37.000000</td>\n",
       "      <td>6.052381</td>\n",
       "      <td>1.099526</td>\n",
       "      <td>1725.000000</td>\n",
       "      <td>3.282261</td>\n",
       "      <td>37.710000</td>\n",
       "      <td>-118.010000</td>\n",
       "    </tr>\n",
       "    <tr>\n",
       "      <th>max</th>\n",
       "      <td>15.000100</td>\n",
       "      <td>52.000000</td>\n",
       "      <td>141.909091</td>\n",
       "      <td>34.066667</td>\n",
       "      <td>35682.000000</td>\n",
       "      <td>1243.333333</td>\n",
       "      <td>41.950000</td>\n",
       "      <td>-114.310000</td>\n",
       "    </tr>\n",
       "  </tbody>\n",
       "</table>\n",
       "</div>"
      ]
     },
     "execution_count": 39,
     "metadata": {},
     "output_type": "execute_result"
    }
   ],
   "execution_count": 39
  },
  {
   "metadata": {
    "ExecuteTime": {
     "end_time": "2024-11-21T12:50:42.653339Z",
     "start_time": "2024-11-21T12:50:42.650984Z"
    }
   },
   "cell_type": "code",
   "source": [
    "cols = X.columns.tolist()[:-2]\n",
    "cols"
   ],
   "id": "a1bbd64306433202",
   "outputs": [
    {
     "data": {
      "text/plain": [
       "['MedInc', 'HouseAge', 'AveRooms', 'AveBedrms', 'Population', 'AveOccup']"
      ]
     },
     "execution_count": 41,
     "metadata": {},
     "output_type": "execute_result"
    }
   ],
   "execution_count": 41
  },
  {
   "metadata": {
    "ExecuteTime": {
     "end_time": "2024-11-21T12:53:54.811282Z",
     "start_time": "2024-11-21T12:53:54.610288Z"
    }
   },
   "cell_type": "code",
   "source": [
    "fig, ax = plt.subplots(2,3, figsize=(10,5))\n",
    "ax = ax.ravel()\n",
    "for i, k in enumerate(cols):\n",
    "    ax[i].scatter(y, X[k])\n",
    "    ax[i].set_title(f'{cols[i]} vs Price')\n",
    "    ax[i].set_xlabel(f'Price')\n",
    "    ax[i].set_ylabel(f'{cols[i]}')\n",
    "plt.tight_layout()\n",
    "plt.show()"
   ],
   "id": "7c3cbbc2d8674c33",
   "outputs": [
    {
     "data": {
      "text/plain": [
       "<Figure size 1000x500 with 6 Axes>"
      ],
      "image/png": "[encoded data removed]"
     },
     "metadata": {},
     "output_type": "display_data"
    }
   ],
   "execution_count": 42
  },
  {
   "metadata": {
    "ExecuteTime": {
     "end_time": "2024-11-21T12:58:59.729338Z",
     "start_time": "2024-11-21T12:58:59.491898Z"
    }
   },
   "cell_type": "code",
   "source": [
    "# Outlier detection using boxplot\n",
    "import seaborn as sns\n",
    "selected_columns = [col for col in X.columns if col not in ['Latitude', 'Longitude']]\n",
    "plt.figure(figsize=(10,5))\n",
    "for i, col in enumerate(selected_columns, start=1):\n",
    "    plt.subplot(3,3,i)\n",
    "    sns.boxplot(y=X[col], width=0.4, color='skyblue')\n",
    "    plt.xlabel(col)\n",
    "    plt.title(f'Boxplot for {col}')\n",
    "\n",
    "plt.tight_layout()\n",
    "plt.show()"
   ],
   "id": "572b98ac70b030be",
   "outputs": [
    {
     "data": {
      "text/plain": [
       "<Figure size 1000x500 with 6 Axes>"
      ],
      "image/png": "[encoded data removed]"
     },
     "metadata": {},
     "output_type": "display_data"
    }
   ],
   "execution_count": 43
  },
  {
   "metadata": {
    "ExecuteTime": {
     "end_time": "2024-11-21T13:00:48.661892Z",
     "start_time": "2024-11-21T13:00:48.656631Z"
    }
   },
   "cell_type": "code",
   "source": [
    "# Outlier using z score\n",
    "z_scores = np.abs(zscore(X['Population']))\n",
    "outlier_indices = np.where(np.abs(z_scores) > 3)\n",
    "outlier_indices"
   ],
   "id": "dc2c9a5060d80a4f",
   "outputs": [
    {
     "data": {
      "text/plain": [
       "(array([  283,   570,   576,   780,   799,   864,   865,   867,   869,\n",
       "          871,   922,   985,   995,  1010,  1021,  1039,  1060,  1086,\n",
       "         1560,  1642,  1700,  1930,  2025,  2119,  2294,  2311,  2963,\n",
       "         2975,  2978,  2999,  3004,  3167,  3177,  3413,  3554,  3560,\n",
       "         3603,  3607,  3621,  3648,  3829,  3871,  3942,  3981,  4035,\n",
       "         4264,  4266,  4267,  4579,  4616,  4634,  4636,  4670,  5540,\n",
       "         5724,  5815,  5921,  5924,  5963,  5964,  5968,  5983,  6055,\n",
       "         6057,  6058,  6061,  6063,  6065,  6066,  6070,  6143,  6287,\n",
       "         6289,  6297,  6298,  6303,  6328,  6329,  6338,  6340,  6401,\n",
       "         6502,  6516,  6518,  6550,  6844,  7130,  7357,  7361,  7617,\n",
       "         7864,  7907,  8467,  8468,  8520,  8716,  8717,  8728,  8804,\n",
       "         8985,  8986,  9004,  9013,  9018,  9019,  9027,  9036,  9040,\n",
       "         9064,  9081,  9084,  9114,  9118,  9122,  9123,  9128,  9131,\n",
       "         9133,  9135,  9145,  9149,  9154,  9159,  9166,  9167,  9170,\n",
       "         9172,  9183,  9185,  9282,  9286,  9289,  9331,  9579,  9692,\n",
       "         9693,  9697,  9716,  9744,  9748,  9880,  9881, 10309, 10539,\n",
       "        10664, 10842, 10910, 10921, 10934, 10948, 10957, 10997, 11066,\n",
       "        11067, 11083, 11349, 11775, 11960, 11970, 11976, 11982, 11989,\n",
       "        12002, 12006, 12022, 12039, 12040, 12041, 12067, 12072, 12077,\n",
       "        12097, 12106, 12109, 12114, 12115, 12119, 12122, 12126, 12127,\n",
       "        12128, 12129, 12132, 12133, 12135, 12137, 12144, 12152, 12191,\n",
       "        12194, 12201, 12204, 12214, 12215, 12218, 12227, 12258, 12365,\n",
       "        12411, 12422, 12441, 12623, 12658, 12663, 12671, 12703, 12813,\n",
       "        12814, 12817, 12868, 12872, 12954, 12957, 13034, 13047, 13051,\n",
       "        13053, 13080, 13098, 13099, 13132, 13139, 13176, 13181, 13182,\n",
       "        13221, 13223, 13226, 13316, 13370, 13377, 13378, 13379, 13382,\n",
       "        13383, 13387, 13399, 13403, 13422, 13423, 13424, 13459, 13517,\n",
       "        13519, 13715, 13788, 13816, 13834, 13848, 13878, 13889, 13890,\n",
       "        14209, 14471, 14505, 14515, 14543, 14553, 14558, 14756, 14913,\n",
       "        14931, 14959, 15049, 15059, 15061, 15105, 15108, 15114, 15117,\n",
       "        15183, 15203, 15215, 15220, 15286, 15336, 15337, 15360, 15413,\n",
       "        15459, 15491, 15523, 15524, 15526, 15527, 15533, 15544, 15574,\n",
       "        15579, 16559, 16606, 16669, 16818, 16820, 16839, 17024, 17073,\n",
       "        17185, 17413, 17460, 17551, 17690, 17752, 17754, 17761, 17770,\n",
       "        17777, 17845, 18209, 18346, 18349, 18462, 18745, 18860, 18875,\n",
       "        18911, 18926, 18980, 18985, 19006, 19421, 19452, 19574, 19658,\n",
       "        20121, 20249, 20278, 20305, 20308, 20316, 20318, 20333, 20336,\n",
       "        20424, 20427, 20440, 20451, 20529, 20530, 20544, 20563, 20629]),)"
      ]
     },
     "execution_count": 44,
     "metadata": {},
     "output_type": "execute_result"
    }
   ],
   "execution_count": 44
  },
  {
   "metadata": {
    "ExecuteTime": {
     "end_time": "2024-11-21T13:23:13.816694Z",
     "start_time": "2024-11-21T13:23:13.808487Z"
    }
   },
   "cell_type": "code",
   "source": [
    "# transformation\n",
    "df = pd.DataFrame({\"x\":[120, 40, 3, None, None,34], \"y\":[17, 12, None, 23, None,56],\n",
    "                   \"z\":[200, 216, 101, None, 8,78],\n",
    "                   \"a\":[114, 31, None, 12, 63,32]})\n",
    "\n",
    "df.index = ['R1', 'R2', 'R3', 'R4', 'R5','R6']\n",
    "res_log = df.transform(func = ['log', 'exp'])\n",
    "\n",
    "print(res_log)"
   ],
   "id": "308d3d455bc49925",
   "outputs": [
    {
     "name": "stdout",
     "output_type": "stream",
     "text": [
      "           x                       y                       z                \\\n",
      "         log           exp       log           exp       log           exp   \n",
      "R1  4.787492  1.304181e+52  2.833213  2.415495e+07  5.298317  7.225974e+86   \n",
      "R2  3.688879  2.353853e+17  2.484907  1.627548e+05  5.375278  6.421080e+93   \n",
      "R3  1.098612  2.008554e+01       NaN           NaN  4.615121  7.307060e+43   \n",
      "R4       NaN           NaN  3.135494  9.744803e+09       NaN           NaN   \n",
      "R5       NaN           NaN       NaN           NaN  2.079442  2.980958e+03   \n",
      "R6  3.526361  5.834617e+14  4.025352  2.091659e+24  4.356709  7.498417e+33   \n",
      "\n",
      "           a                \n",
      "         log           exp  \n",
      "R1  4.736198  3.232741e+49  \n",
      "R2  3.433987  2.904885e+13  \n",
      "R3       NaN           NaN  \n",
      "R4  2.484907  1.627548e+05  \n",
      "R5  4.143135  2.293783e+27  \n",
      "R6  3.465736  7.896296e+13  \n"
     ]
    }
   ],
   "execution_count": 56
  },
  {
   "metadata": {
    "ExecuteTime": {
     "end_time": "2024-11-21T13:23:58.146786Z",
     "start_time": "2024-11-21T13:23:58.142817Z"
    }
   },
   "cell_type": "code",
   "source": [
    "# Grouping\n",
    "employees = pd.DataFrame({\"Name\":[\"A\",\"B\",\"C\",\"D\",\"E\",\"F\"], \"Department\":[\"Finance\",\"Human Resources\",\"Finance\",\"Supply Chain\",\"IT\",\"Marketing\"], \"Income\":[3000,6000,8000,5500,2300,4400], \"Age\":[20,25,30,40,21,42]})\n",
    "employees.head()"
   ],
   "id": "2a38ceff9a9b8f83",
   "outputs": [
    {
     "data": {
      "text/plain": [
       "  Name       Department  Income  Age\n",
       "0    A          Finance    3000   20\n",
       "1    B  Human Resources    6000   25\n",
       "2    C          Finance    8000   30\n",
       "3    D     Supply Chain    5500   40\n",
       "4    E               IT    2300   21"
      ],
      "text/html": [
       "<div>\n",
       "<style scoped>\n",
       "    .dataframe tbody tr th:only-of-type {\n",
       "        vertical-align: middle;\n",
       "    }\n",
       "\n",
       "    .dataframe tbody tr th {\n",
       "        vertical-align: top;\n",
       "    }\n",
       "\n",
       "    .dataframe thead th {\n",
       "        text-align: right;\n",
       "    }\n",
       "</style>\n",
       "<table border=\"1\" class=\"dataframe\">\n",
       "  <thead>\n",
       "    <tr style=\"text-align: right;\">\n",
       "      <th></th>\n",
       "      <th>Name</th>\n",
       "      <th>Department</th>\n",
       "      <th>Income</th>\n",
       "      <th>Age</th>\n",
       "    </tr>\n",
       "  </thead>\n",
       "  <tbody>\n",
       "    <tr>\n",
       "      <th>0</th>\n",
       "      <td>A</td>\n",
       "      <td>Finance</td>\n",
       "      <td>3000</td>\n",
       "      <td>20</td>\n",
       "    </tr>\n",
       "    <tr>\n",
       "      <th>1</th>\n",
       "      <td>B</td>\n",
       "      <td>Human Resources</td>\n",
       "      <td>6000</td>\n",
       "      <td>25</td>\n",
       "    </tr>\n",
       "    <tr>\n",
       "      <th>2</th>\n",
       "      <td>C</td>\n",
       "      <td>Finance</td>\n",
       "      <td>8000</td>\n",
       "      <td>30</td>\n",
       "    </tr>\n",
       "    <tr>\n",
       "      <th>3</th>\n",
       "      <td>D</td>\n",
       "      <td>Supply Chain</td>\n",
       "      <td>5500</td>\n",
       "      <td>40</td>\n",
       "    </tr>\n",
       "    <tr>\n",
       "      <th>4</th>\n",
       "      <td>E</td>\n",
       "      <td>IT</td>\n",
       "      <td>2300</td>\n",
       "      <td>21</td>\n",
       "    </tr>\n",
       "  </tbody>\n",
       "</table>\n",
       "</div>"
      ]
     },
     "execution_count": 57,
     "metadata": {},
     "output_type": "execute_result"
    }
   ],
   "execution_count": 57
  },
  {
   "metadata": {
    "ExecuteTime": {
     "end_time": "2024-11-21T13:26:40.833019Z",
     "start_time": "2024-11-21T13:26:40.830772Z"
    }
   },
   "cell_type": "code",
   "source": "employees.dtypes",
   "id": "bde7e6262fb8c93a",
   "outputs": [
    {
     "data": {
      "text/plain": [
       "Name          object\n",
       "Department    object\n",
       "Income         int64\n",
       "Age            int64\n",
       "dtype: object"
      ]
     },
     "execution_count": 66,
     "metadata": {},
     "output_type": "execute_result"
    }
   ],
   "execution_count": 66
  },
  {
   "metadata": {
    "ExecuteTime": {
     "end_time": "2024-11-21T14:14:02.642127Z",
     "start_time": "2024-11-21T14:14:02.573496Z"
    }
   },
   "cell_type": "code",
   "source": [
    "emp = employees.groupby('Department')[['Age', 'Income']].mean()\n",
    "for i, k in enumerate(['Age', 'Income'], start=1):\n",
    "    print(i)\n",
    "    plt.subplot(2,1,i)\n",
    "    plt.bar(emp.index, emp[k])\n",
    "    plt.xlabel('Department')\n",
    "    plt.ylabel(f'Average {k}')\n",
    "plt.tight_layout()\n",
    "plt.show()"
   ],
   "id": "c532cd9f733fe94",
   "outputs": [
    {
     "name": "stdout",
     "output_type": "stream",
     "text": [
      "1\n",
      "2\n"
     ]
    },
    {
     "data": {
      "text/plain": [
       "<Figure size 640x480 with 2 Axes>"
      ],
      "image/png": "[encoded data removed]"
     },
     "metadata": {},
     "output_type": "display_data"
    }
   ],
   "execution_count": 87
  },
  {
   "metadata": {},
   "cell_type": "code",
   "outputs": [],
   "execution_count": null,
   "source": "",
   "id": "89be6db750bea7ca"
  }
 ],
 "metadata": {
  "kernelspec": {
   "display_name": "Python 3",
   "language": "python",
   "name": "python3"
  },
  "language_info": {
   "codemirror_mode": {
    "name": "ipython",
    "version": 2
   },
   "file_extension": ".py",
   "mimetype": "text/x-python",
   "name": "python",
   "nbconvert_exporter": "python",
   "pygments_lexer": "ipython2",
   "version": "2.7.6"
  }
 },
 "nbformat": 4,
 "nbformat_minor": 5
}
