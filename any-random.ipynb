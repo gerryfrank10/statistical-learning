{
 "cells": [
  {
   "cell_type": "code",
   "id": "initial_id",
   "metadata": {
    "collapsed": true,
    "ExecuteTime": {
     "end_time": "2024-11-21T00:14:07.494822Z",
     "start_time": "2024-11-21T00:14:07.222148Z"
    }
   },
   "source": [
    "import pandas as pd\n",
    "from jupyterlab.semver import valid"
   ],
   "outputs": [],
   "execution_count": 1
  },
  {
   "metadata": {
    "ExecuteTime": {
     "end_time": "2024-11-21T00:14:26.123531Z",
     "start_time": "2024-11-21T00:14:26.108301Z"
    }
   },
   "cell_type": "code",
   "source": [
    "data = {'col1': [1, 2, 3],\n",
    "        'col2': [4, 5, 6],}\n",
    "df = pd.DataFrame(data)\n",
    "df.head()"
   ],
   "id": "3a21836656c89399",
   "outputs": [
    {
     "data": {
      "text/plain": [
       "   col1  col2\n",
       "0     1     4\n",
       "1     2     5\n",
       "2     3     6"
      ],
      "text/html": [
       "<div>\n",
       "<style scoped>\n",
       "    .dataframe tbody tr th:only-of-type {\n",
       "        vertical-align: middle;\n",
       "    }\n",
       "\n",
       "    .dataframe tbody tr th {\n",
       "        vertical-align: top;\n",
       "    }\n",
       "\n",
       "    .dataframe thead th {\n",
       "        text-align: right;\n",
       "    }\n",
       "</style>\n",
       "<table border=\"1\" class=\"dataframe\">\n",
       "  <thead>\n",
       "    <tr style=\"text-align: right;\">\n",
       "      <th></th>\n",
       "      <th>col1</th>\n",
       "      <th>col2</th>\n",
       "    </tr>\n",
       "  </thead>\n",
       "  <tbody>\n",
       "    <tr>\n",
       "      <th>0</th>\n",
       "      <td>1</td>\n",
       "      <td>4</td>\n",
       "    </tr>\n",
       "    <tr>\n",
       "      <th>1</th>\n",
       "      <td>2</td>\n",
       "      <td>5</td>\n",
       "    </tr>\n",
       "    <tr>\n",
       "      <th>2</th>\n",
       "      <td>3</td>\n",
       "      <td>6</td>\n",
       "    </tr>\n",
       "  </tbody>\n",
       "</table>\n",
       "</div>"
      ]
     },
     "execution_count": 2,
     "metadata": {},
     "output_type": "execute_result"
    }
   ],
   "execution_count": 2
  },
  {
   "metadata": {
    "ExecuteTime": {
     "end_time": "2024-11-21T00:15:22.852437Z",
     "start_time": "2024-11-21T00:15:22.842950Z"
    }
   },
   "cell_type": "code",
   "source": [
    "df['col3'] = df['col1'].apply(lambda x : x**2)\n",
    "df.head()"
   ],
   "id": "d45097a760ef6f12",
   "outputs": [
    {
     "data": {
      "text/plain": [
       "   col1  col2  col3\n",
       "0     1     4     1\n",
       "1     2     5     4\n",
       "2     3     6     9"
      ],
      "text/html": [
       "<div>\n",
       "<style scoped>\n",
       "    .dataframe tbody tr th:only-of-type {\n",
       "        vertical-align: middle;\n",
       "    }\n",
       "\n",
       "    .dataframe tbody tr th {\n",
       "        vertical-align: top;\n",
       "    }\n",
       "\n",
       "    .dataframe thead th {\n",
       "        text-align: right;\n",
       "    }\n",
       "</style>\n",
       "<table border=\"1\" class=\"dataframe\">\n",
       "  <thead>\n",
       "    <tr style=\"text-align: right;\">\n",
       "      <th></th>\n",
       "      <th>col1</th>\n",
       "      <th>col2</th>\n",
       "      <th>col3</th>\n",
       "    </tr>\n",
       "  </thead>\n",
       "  <tbody>\n",
       "    <tr>\n",
       "      <th>0</th>\n",
       "      <td>1</td>\n",
       "      <td>4</td>\n",
       "      <td>1</td>\n",
       "    </tr>\n",
       "    <tr>\n",
       "      <th>1</th>\n",
       "      <td>2</td>\n",
       "      <td>5</td>\n",
       "      <td>4</td>\n",
       "    </tr>\n",
       "    <tr>\n",
       "      <th>2</th>\n",
       "      <td>3</td>\n",
       "      <td>6</td>\n",
       "      <td>9</td>\n",
       "    </tr>\n",
       "  </tbody>\n",
       "</table>\n",
       "</div>"
      ]
     },
     "execution_count": 3,
     "metadata": {},
     "output_type": "execute_result"
    }
   ],
   "execution_count": 3
  },
  {
   "metadata": {
    "ExecuteTime": {
     "end_time": "2024-11-21T00:17:11.745893Z",
     "start_time": "2024-11-21T00:17:11.742980Z"
    }
   },
   "cell_type": "code",
   "source": [
    "data = {'col1': [1, 2, None, 4, 5],\n",
    "        'col2': ['A', 'B', None, 'D', 'E'],\n",
    "        'col3': ['X', 'Y', 'Z', 'X', 'Y']}\n",
    "df = pd.DataFrame(data)\n",
    "missing_values = df.isnull().any()\n",
    "print(f'Missing values: \\n{missing_values}')"
   ],
   "id": "f59646c77b05ee0b",
   "outputs": [
    {
     "name": "stdout",
     "output_type": "stream",
     "text": [
      "Missing values: \n",
      "col1     True\n",
      "col2     True\n",
      "col3    False\n",
      "dtype: bool\n"
     ]
    }
   ],
   "execution_count": 7
  },
  {
   "metadata": {
    "ExecuteTime": {
     "end_time": "2024-11-21T00:17:06.842617Z",
     "start_time": "2024-11-21T00:17:06.838166Z"
    }
   },
   "cell_type": "code",
   "source": [
    "duplicate_values = df.nunique()\n",
    "print(f'Duplicate values: \\n{duplicate_values}')"
   ],
   "id": "dd99eb4d6a3afc36",
   "outputs": [
    {
     "name": "stdout",
     "output_type": "stream",
     "text": [
      "Duplicate values: \n",
      "col1    4\n",
      "col2    4\n",
      "col3    3\n",
      "dtype: int64\n"
     ]
    }
   ],
   "execution_count": 6
  },
  {
   "metadata": {
    "ExecuteTime": {
     "end_time": "2024-11-25T01:04:25.530406Z",
     "start_time": "2024-11-25T01:04:25.525931Z"
    }
   },
   "cell_type": "code",
   "source": [
    "# Fibonacci Algorithm sum of the last two elements\n",
    "next_elem = [0, 1]\n",
    "for i in range(0, 10):\n",
    "    next_elem.append(next_elem[-1] + next_elem[-2])\n",
    "print(next_elem)\n",
    "\n",
    "# using recursion\n",
    "def F(n):\n",
    "    if n <=1:\n",
    "        return n\n",
    "    else:\n",
    "        return F(n-1) + F(n-2)\n",
    "print(F(10))"
   ],
   "id": "345486740e5fc49e",
   "outputs": [
    {
     "name": "stdout",
     "output_type": "stream",
     "text": [
      "[0, 1, 1, 2, 3, 5, 8, 13, 21, 34, 55, 89]\n",
      "55\n"
     ]
    }
   ],
   "execution_count": 31
  },
  {
   "metadata": {
    "ExecuteTime": {
     "end_time": "2024-11-25T01:23:47.750743Z",
     "start_time": "2024-11-25T01:23:47.746840Z"
    }
   },
   "cell_type": "code",
   "source": [
    "# Bubble Sort to find the smallest\n",
    "values = [7,12,9,11,3]\n",
    "\n",
    "for i in range(len(values)-1):\n",
    "    for j in range(len(values) -i -1):\n",
    "        if values[j] >= values[j + 1]:\n",
    "            values[j], values[j+1] = values[j+1], values[j]\n",
    "print(values)"
   ],
   "id": "425d7333f058d740",
   "outputs": [
    {
     "name": "stdout",
     "output_type": "stream",
     "text": [
      "[3, 7, 9, 11, 12]\n"
     ]
    }
   ],
   "execution_count": 48
  },
  {
   "metadata": {},
   "cell_type": "code",
   "outputs": [],
   "execution_count": null,
   "source": "",
   "id": "b2bee3133d97199f"
  }
 ],
 "metadata": {
  "kernelspec": {
   "display_name": "Python 3",
   "language": "python",
   "name": "python3"
  },
  "language_info": {
   "codemirror_mode": {
    "name": "ipython",
    "version": 2
   },
   "file_extension": ".py",
   "mimetype": "text/x-python",
   "name": "python",
   "nbconvert_exporter": "python",
   "pygments_lexer": "ipython2",
   "version": "2.7.6"
  }
 },
 "nbformat": 4,
 "nbformat_minor": 5
}
