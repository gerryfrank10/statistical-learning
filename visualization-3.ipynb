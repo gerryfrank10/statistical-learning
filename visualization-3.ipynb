{
 "cells": [
  {
   "cell_type": "code",
   "id": "initial_id",
   "metadata": {
    "collapsed": true,
    "ExecuteTime": {
     "end_time": "2024-11-23T21:09:51.295728Z",
     "start_time": "2024-11-23T21:09:51.292274Z"
    }
   },
   "source": [
    "import plotly.express as px\n",
    "import plotly.graph_objects as go\n",
    "from bokeh.models import ColumnDataSource"
   ],
   "outputs": [],
   "execution_count": 10
  },
  {
   "metadata": {
    "ExecuteTime": {
     "end_time": "2024-11-23T21:09:51.787066Z",
     "start_time": "2024-11-23T21:09:51.780855Z"
    }
   },
   "cell_type": "code",
   "source": [
    "# Line Chart\n",
    "x = [1, 2,3,4,5]\n",
    "y = [10, 15,7, 12,8]\n",
    "fig = go.Figure(data=go.Scatter(x=x, y=y, mode='lines'))\n",
    "fig.update_layout(title='Line Chart')\n",
    "fig.show()"
   ],
   "id": "644eda9b644c31be",
   "outputs": [
    {
     "data": {
      "application/vnd.plotly.v1+json": {
       "data": [
        {
         "mode": "lines",
         "x": [
          1,
          2,
          3,
          4,
          5
         ],
         "y": [
          10,
          15,
          7,
          12,
          8
         ],
         "type": "scatter"
        }
       ],
       "layout": {
        "template": {
         "data": {
          "histogram2dcontour": [
           {
            "type": "histogram2dcontour",
            "colorbar": {
             "outlinewidth": 0,
             "ticks": ""
            },
            "colorscale": [
             [
              0.0,
              "#0d0887"
             ],
             [
              0.1111111111111111,
              "#46039f"
             ],
             [
              0.2222222222222222,
              "#7201a8"
             ],
             [
              0.3333333333333333,
              "#9c179e"
             ],
             [
              0.4444444444444444,
              "#bd3786"
             ],
             [
              0.5555555555555556,
              "#d8576b"
             ],
             [
              0.6666666666666666,
              "#ed7953"
             ],
             [
              0.7777777777777778,
              "#fb9f3a"
             ],
             [
              0.8888888888888888,
              "#fdca26"
             ],
             [
              1.0,
              "#f0f921"
             ]
            ]
           }
          ],
          "choropleth": [
           {
            "type": "choropleth",
            "colorbar": {
             "outlinewidth": 0,
             "ticks": ""
            }
           }
          ],
          "histogram2d": [
           {
            "type": "histogram2d",
            "colorbar": {
             "outlinewidth": 0,
             "ticks": ""
            },
            "colorscale": [
             [
              0.0,
              "#0d0887"
             ],
             [
              0.1111111111111111,
              "#46039f"
             ],
             [
              0.2222222222222222,
              "#7201a8"
             ],
             [
              0.3333333333333333,
              "#9c179e"
             ],
             [
              0.4444444444444444,
              "#bd3786"
             ],
             [
              0.5555555555555556,
              "#d8576b"
             ],
             [
              0.6666666666666666,
              "#ed7953"
             ],
             [
              0.7777777777777778,
              "#fb9f3a"
             ],
             [
              0.8888888888888888,
              "#fdca26"
             ],
             [
              1.0,
              "#f0f921"
             ]
            ]
           }
          ],
          "heatmap": [
           {
            "type": "heatmap",
            "colorbar": {
             "outlinewidth": 0,
             "ticks": ""
            },
            "colorscale": [
             [
              0.0,
              "#0d0887"
             ],
             [
              0.1111111111111111,
              "#46039f"
             ],
             [
              0.2222222222222222,
              "#7201a8"
             ],
             [
              0.3333333333333333,
              "#9c179e"
             ],
             [
              0.4444444444444444,
              "#bd3786"
             ],
             [
              0.5555555555555556,
              "#d8576b"
             ],
             [
              0.6666666666666666,
              "#ed7953"
             ],
             [
              0.7777777777777778,
              "#fb9f3a"
             ],
             [
              0.8888888888888888,
              "#fdca26"
             ],
             [
              1.0,
              "#f0f921"
             ]
            ]
           }
          ],
          "heatmapgl": [
           {
            "type": "heatmapgl",
            "colorbar": {
             "outlinewidth": 0,
             "ticks": ""
            },
            "colorscale": [
             [
              0.0,
              "#0d0887"
             ],
             [
              0.1111111111111111,
              "#46039f"
             ],
             [
              0.2222222222222222,
              "#7201a8"
             ],
             [
              0.3333333333333333,
              "#9c179e"
             ],
             [
              0.4444444444444444,
              "#bd3786"
             ],
             [
              0.5555555555555556,
              "#d8576b"
             ],
             [
              0.6666666666666666,
              "#ed7953"
             ],
             [
              0.7777777777777778,
              "#fb9f3a"
             ],
             [
              0.8888888888888888,
              "#fdca26"
             ],
             [
              1.0,
              "#f0f921"
             ]
            ]
           }
          ],
          "contourcarpet": [
           {
            "type": "contourcarpet",
            "colorbar": {
             "outlinewidth": 0,
             "ticks": ""
            }
           }
          ],
          "contour": [
           {
            "type": "contour",
            "colorbar": {
             "outlinewidth": 0,
             "ticks": ""
            },
            "colorscale": [
             [
              0.0,
              "#0d0887"
             ],
             [
              0.1111111111111111,
              "#46039f"
             ],
             [
              0.2222222222222222,
              "#7201a8"
             ],
             [
              0.3333333333333333,
              "#9c179e"
             ],
             [
              0.4444444444444444,
              "#bd3786"
             ],
             [
              0.5555555555555556,
              "#d8576b"
             ],
             [
              0.6666666666666666,
              "#ed7953"
             ],
             [
              0.7777777777777778,
              "#fb9f3a"
             ],
             [
              0.8888888888888888,
              "#fdca26"
             ],
             [
              1.0,
              "#f0f921"
             ]
            ]
           }
          ],
          "surface": [
           {
            "type": "surface",
            "colorbar": {
             "outlinewidth": 0,
             "ticks": ""
            },
            "colorscale": [
             [
              0.0,
              "#0d0887"
             ],
             [
              0.1111111111111111,
              "#46039f"
             ],
             [
              0.2222222222222222,
              "#7201a8"
             ],
             [
              0.3333333333333333,
              "#9c179e"
             ],
             [
              0.4444444444444444,
              "#bd3786"
             ],
             [
              0.5555555555555556,
              "#d8576b"
             ],
             [
              0.6666666666666666,
              "#ed7953"
             ],
             [
              0.7777777777777778,
              "#fb9f3a"
             ],
             [
              0.8888888888888888,
              "#fdca26"
             ],
             [
              1.0,
              "#f0f921"
             ]
            ]
           }
          ],
          "mesh3d": [
           {
            "type": "mesh3d",
            "colorbar": {
             "outlinewidth": 0,
             "ticks": ""
            }
           }
          ],
          "scatter": [
           {
            "fillpattern": {
             "fillmode": "overlay",
             "size": 10,
             "solidity": 0.2
            },
            "type": "scatter"
           }
          ],
          "parcoords": [
           {
            "type": "parcoords",
            "line": {
             "colorbar": {
              "outlinewidth": 0,
              "ticks": ""
             }
            }
           }
          ],
          "scatterpolargl": [
           {
            "type": "scatterpolargl",
            "marker": {
             "colorbar": {
              "outlinewidth": 0,
              "ticks": ""
             }
            }
           }
          ],
          "bar": [
           {
            "error_x": {
             "color": "#2a3f5f"
            },
            "error_y": {
             "color": "#2a3f5f"
            },
            "marker": {
             "line": {
              "color": "#E5ECF6",
              "width": 0.5
             },
             "pattern": {
              "fillmode": "overlay",
              "size": 10,
              "solidity": 0.2
             }
            },
            "type": "bar"
           }
          ],
          "scattergeo": [
           {
            "type": "scattergeo",
            "marker": {
             "colorbar": {
              "outlinewidth": 0,
              "ticks": ""
             }
            }
           }
          ],
          "scatterpolar": [
           {
            "type": "scatterpolar",
            "marker": {
             "colorbar": {
              "outlinewidth": 0,
              "ticks": ""
             }
            }
           }
          ],
          "histogram": [
           {
            "marker": {
             "pattern": {
              "fillmode": "overlay",
              "size": 10,
              "solidity": 0.2
             }
            },
            "type": "histogram"
           }
          ],
          "scattergl": [
           {
            "type": "scattergl",
            "marker": {
             "colorbar": {
              "outlinewidth": 0,
              "ticks": ""
             }
            }
           }
          ],
          "scatter3d": [
           {
            "type": "scatter3d",
            "line": {
             "colorbar": {
              "outlinewidth": 0,
              "ticks": ""
             }
            },
            "marker": {
             "colorbar": {
              "outlinewidth": 0,
              "ticks": ""
             }
            }
           }
          ],
          "scattermapbox": [
           {
            "type": "scattermapbox",
            "marker": {
             "colorbar": {
              "outlinewidth": 0,
              "ticks": ""
             }
            }
           }
          ],
          "scatterternary": [
           {
            "type": "scatterternary",
            "marker": {
             "colorbar": {
              "outlinewidth": 0,
              "ticks": ""
             }
            }
           }
          ],
          "scattercarpet": [
           {
            "type": "scattercarpet",
            "marker": {
             "colorbar": {
              "outlinewidth": 0,
              "ticks": ""
             }
            }
           }
          ],
          "carpet": [
           {
            "aaxis": {
             "endlinecolor": "#2a3f5f",
             "gridcolor": "white",
             "linecolor": "white",
             "minorgridcolor": "white",
             "startlinecolor": "#2a3f5f"
            },
            "baxis": {
             "endlinecolor": "#2a3f5f",
             "gridcolor": "white",
             "linecolor": "white",
             "minorgridcolor": "white",
             "startlinecolor": "#2a3f5f"
            },
            "type": "carpet"
           }
          ],
          "table": [
           {
            "cells": {
             "fill": {
              "color": "#EBF0F8"
             },
             "line": {
              "color": "white"
             }
            },
            "header": {
             "fill": {
              "color": "#C8D4E3"
             },
             "line": {
              "color": "white"
             }
            },
            "type": "table"
           }
          ],
          "barpolar": [
           {
            "marker": {
             "line": {
              "color": "#E5ECF6",
              "width": 0.5
             },
             "pattern": {
              "fillmode": "overlay",
              "size": 10,
              "solidity": 0.2
             }
            },
            "type": "barpolar"
           }
          ],
          "pie": [
           {
            "automargin": true,
            "type": "pie"
           }
          ]
         },
         "layout": {
          "autotypenumbers": "strict",
          "colorway": [
           "#636efa",
           "#EF553B",
           "#00cc96",
           "#ab63fa",
           "#FFA15A",
           "#19d3f3",
           "#FF6692",
           "#B6E880",
           "#FF97FF",
           "#FECB52"
          ],
          "font": {
           "color": "#2a3f5f"
          },
          "hovermode": "closest",
          "hoverlabel": {
           "align": "left"
          },
          "paper_bgcolor": "white",
          "plot_bgcolor": "#E5ECF6",
          "polar": {
           "bgcolor": "#E5ECF6",
           "angularaxis": {
            "gridcolor": "white",
            "linecolor": "white",
            "ticks": ""
           },
           "radialaxis": {
            "gridcolor": "white",
            "linecolor": "white",
            "ticks": ""
           }
          },
          "ternary": {
           "bgcolor": "#E5ECF6",
           "aaxis": {
            "gridcolor": "white",
            "linecolor": "white",
            "ticks": ""
           },
           "baxis": {
            "gridcolor": "white",
            "linecolor": "white",
            "ticks": ""
           },
           "caxis": {
            "gridcolor": "white",
            "linecolor": "white",
            "ticks": ""
           }
          },
          "coloraxis": {
           "colorbar": {
            "outlinewidth": 0,
            "ticks": ""
           }
          },
          "colorscale": {
           "sequential": [
            [
             0.0,
             "#0d0887"
            ],
            [
             0.1111111111111111,
             "#46039f"
            ],
            [
             0.2222222222222222,
             "#7201a8"
            ],
            [
             0.3333333333333333,
             "#9c179e"
            ],
            [
             0.4444444444444444,
             "#bd3786"
            ],
            [
             0.5555555555555556,
             "#d8576b"
            ],
            [
             0.6666666666666666,
             "#ed7953"
            ],
            [
             0.7777777777777778,
             "#fb9f3a"
            ],
            [
             0.8888888888888888,
             "#fdca26"
            ],
            [
             1.0,
             "#f0f921"
            ]
           ],
           "sequentialminus": [
            [
             0.0,
             "#0d0887"
            ],
            [
             0.1111111111111111,
             "#46039f"
            ],
            [
             0.2222222222222222,
             "#7201a8"
            ],
            [
             0.3333333333333333,
             "#9c179e"
            ],
            [
             0.4444444444444444,
             "#bd3786"
            ],
            [
             0.5555555555555556,
             "#d8576b"
            ],
            [
             0.6666666666666666,
             "#ed7953"
            ],
            [
             0.7777777777777778,
             "#fb9f3a"
            ],
            [
             0.8888888888888888,
             "#fdca26"
            ],
            [
             1.0,
             "#f0f921"
            ]
           ],
           "diverging": [
            [
             0,
             "#8e0152"
            ],
            [
             0.1,
             "#c51b7d"
            ],
            [
             0.2,
             "#de77ae"
            ],
            [
             0.3,
             "#f1b6da"
            ],
            [
             0.4,
             "#fde0ef"
            ],
            [
             0.5,
             "#f7f7f7"
            ],
            [
             0.6,
             "#e6f5d0"
            ],
            [
             0.7,
             "#b8e186"
            ],
            [
             0.8,
             "#7fbc41"
            ],
            [
             0.9,
             "#4d9221"
            ],
            [
             1,
             "#276419"
            ]
           ]
          },
          "xaxis": {
           "gridcolor": "white",
           "linecolor": "white",
           "ticks": "",
           "title": {
            "standoff": 15
           },
           "zerolinecolor": "white",
           "automargin": true,
           "zerolinewidth": 2
          },
          "yaxis": {
           "gridcolor": "white",
           "linecolor": "white",
           "ticks": "",
           "title": {
            "standoff": 15
           },
           "zerolinecolor": "white",
           "automargin": true,
           "zerolinewidth": 2
          },
          "scene": {
           "xaxis": {
            "backgroundcolor": "#E5ECF6",
            "gridcolor": "white",
            "linecolor": "white",
            "showbackground": true,
            "ticks": "",
            "zerolinecolor": "white",
            "gridwidth": 2
           },
           "yaxis": {
            "backgroundcolor": "#E5ECF6",
            "gridcolor": "white",
            "linecolor": "white",
            "showbackground": true,
            "ticks": "",
            "zerolinecolor": "white",
            "gridwidth": 2
           },
           "zaxis": {
            "backgroundcolor": "#E5ECF6",
            "gridcolor": "white",
            "linecolor": "white",
            "showbackground": true,
            "ticks": "",
            "zerolinecolor": "white",
            "gridwidth": 2
           }
          },
          "shapedefaults": {
           "line": {
            "color": "#2a3f5f"
           }
          },
          "annotationdefaults": {
           "arrowcolor": "#2a3f5f",
           "arrowhead": 0,
           "arrowwidth": 1
          },
          "geo": {
           "bgcolor": "white",
           "landcolor": "#E5ECF6",
           "subunitcolor": "white",
           "showland": true,
           "showlakes": true,
           "lakecolor": "white"
          },
          "title": {
           "x": 0.05
          },
          "mapbox": {
           "style": "light"
          }
         }
        },
        "title": {
         "text": "Line Chart"
        }
       },
       "config": {
        "plotlyServerURL": "https://plot.ly"
       }
      },
      "text/html": [
       "<div>                            <div id=\"395737af-b9e6-45f4-bb2a-bb8c60998f5b\" class=\"plotly-graph-div\" style=\"height:525px; width:100%;\"></div>            <script type=\"text/javascript\">                require([\"plotly\"], function(Plotly) {                    window.PLOTLYENV=window.PLOTLYENV || {};                                    if (document.getElementById(\"395737af-b9e6-45f4-bb2a-bb8c60998f5b\")) {                    Plotly.newPlot(                        \"395737af-b9e6-45f4-bb2a-bb8c60998f5b\",                        [{\"mode\":\"lines\",\"x\":[1,2,3,4,5],\"y\":[10,15,7,12,8],\"type\":\"scatter\"}],                        {\"template\":{\"data\":{\"histogram2dcontour\":[{\"type\":\"histogram2dcontour\",\"colorbar\":{\"outlinewidth\":0,\"ticks\":\"\"},\"colorscale\":[[0.0,\"#0d0887\"],[0.1111111111111111,\"#46039f\"],[0.2222222222222222,\"#7201a8\"],[0.3333333333333333,\"#9c179e\"],[0.4444444444444444,\"#bd3786\"],[0.5555555555555556,\"#d8576b\"],[0.6666666666666666,\"#ed7953\"],[0.7777777777777778,\"#fb9f3a\"],[0.8888888888888888,\"#fdca26\"],[1.0,\"#f0f921\"]]}],\"choropleth\":[{\"type\":\"choropleth\",\"colorbar\":{\"outlinewidth\":0,\"ticks\":\"\"}}],\"histogram2d\":[{\"type\":\"histogram2d\",\"colorbar\":{\"outlinewidth\":0,\"ticks\":\"\"},\"colorscale\":[[0.0,\"#0d0887\"],[0.1111111111111111,\"#46039f\"],[0.2222222222222222,\"#7201a8\"],[0.3333333333333333,\"#9c179e\"],[0.4444444444444444,\"#bd3786\"],[0.5555555555555556,\"#d8576b\"],[0.6666666666666666,\"#ed7953\"],[0.7777777777777778,\"#fb9f3a\"],[0.8888888888888888,\"#fdca26\"],[1.0,\"#f0f921\"]]}],\"heatmap\":[{\"type\":\"heatmap\",\"colorbar\":{\"outlinewidth\":0,\"ticks\":\"\"},\"colorscale\":[[0.0,\"#0d0887\"],[0.1111111111111111,\"#46039f\"],[0.2222222222222222,\"#7201a8\"],[0.3333333333333333,\"#9c179e\"],[0.4444444444444444,\"#bd3786\"],[0.5555555555555556,\"#d8576b\"],[0.6666666666666666,\"#ed7953\"],[0.7777777777777778,\"#fb9f3a\"],[0.8888888888888888,\"#fdca26\"],[1.0,\"#f0f921\"]]}],\"heatmapgl\":[{\"type\":\"heatmapgl\",\"colorbar\":{\"outlinewidth\":0,\"ticks\":\"\"},\"colorscale\":[[0.0,\"#0d0887\"],[0.1111111111111111,\"#46039f\"],[0.2222222222222222,\"#7201a8\"],[0.3333333333333333,\"#9c179e\"],[0.4444444444444444,\"#bd3786\"],[0.5555555555555556,\"#d8576b\"],[0.6666666666666666,\"#ed7953\"],[0.7777777777777778,\"#fb9f3a\"],[0.8888888888888888,\"#fdca26\"],[1.0,\"#f0f921\"]]}],\"contourcarpet\":[{\"type\":\"contourcarpet\",\"colorbar\":{\"outlinewidth\":0,\"ticks\":\"\"}}],\"contour\":[{\"type\":\"contour\",\"colorbar\":{\"outlinewidth\":0,\"ticks\":\"\"},\"colorscale\":[[0.0,\"#0d0887\"],[0.1111111111111111,\"#46039f\"],[0.2222222222222222,\"#7201a8\"],[0.3333333333333333,\"#9c179e\"],[0.4444444444444444,\"#bd3786\"],[0.5555555555555556,\"#d8576b\"],[0.6666666666666666,\"#ed7953\"],[0.7777777777777778,\"#fb9f3a\"],[0.8888888888888888,\"#fdca26\"],[1.0,\"#f0f921\"]]}],\"surface\":[{\"type\":\"surface\",\"colorbar\":{\"outlinewidth\":0,\"ticks\":\"\"},\"colorscale\":[[0.0,\"#0d0887\"],[0.1111111111111111,\"#46039f\"],[0.2222222222222222,\"#7201a8\"],[0.3333333333333333,\"#9c179e\"],[0.4444444444444444,\"#bd3786\"],[0.5555555555555556,\"#d8576b\"],[0.6666666666666666,\"#ed7953\"],[0.7777777777777778,\"#fb9f3a\"],[0.8888888888888888,\"#fdca26\"],[1.0,\"#f0f921\"]]}],\"mesh3d\":[{\"type\":\"mesh3d\",\"colorbar\":{\"outlinewidth\":0,\"ticks\":\"\"}}],\"scatter\":[{\"fillpattern\":{\"fillmode\":\"overlay\",\"size\":10,\"solidity\":0.2},\"type\":\"scatter\"}],\"parcoords\":[{\"type\":\"parcoords\",\"line\":{\"colorbar\":{\"outlinewidth\":0,\"ticks\":\"\"}}}],\"scatterpolargl\":[{\"type\":\"scatterpolargl\",\"marker\":{\"colorbar\":{\"outlinewidth\":0,\"ticks\":\"\"}}}],\"bar\":[{\"error_x\":{\"color\":\"#2a3f5f\"},\"error_y\":{\"color\":\"#2a3f5f\"},\"marker\":{\"line\":{\"color\":\"#E5ECF6\",\"width\":0.5},\"pattern\":{\"fillmode\":\"overlay\",\"size\":10,\"solidity\":0.2}},\"type\":\"bar\"}],\"scattergeo\":[{\"type\":\"scattergeo\",\"marker\":{\"colorbar\":{\"outlinewidth\":0,\"ticks\":\"\"}}}],\"scatterpolar\":[{\"type\":\"scatterpolar\",\"marker\":{\"colorbar\":{\"outlinewidth\":0,\"ticks\":\"\"}}}],\"histogram\":[{\"marker\":{\"pattern\":{\"fillmode\":\"overlay\",\"size\":10,\"solidity\":0.2}},\"type\":\"histogram\"}],\"scattergl\":[{\"type\":\"scattergl\",\"marker\":{\"colorbar\":{\"outlinewidth\":0,\"ticks\":\"\"}}}],\"scatter3d\":[{\"type\":\"scatter3d\",\"line\":{\"colorbar\":{\"outlinewidth\":0,\"ticks\":\"\"}},\"marker\":{\"colorbar\":{\"outlinewidth\":0,\"ticks\":\"\"}}}],\"scattermapbox\":[{\"type\":\"scattermapbox\",\"marker\":{\"colorbar\":{\"outlinewidth\":0,\"ticks\":\"\"}}}],\"scatterternary\":[{\"type\":\"scatterternary\",\"marker\":{\"colorbar\":{\"outlinewidth\":0,\"ticks\":\"\"}}}],\"scattercarpet\":[{\"type\":\"scattercarpet\",\"marker\":{\"colorbar\":{\"outlinewidth\":0,\"ticks\":\"\"}}}],\"carpet\":[{\"aaxis\":{\"endlinecolor\":\"#2a3f5f\",\"gridcolor\":\"white\",\"linecolor\":\"white\",\"minorgridcolor\":\"white\",\"startlinecolor\":\"#2a3f5f\"},\"baxis\":{\"endlinecolor\":\"#2a3f5f\",\"gridcolor\":\"white\",\"linecolor\":\"white\",\"minorgridcolor\":\"white\",\"startlinecolor\":\"#2a3f5f\"},\"type\":\"carpet\"}],\"table\":[{\"cells\":{\"fill\":{\"color\":\"#EBF0F8\"},\"line\":{\"color\":\"white\"}},\"header\":{\"fill\":{\"color\":\"#C8D4E3\"},\"line\":{\"color\":\"white\"}},\"type\":\"table\"}],\"barpolar\":[{\"marker\":{\"line\":{\"color\":\"#E5ECF6\",\"width\":0.5},\"pattern\":{\"fillmode\":\"overlay\",\"size\":10,\"solidity\":0.2}},\"type\":\"barpolar\"}],\"pie\":[{\"automargin\":true,\"type\":\"pie\"}]},\"layout\":{\"autotypenumbers\":\"strict\",\"colorway\":[\"#636efa\",\"#EF553B\",\"#00cc96\",\"#ab63fa\",\"#FFA15A\",\"#19d3f3\",\"#FF6692\",\"#B6E880\",\"#FF97FF\",\"#FECB52\"],\"font\":{\"color\":\"#2a3f5f\"},\"hovermode\":\"closest\",\"hoverlabel\":{\"align\":\"left\"},\"paper_bgcolor\":\"white\",\"plot_bgcolor\":\"#E5ECF6\",\"polar\":{\"bgcolor\":\"#E5ECF6\",\"angularaxis\":{\"gridcolor\":\"white\",\"linecolor\":\"white\",\"ticks\":\"\"},\"radialaxis\":{\"gridcolor\":\"white\",\"linecolor\":\"white\",\"ticks\":\"\"}},\"ternary\":{\"bgcolor\":\"#E5ECF6\",\"aaxis\":{\"gridcolor\":\"white\",\"linecolor\":\"white\",\"ticks\":\"\"},\"baxis\":{\"gridcolor\":\"white\",\"linecolor\":\"white\",\"ticks\":\"\"},\"caxis\":{\"gridcolor\":\"white\",\"linecolor\":\"white\",\"ticks\":\"\"}},\"coloraxis\":{\"colorbar\":{\"outlinewidth\":0,\"ticks\":\"\"}},\"colorscale\":{\"sequential\":[[0.0,\"#0d0887\"],[0.1111111111111111,\"#46039f\"],[0.2222222222222222,\"#7201a8\"],[0.3333333333333333,\"#9c179e\"],[0.4444444444444444,\"#bd3786\"],[0.5555555555555556,\"#d8576b\"],[0.6666666666666666,\"#ed7953\"],[0.7777777777777778,\"#fb9f3a\"],[0.8888888888888888,\"#fdca26\"],[1.0,\"#f0f921\"]],\"sequentialminus\":[[0.0,\"#0d0887\"],[0.1111111111111111,\"#46039f\"],[0.2222222222222222,\"#7201a8\"],[0.3333333333333333,\"#9c179e\"],[0.4444444444444444,\"#bd3786\"],[0.5555555555555556,\"#d8576b\"],[0.6666666666666666,\"#ed7953\"],[0.7777777777777778,\"#fb9f3a\"],[0.8888888888888888,\"#fdca26\"],[1.0,\"#f0f921\"]],\"diverging\":[[0,\"#8e0152\"],[0.1,\"#c51b7d\"],[0.2,\"#de77ae\"],[0.3,\"#f1b6da\"],[0.4,\"#fde0ef\"],[0.5,\"#f7f7f7\"],[0.6,\"#e6f5d0\"],[0.7,\"#b8e186\"],[0.8,\"#7fbc41\"],[0.9,\"#4d9221\"],[1,\"#276419\"]]},\"xaxis\":{\"gridcolor\":\"white\",\"linecolor\":\"white\",\"ticks\":\"\",\"title\":{\"standoff\":15},\"zerolinecolor\":\"white\",\"automargin\":true,\"zerolinewidth\":2},\"yaxis\":{\"gridcolor\":\"white\",\"linecolor\":\"white\",\"ticks\":\"\",\"title\":{\"standoff\":15},\"zerolinecolor\":\"white\",\"automargin\":true,\"zerolinewidth\":2},\"scene\":{\"xaxis\":{\"backgroundcolor\":\"#E5ECF6\",\"gridcolor\":\"white\",\"linecolor\":\"white\",\"showbackground\":true,\"ticks\":\"\",\"zerolinecolor\":\"white\",\"gridwidth\":2},\"yaxis\":{\"backgroundcolor\":\"#E5ECF6\",\"gridcolor\":\"white\",\"linecolor\":\"white\",\"showbackground\":true,\"ticks\":\"\",\"zerolinecolor\":\"white\",\"gridwidth\":2},\"zaxis\":{\"backgroundcolor\":\"#E5ECF6\",\"gridcolor\":\"white\",\"linecolor\":\"white\",\"showbackground\":true,\"ticks\":\"\",\"zerolinecolor\":\"white\",\"gridwidth\":2}},\"shapedefaults\":{\"line\":{\"color\":\"#2a3f5f\"}},\"annotationdefaults\":{\"arrowcolor\":\"#2a3f5f\",\"arrowhead\":0,\"arrowwidth\":1},\"geo\":{\"bgcolor\":\"white\",\"landcolor\":\"#E5ECF6\",\"subunitcolor\":\"white\",\"showland\":true,\"showlakes\":true,\"lakecolor\":\"white\"},\"title\":{\"x\":0.05},\"mapbox\":{\"style\":\"light\"}}},\"title\":{\"text\":\"Line Chart\"}},                        {\"responsive\": true}                    ).then(function(){\n",
       "                            \n",
       "var gd = document.getElementById('395737af-b9e6-45f4-bb2a-bb8c60998f5b');\n",
       "var x = new MutationObserver(function (mutations, observer) {{\n",
       "        var display = window.getComputedStyle(gd).display;\n",
       "        if (!display || display === 'none') {{\n",
       "            console.log([gd, 'removed!']);\n",
       "            Plotly.purge(gd);\n",
       "            observer.disconnect();\n",
       "        }}\n",
       "}});\n",
       "\n",
       "// Listen for the removal of the full notebook cells\n",
       "var notebookContainer = gd.closest('#notebook-container');\n",
       "if (notebookContainer) {{\n",
       "    x.observe(notebookContainer, {childList: true});\n",
       "}}\n",
       "\n",
       "// Listen for the clearing of the current output cell\n",
       "var outputEl = gd.closest('.output');\n",
       "if (outputEl) {{\n",
       "    x.observe(outputEl, {childList: true});\n",
       "}}\n",
       "\n",
       "                        })                };                });            </script>        </div>"
      ]
     },
     "metadata": {},
     "output_type": "display_data"
    }
   ],
   "execution_count": 11
  },
  {
   "metadata": {
    "ExecuteTime": {
     "end_time": "2024-11-23T21:09:52.493419Z",
     "start_time": "2024-11-23T21:09:52.484479Z"
    }
   },
   "cell_type": "code",
   "source": [
    "# Column chart\n",
    "fig = go.Figure(data=[go.Scatter(x=x, y=y)])\n",
    "fig.update_layout(title='Column Chart')\n",
    "fig.show()"
   ],
   "id": "45b6fc1ecb69af35",
   "outputs": [
    {
     "data": {
      "application/vnd.plotly.v1+json": {
       "data": [
        {
         "x": [
          1,
          2,
          3,
          4,
          5
         ],
         "y": [
          10,
          15,
          7,
          12,
          8
         ],
         "type": "scatter"
        }
       ],
       "layout": {
        "template": {
         "data": {
          "histogram2dcontour": [
           {
            "type": "histogram2dcontour",
            "colorbar": {
             "outlinewidth": 0,
             "ticks": ""
            },
            "colorscale": [
             [
              0.0,
              "#0d0887"
             ],
             [
              0.1111111111111111,
              "#46039f"
             ],
             [
              0.2222222222222222,
              "#7201a8"
             ],
             [
              0.3333333333333333,
              "#9c179e"
             ],
             [
              0.4444444444444444,
              "#bd3786"
             ],
             [
              0.5555555555555556,
              "#d8576b"
             ],
             [
              0.6666666666666666,
              "#ed7953"
             ],
             [
              0.7777777777777778,
              "#fb9f3a"
             ],
             [
              0.8888888888888888,
              "#fdca26"
             ],
             [
              1.0,
              "#f0f921"
             ]
            ]
           }
          ],
          "choropleth": [
           {
            "type": "choropleth",
            "colorbar": {
             "outlinewidth": 0,
             "ticks": ""
            }
           }
          ],
          "histogram2d": [
           {
            "type": "histogram2d",
            "colorbar": {
             "outlinewidth": 0,
             "ticks": ""
            },
            "colorscale": [
             [
              0.0,
              "#0d0887"
             ],
             [
              0.1111111111111111,
              "#46039f"
             ],
             [
              0.2222222222222222,
              "#7201a8"
             ],
             [
              0.3333333333333333,
              "#9c179e"
             ],
             [
              0.4444444444444444,
              "#bd3786"
             ],
             [
              0.5555555555555556,
              "#d8576b"
             ],
             [
              0.6666666666666666,
              "#ed7953"
             ],
             [
              0.7777777777777778,
              "#fb9f3a"
             ],
             [
              0.8888888888888888,
              "#fdca26"
             ],
             [
              1.0,
              "#f0f921"
             ]
            ]
           }
          ],
          "heatmap": [
           {
            "type": "heatmap",
            "colorbar": {
             "outlinewidth": 0,
             "ticks": ""
            },
            "colorscale": [
             [
              0.0,
              "#0d0887"
             ],
             [
              0.1111111111111111,
              "#46039f"
             ],
             [
              0.2222222222222222,
              "#7201a8"
             ],
             [
              0.3333333333333333,
              "#9c179e"
             ],
             [
              0.4444444444444444,
              "#bd3786"
             ],
             [
              0.5555555555555556,
              "#d8576b"
             ],
             [
              0.6666666666666666,
              "#ed7953"
             ],
             [
              0.7777777777777778,
              "#fb9f3a"
             ],
             [
              0.8888888888888888,
              "#fdca26"
             ],
             [
              1.0,
              "#f0f921"
             ]
            ]
           }
          ],
          "heatmapgl": [
           {
            "type": "heatmapgl",
            "colorbar": {
             "outlinewidth": 0,
             "ticks": ""
            },
            "colorscale": [
             [
              0.0,
              "#0d0887"
             ],
             [
              0.1111111111111111,
              "#46039f"
             ],
             [
              0.2222222222222222,
              "#7201a8"
             ],
             [
              0.3333333333333333,
              "#9c179e"
             ],
             [
              0.4444444444444444,
              "#bd3786"
             ],
             [
              0.5555555555555556,
              "#d8576b"
             ],
             [
              0.6666666666666666,
              "#ed7953"
             ],
             [
              0.7777777777777778,
              "#fb9f3a"
             ],
             [
              0.8888888888888888,
              "#fdca26"
             ],
             [
              1.0,
              "#f0f921"
             ]
            ]
           }
          ],
          "contourcarpet": [
           {
            "type": "contourcarpet",
            "colorbar": {
             "outlinewidth": 0,
             "ticks": ""
            }
           }
          ],
          "contour": [
           {
            "type": "contour",
            "colorbar": {
             "outlinewidth": 0,
             "ticks": ""
            },
            "colorscale": [
             [
              0.0,
              "#0d0887"
             ],
             [
              0.1111111111111111,
              "#46039f"
             ],
             [
              0.2222222222222222,
              "#7201a8"
             ],
             [
              0.3333333333333333,
              "#9c179e"
             ],
             [
              0.4444444444444444,
              "#bd3786"
             ],
             [
              0.5555555555555556,
              "#d8576b"
             ],
             [
              0.6666666666666666,
              "#ed7953"
             ],
             [
              0.7777777777777778,
              "#fb9f3a"
             ],
             [
              0.8888888888888888,
              "#fdca26"
             ],
             [
              1.0,
              "#f0f921"
             ]
            ]
           }
          ],
          "surface": [
           {
            "type": "surface",
            "colorbar": {
             "outlinewidth": 0,
             "ticks": ""
            },
            "colorscale": [
             [
              0.0,
              "#0d0887"
             ],
             [
              0.1111111111111111,
              "#46039f"
             ],
             [
              0.2222222222222222,
              "#7201a8"
             ],
             [
              0.3333333333333333,
              "#9c179e"
             ],
             [
              0.4444444444444444,
              "#bd3786"
             ],
             [
              0.5555555555555556,
              "#d8576b"
             ],
             [
              0.6666666666666666,
              "#ed7953"
             ],
             [
              0.7777777777777778,
              "#fb9f3a"
             ],
             [
              0.8888888888888888,
              "#fdca26"
             ],
             [
              1.0,
              "#f0f921"
             ]
            ]
           }
          ],
          "mesh3d": [
           {
            "type": "mesh3d",
            "colorbar": {
             "outlinewidth": 0,
             "ticks": ""
            }
           }
          ],
          "scatter": [
           {
            "fillpattern": {
             "fillmode": "overlay",
             "size": 10,
             "solidity": 0.2
            },
            "type": "scatter"
           }
          ],
          "parcoords": [
           {
            "type": "parcoords",
            "line": {
             "colorbar": {
              "outlinewidth": 0,
              "ticks": ""
             }
            }
           }
          ],
          "scatterpolargl": [
           {
            "type": "scatterpolargl",
            "marker": {
             "colorbar": {
              "outlinewidth": 0,
              "ticks": ""
             }
            }
           }
          ],
          "bar": [
           {
            "error_x": {
             "color": "#2a3f5f"
            },
            "error_y": {
             "color": "#2a3f5f"
            },
            "marker": {
             "line": {
              "color": "#E5ECF6",
              "width": 0.5
             },
             "pattern": {
              "fillmode": "overlay",
              "size": 10,
              "solidity": 0.2
             }
            },
            "type": "bar"
           }
          ],
          "scattergeo": [
           {
            "type": "scattergeo",
            "marker": {
             "colorbar": {
              "outlinewidth": 0,
              "ticks": ""
             }
            }
           }
          ],
          "scatterpolar": [
           {
            "type": "scatterpolar",
            "marker": {
             "colorbar": {
              "outlinewidth": 0,
              "ticks": ""
             }
            }
           }
          ],
          "histogram": [
           {
            "marker": {
             "pattern": {
              "fillmode": "overlay",
              "size": 10,
              "solidity": 0.2
             }
            },
            "type": "histogram"
           }
          ],
          "scattergl": [
           {
            "type": "scattergl",
            "marker": {
             "colorbar": {
              "outlinewidth": 0,
              "ticks": ""
             }
            }
           }
          ],
          "scatter3d": [
           {
            "type": "scatter3d",
            "line": {
             "colorbar": {
              "outlinewidth": 0,
              "ticks": ""
             }
            },
            "marker": {
             "colorbar": {
              "outlinewidth": 0,
              "ticks": ""
             }
            }
           }
          ],
          "scattermapbox": [
           {
            "type": "scattermapbox",
            "marker": {
             "colorbar": {
              "outlinewidth": 0,
              "ticks": ""
             }
            }
           }
          ],
          "scatterternary": [
           {
            "type": "scatterternary",
            "marker": {
             "colorbar": {
              "outlinewidth": 0,
              "ticks": ""
             }
            }
           }
          ],
          "scattercarpet": [
           {
            "type": "scattercarpet",
            "marker": {
             "colorbar": {
              "outlinewidth": 0,
              "ticks": ""
             }
            }
           }
          ],
          "carpet": [
           {
            "aaxis": {
             "endlinecolor": "#2a3f5f",
             "gridcolor": "white",
             "linecolor": "white",
             "minorgridcolor": "white",
             "startlinecolor": "#2a3f5f"
            },
            "baxis": {
             "endlinecolor": "#2a3f5f",
             "gridcolor": "white",
             "linecolor": "white",
             "minorgridcolor": "white",
             "startlinecolor": "#2a3f5f"
            },
            "type": "carpet"
           }
          ],
          "table": [
           {
            "cells": {
             "fill": {
              "color": "#EBF0F8"
             },
             "line": {
              "color": "white"
             }
            },
            "header": {
             "fill": {
              "color": "#C8D4E3"
             },
             "line": {
              "color": "white"
             }
            },
            "type": "table"
           }
          ],
          "barpolar": [
           {
            "marker": {
             "line": {
              "color": "#E5ECF6",
              "width": 0.5
             },
             "pattern": {
              "fillmode": "overlay",
              "size": 10,
              "solidity": 0.2
             }
            },
            "type": "barpolar"
           }
          ],
          "pie": [
           {
            "automargin": true,
            "type": "pie"
           }
          ]
         },
         "layout": {
          "autotypenumbers": "strict",
          "colorway": [
           "#636efa",
           "#EF553B",
           "#00cc96",
           "#ab63fa",
           "#FFA15A",
           "#19d3f3",
           "#FF6692",
           "#B6E880",
           "#FF97FF",
           "#FECB52"
          ],
          "font": {
           "color": "#2a3f5f"
          },
          "hovermode": "closest",
          "hoverlabel": {
           "align": "left"
          },
          "paper_bgcolor": "white",
          "plot_bgcolor": "#E5ECF6",
          "polar": {
           "bgcolor": "#E5ECF6",
           "angularaxis": {
            "gridcolor": "white",
            "linecolor": "white",
            "ticks": ""
           },
           "radialaxis": {
            "gridcolor": "white",
            "linecolor": "white",
            "ticks": ""
           }
          },
          "ternary": {
           "bgcolor": "#E5ECF6",
           "aaxis": {
            "gridcolor": "white",
            "linecolor": "white",
            "ticks": ""
           },
           "baxis": {
            "gridcolor": "white",
            "linecolor": "white",
            "ticks": ""
           },
           "caxis": {
            "gridcolor": "white",
            "linecolor": "white",
            "ticks": ""
           }
          },
          "coloraxis": {
           "colorbar": {
            "outlinewidth": 0,
            "ticks": ""
           }
          },
          "colorscale": {
           "sequential": [
            [
             0.0,
             "#0d0887"
            ],
            [
             0.1111111111111111,
             "#46039f"
            ],
            [
             0.2222222222222222,
             "#7201a8"
            ],
            [
             0.3333333333333333,
             "#9c179e"
            ],
            [
             0.4444444444444444,
             "#bd3786"
            ],
            [
             0.5555555555555556,
             "#d8576b"
            ],
            [
             0.6666666666666666,
             "#ed7953"
            ],
            [
             0.7777777777777778,
             "#fb9f3a"
            ],
            [
             0.8888888888888888,
             "#fdca26"
            ],
            [
             1.0,
             "#f0f921"
            ]
           ],
           "sequentialminus": [
            [
             0.0,
             "#0d0887"
            ],
            [
             0.1111111111111111,
             "#46039f"
            ],
            [
             0.2222222222222222,
             "#7201a8"
            ],
            [
             0.3333333333333333,
             "#9c179e"
            ],
            [
             0.4444444444444444,
             "#bd3786"
            ],
            [
             0.5555555555555556,
             "#d8576b"
            ],
            [
             0.6666666666666666,
             "#ed7953"
            ],
            [
             0.7777777777777778,
             "#fb9f3a"
            ],
            [
             0.8888888888888888,
             "#fdca26"
            ],
            [
             1.0,
             "#f0f921"
            ]
           ],
           "diverging": [
            [
             0,
             "#8e0152"
            ],
            [
             0.1,
             "#c51b7d"
            ],
            [
             0.2,
             "#de77ae"
            ],
            [
             0.3,
             "#f1b6da"
            ],
            [
             0.4,
             "#fde0ef"
            ],
            [
             0.5,
             "#f7f7f7"
            ],
            [
             0.6,
             "#e6f5d0"
            ],
            [
             0.7,
             "#b8e186"
            ],
            [
             0.8,
             "#7fbc41"
            ],
            [
             0.9,
             "#4d9221"
            ],
            [
             1,
             "#276419"
            ]
           ]
          },
          "xaxis": {
           "gridcolor": "white",
           "linecolor": "white",
           "ticks": "",
           "title": {
            "standoff": 15
           },
           "zerolinecolor": "white",
           "automargin": true,
           "zerolinewidth": 2
          },
          "yaxis": {
           "gridcolor": "white",
           "linecolor": "white",
           "ticks": "",
           "title": {
            "standoff": 15
           },
           "zerolinecolor": "white",
           "automargin": true,
           "zerolinewidth": 2
          },
          "scene": {
           "xaxis": {
            "backgroundcolor": "#E5ECF6",
            "gridcolor": "white",
            "linecolor": "white",
            "showbackground": true,
            "ticks": "",
            "zerolinecolor": "white",
            "gridwidth": 2
           },
           "yaxis": {
            "backgroundcolor": "#E5ECF6",
            "gridcolor": "white",
            "linecolor": "white",
            "showbackground": true,
            "ticks": "",
            "zerolinecolor": "white",
            "gridwidth": 2
           },
           "zaxis": {
            "backgroundcolor": "#E5ECF6",
            "gridcolor": "white",
            "linecolor": "white",
            "showbackground": true,
            "ticks": "",
            "zerolinecolor": "white",
            "gridwidth": 2
           }
          },
          "shapedefaults": {
           "line": {
            "color": "#2a3f5f"
           }
          },
          "annotationdefaults": {
           "arrowcolor": "#2a3f5f",
           "arrowhead": 0,
           "arrowwidth": 1
          },
          "geo": {
           "bgcolor": "white",
           "landcolor": "#E5ECF6",
           "subunitcolor": "white",
           "showland": true,
           "showlakes": true,
           "lakecolor": "white"
          },
          "title": {
           "x": 0.05
          },
          "mapbox": {
           "style": "light"
          }
         }
        },
        "title": {
         "text": "Column Chart"
        }
       },
       "config": {
        "plotlyServerURL": "https://plot.ly"
       }
      },
      "text/html": [
       "<div>                            <div id=\"f97e5cd6-0f6b-4237-a5c6-966c82b3b2cf\" class=\"plotly-graph-div\" style=\"height:525px; width:100%;\"></div>            <script type=\"text/javascript\">                require([\"plotly\"], function(Plotly) {                    window.PLOTLYENV=window.PLOTLYENV || {};                                    if (document.getElementById(\"f97e5cd6-0f6b-4237-a5c6-966c82b3b2cf\")) {                    Plotly.newPlot(                        \"f97e5cd6-0f6b-4237-a5c6-966c82b3b2cf\",                        [{\"x\":[1,2,3,4,5],\"y\":[10,15,7,12,8],\"type\":\"scatter\"}],                        {\"template\":{\"data\":{\"histogram2dcontour\":[{\"type\":\"histogram2dcontour\",\"colorbar\":{\"outlinewidth\":0,\"ticks\":\"\"},\"colorscale\":[[0.0,\"#0d0887\"],[0.1111111111111111,\"#46039f\"],[0.2222222222222222,\"#7201a8\"],[0.3333333333333333,\"#9c179e\"],[0.4444444444444444,\"#bd3786\"],[0.5555555555555556,\"#d8576b\"],[0.6666666666666666,\"#ed7953\"],[0.7777777777777778,\"#fb9f3a\"],[0.8888888888888888,\"#fdca26\"],[1.0,\"#f0f921\"]]}],\"choropleth\":[{\"type\":\"choropleth\",\"colorbar\":{\"outlinewidth\":0,\"ticks\":\"\"}}],\"histogram2d\":[{\"type\":\"histogram2d\",\"colorbar\":{\"outlinewidth\":0,\"ticks\":\"\"},\"colorscale\":[[0.0,\"#0d0887\"],[0.1111111111111111,\"#46039f\"],[0.2222222222222222,\"#7201a8\"],[0.3333333333333333,\"#9c179e\"],[0.4444444444444444,\"#bd3786\"],[0.5555555555555556,\"#d8576b\"],[0.6666666666666666,\"#ed7953\"],[0.7777777777777778,\"#fb9f3a\"],[0.8888888888888888,\"#fdca26\"],[1.0,\"#f0f921\"]]}],\"heatmap\":[{\"type\":\"heatmap\",\"colorbar\":{\"outlinewidth\":0,\"ticks\":\"\"},\"colorscale\":[[0.0,\"#0d0887\"],[0.1111111111111111,\"#46039f\"],[0.2222222222222222,\"#7201a8\"],[0.3333333333333333,\"#9c179e\"],[0.4444444444444444,\"#bd3786\"],[0.5555555555555556,\"#d8576b\"],[0.6666666666666666,\"#ed7953\"],[0.7777777777777778,\"#fb9f3a\"],[0.8888888888888888,\"#fdca26\"],[1.0,\"#f0f921\"]]}],\"heatmapgl\":[{\"type\":\"heatmapgl\",\"colorbar\":{\"outlinewidth\":0,\"ticks\":\"\"},\"colorscale\":[[0.0,\"#0d0887\"],[0.1111111111111111,\"#46039f\"],[0.2222222222222222,\"#7201a8\"],[0.3333333333333333,\"#9c179e\"],[0.4444444444444444,\"#bd3786\"],[0.5555555555555556,\"#d8576b\"],[0.6666666666666666,\"#ed7953\"],[0.7777777777777778,\"#fb9f3a\"],[0.8888888888888888,\"#fdca26\"],[1.0,\"#f0f921\"]]}],\"contourcarpet\":[{\"type\":\"contourcarpet\",\"colorbar\":{\"outlinewidth\":0,\"ticks\":\"\"}}],\"contour\":[{\"type\":\"contour\",\"colorbar\":{\"outlinewidth\":0,\"ticks\":\"\"},\"colorscale\":[[0.0,\"#0d0887\"],[0.1111111111111111,\"#46039f\"],[0.2222222222222222,\"#7201a8\"],[0.3333333333333333,\"#9c179e\"],[0.4444444444444444,\"#bd3786\"],[0.5555555555555556,\"#d8576b\"],[0.6666666666666666,\"#ed7953\"],[0.7777777777777778,\"#fb9f3a\"],[0.8888888888888888,\"#fdca26\"],[1.0,\"#f0f921\"]]}],\"surface\":[{\"type\":\"surface\",\"colorbar\":{\"outlinewidth\":0,\"ticks\":\"\"},\"colorscale\":[[0.0,\"#0d0887\"],[0.1111111111111111,\"#46039f\"],[0.2222222222222222,\"#7201a8\"],[0.3333333333333333,\"#9c179e\"],[0.4444444444444444,\"#bd3786\"],[0.5555555555555556,\"#d8576b\"],[0.6666666666666666,\"#ed7953\"],[0.7777777777777778,\"#fb9f3a\"],[0.8888888888888888,\"#fdca26\"],[1.0,\"#f0f921\"]]}],\"mesh3d\":[{\"type\":\"mesh3d\",\"colorbar\":{\"outlinewidth\":0,\"ticks\":\"\"}}],\"scatter\":[{\"fillpattern\":{\"fillmode\":\"overlay\",\"size\":10,\"solidity\":0.2},\"type\":\"scatter\"}],\"parcoords\":[{\"type\":\"parcoords\",\"line\":{\"colorbar\":{\"outlinewidth\":0,\"ticks\":\"\"}}}],\"scatterpolargl\":[{\"type\":\"scatterpolargl\",\"marker\":{\"colorbar\":{\"outlinewidth\":0,\"ticks\":\"\"}}}],\"bar\":[{\"error_x\":{\"color\":\"#2a3f5f\"},\"error_y\":{\"color\":\"#2a3f5f\"},\"marker\":{\"line\":{\"color\":\"#E5ECF6\",\"width\":0.5},\"pattern\":{\"fillmode\":\"overlay\",\"size\":10,\"solidity\":0.2}},\"type\":\"bar\"}],\"scattergeo\":[{\"type\":\"scattergeo\",\"marker\":{\"colorbar\":{\"outlinewidth\":0,\"ticks\":\"\"}}}],\"scatterpolar\":[{\"type\":\"scatterpolar\",\"marker\":{\"colorbar\":{\"outlinewidth\":0,\"ticks\":\"\"}}}],\"histogram\":[{\"marker\":{\"pattern\":{\"fillmode\":\"overlay\",\"size\":10,\"solidity\":0.2}},\"type\":\"histogram\"}],\"scattergl\":[{\"type\":\"scattergl\",\"marker\":{\"colorbar\":{\"outlinewidth\":0,\"ticks\":\"\"}}}],\"scatter3d\":[{\"type\":\"scatter3d\",\"line\":{\"colorbar\":{\"outlinewidth\":0,\"ticks\":\"\"}},\"marker\":{\"colorbar\":{\"outlinewidth\":0,\"ticks\":\"\"}}}],\"scattermapbox\":[{\"type\":\"scattermapbox\",\"marker\":{\"colorbar\":{\"outlinewidth\":0,\"ticks\":\"\"}}}],\"scatterternary\":[{\"type\":\"scatterternary\",\"marker\":{\"colorbar\":{\"outlinewidth\":0,\"ticks\":\"\"}}}],\"scattercarpet\":[{\"type\":\"scattercarpet\",\"marker\":{\"colorbar\":{\"outlinewidth\":0,\"ticks\":\"\"}}}],\"carpet\":[{\"aaxis\":{\"endlinecolor\":\"#2a3f5f\",\"gridcolor\":\"white\",\"linecolor\":\"white\",\"minorgridcolor\":\"white\",\"startlinecolor\":\"#2a3f5f\"},\"baxis\":{\"endlinecolor\":\"#2a3f5f\",\"gridcolor\":\"white\",\"linecolor\":\"white\",\"minorgridcolor\":\"white\",\"startlinecolor\":\"#2a3f5f\"},\"type\":\"carpet\"}],\"table\":[{\"cells\":{\"fill\":{\"color\":\"#EBF0F8\"},\"line\":{\"color\":\"white\"}},\"header\":{\"fill\":{\"color\":\"#C8D4E3\"},\"line\":{\"color\":\"white\"}},\"type\":\"table\"}],\"barpolar\":[{\"marker\":{\"line\":{\"color\":\"#E5ECF6\",\"width\":0.5},\"pattern\":{\"fillmode\":\"overlay\",\"size\":10,\"solidity\":0.2}},\"type\":\"barpolar\"}],\"pie\":[{\"automargin\":true,\"type\":\"pie\"}]},\"layout\":{\"autotypenumbers\":\"strict\",\"colorway\":[\"#636efa\",\"#EF553B\",\"#00cc96\",\"#ab63fa\",\"#FFA15A\",\"#19d3f3\",\"#FF6692\",\"#B6E880\",\"#FF97FF\",\"#FECB52\"],\"font\":{\"color\":\"#2a3f5f\"},\"hovermode\":\"closest\",\"hoverlabel\":{\"align\":\"left\"},\"paper_bgcolor\":\"white\",\"plot_bgcolor\":\"#E5ECF6\",\"polar\":{\"bgcolor\":\"#E5ECF6\",\"angularaxis\":{\"gridcolor\":\"white\",\"linecolor\":\"white\",\"ticks\":\"\"},\"radialaxis\":{\"gridcolor\":\"white\",\"linecolor\":\"white\",\"ticks\":\"\"}},\"ternary\":{\"bgcolor\":\"#E5ECF6\",\"aaxis\":{\"gridcolor\":\"white\",\"linecolor\":\"white\",\"ticks\":\"\"},\"baxis\":{\"gridcolor\":\"white\",\"linecolor\":\"white\",\"ticks\":\"\"},\"caxis\":{\"gridcolor\":\"white\",\"linecolor\":\"white\",\"ticks\":\"\"}},\"coloraxis\":{\"colorbar\":{\"outlinewidth\":0,\"ticks\":\"\"}},\"colorscale\":{\"sequential\":[[0.0,\"#0d0887\"],[0.1111111111111111,\"#46039f\"],[0.2222222222222222,\"#7201a8\"],[0.3333333333333333,\"#9c179e\"],[0.4444444444444444,\"#bd3786\"],[0.5555555555555556,\"#d8576b\"],[0.6666666666666666,\"#ed7953\"],[0.7777777777777778,\"#fb9f3a\"],[0.8888888888888888,\"#fdca26\"],[1.0,\"#f0f921\"]],\"sequentialminus\":[[0.0,\"#0d0887\"],[0.1111111111111111,\"#46039f\"],[0.2222222222222222,\"#7201a8\"],[0.3333333333333333,\"#9c179e\"],[0.4444444444444444,\"#bd3786\"],[0.5555555555555556,\"#d8576b\"],[0.6666666666666666,\"#ed7953\"],[0.7777777777777778,\"#fb9f3a\"],[0.8888888888888888,\"#fdca26\"],[1.0,\"#f0f921\"]],\"diverging\":[[0,\"#8e0152\"],[0.1,\"#c51b7d\"],[0.2,\"#de77ae\"],[0.3,\"#f1b6da\"],[0.4,\"#fde0ef\"],[0.5,\"#f7f7f7\"],[0.6,\"#e6f5d0\"],[0.7,\"#b8e186\"],[0.8,\"#7fbc41\"],[0.9,\"#4d9221\"],[1,\"#276419\"]]},\"xaxis\":{\"gridcolor\":\"white\",\"linecolor\":\"white\",\"ticks\":\"\",\"title\":{\"standoff\":15},\"zerolinecolor\":\"white\",\"automargin\":true,\"zerolinewidth\":2},\"yaxis\":{\"gridcolor\":\"white\",\"linecolor\":\"white\",\"ticks\":\"\",\"title\":{\"standoff\":15},\"zerolinecolor\":\"white\",\"automargin\":true,\"zerolinewidth\":2},\"scene\":{\"xaxis\":{\"backgroundcolor\":\"#E5ECF6\",\"gridcolor\":\"white\",\"linecolor\":\"white\",\"showbackground\":true,\"ticks\":\"\",\"zerolinecolor\":\"white\",\"gridwidth\":2},\"yaxis\":{\"backgroundcolor\":\"#E5ECF6\",\"gridcolor\":\"white\",\"linecolor\":\"white\",\"showbackground\":true,\"ticks\":\"\",\"zerolinecolor\":\"white\",\"gridwidth\":2},\"zaxis\":{\"backgroundcolor\":\"#E5ECF6\",\"gridcolor\":\"white\",\"linecolor\":\"white\",\"showbackground\":true,\"ticks\":\"\",\"zerolinecolor\":\"white\",\"gridwidth\":2}},\"shapedefaults\":{\"line\":{\"color\":\"#2a3f5f\"}},\"annotationdefaults\":{\"arrowcolor\":\"#2a3f5f\",\"arrowhead\":0,\"arrowwidth\":1},\"geo\":{\"bgcolor\":\"white\",\"landcolor\":\"#E5ECF6\",\"subunitcolor\":\"white\",\"showland\":true,\"showlakes\":true,\"lakecolor\":\"white\"},\"title\":{\"x\":0.05},\"mapbox\":{\"style\":\"light\"}}},\"title\":{\"text\":\"Column Chart\"}},                        {\"responsive\": true}                    ).then(function(){\n",
       "                            \n",
       "var gd = document.getElementById('f97e5cd6-0f6b-4237-a5c6-966c82b3b2cf');\n",
       "var x = new MutationObserver(function (mutations, observer) {{\n",
       "        var display = window.getComputedStyle(gd).display;\n",
       "        if (!display || display === 'none') {{\n",
       "            console.log([gd, 'removed!']);\n",
       "            Plotly.purge(gd);\n",
       "            observer.disconnect();\n",
       "        }}\n",
       "}});\n",
       "\n",
       "// Listen for the removal of the full notebook cells\n",
       "var notebookContainer = gd.closest('#notebook-container');\n",
       "if (notebookContainer) {{\n",
       "    x.observe(notebookContainer, {childList: true});\n",
       "}}\n",
       "\n",
       "// Listen for the clearing of the current output cell\n",
       "var outputEl = gd.closest('.output');\n",
       "if (outputEl) {{\n",
       "    x.observe(outputEl, {childList: true});\n",
       "}}\n",
       "\n",
       "                        })                };                });            </script>        </div>"
      ]
     },
     "metadata": {},
     "output_type": "display_data"
    }
   ],
   "execution_count": 12
  },
  {
   "metadata": {
    "ExecuteTime": {
     "end_time": "2024-11-23T21:10:17.120274Z",
     "start_time": "2024-11-23T21:10:16.953862Z"
    }
   },
   "cell_type": "code",
   "source": [
    "# Histogram\n",
    "data = [1, 1,1,2,4,1,5,3,2,3,1,5,2,3,2]\n",
    "fig = px.histogram(data, nbins=50)\n",
    "fig.update_layout(title='Histogram')\n",
    "fig.show()"
   ],
   "id": "f800efd20d2bd01e",
   "outputs": [
    {
     "data": {
      "application/vnd.plotly.v1+json": {
       "data": [
        {
         "alignmentgroup": "True",
         "bingroup": "x",
         "hovertemplate": "variable=0<br>value=%{x}<br>count=%{y}<extra></extra>",
         "legendgroup": "0",
         "marker": {
          "color": "#636efa",
          "pattern": {
           "shape": ""
          }
         },
         "name": "0",
         "nbinsx": 50,
         "offsetgroup": "0",
         "orientation": "v",
         "showlegend": true,
         "x": [
          1,
          1,
          1,
          2,
          4,
          1,
          5,
          3,
          2,
          3,
          1,
          5,
          2,
          3,
          2
         ],
         "xaxis": "x",
         "yaxis": "y",
         "type": "histogram"
        }
       ],
       "layout": {
        "template": {
         "data": {
          "histogram2dcontour": [
           {
            "type": "histogram2dcontour",
            "colorbar": {
             "outlinewidth": 0,
             "ticks": ""
            },
            "colorscale": [
             [
              0.0,
              "#0d0887"
             ],
             [
              0.1111111111111111,
              "#46039f"
             ],
             [
              0.2222222222222222,
              "#7201a8"
             ],
             [
              0.3333333333333333,
              "#9c179e"
             ],
             [
              0.4444444444444444,
              "#bd3786"
             ],
             [
              0.5555555555555556,
              "#d8576b"
             ],
             [
              0.6666666666666666,
              "#ed7953"
             ],
             [
              0.7777777777777778,
              "#fb9f3a"
             ],
             [
              0.8888888888888888,
              "#fdca26"
             ],
             [
              1.0,
              "#f0f921"
             ]
            ]
           }
          ],
          "choropleth": [
           {
            "type": "choropleth",
            "colorbar": {
             "outlinewidth": 0,
             "ticks": ""
            }
           }
          ],
          "histogram2d": [
           {
            "type": "histogram2d",
            "colorbar": {
             "outlinewidth": 0,
             "ticks": ""
            },
            "colorscale": [
             [
              0.0,
              "#0d0887"
             ],
             [
              0.1111111111111111,
              "#46039f"
             ],
             [
              0.2222222222222222,
              "#7201a8"
             ],
             [
              0.3333333333333333,
              "#9c179e"
             ],
             [
              0.4444444444444444,
              "#bd3786"
             ],
             [
              0.5555555555555556,
              "#d8576b"
             ],
             [
              0.6666666666666666,
              "#ed7953"
             ],
             [
              0.7777777777777778,
              "#fb9f3a"
             ],
             [
              0.8888888888888888,
              "#fdca26"
             ],
             [
              1.0,
              "#f0f921"
             ]
            ]
           }
          ],
          "heatmap": [
           {
            "type": "heatmap",
            "colorbar": {
             "outlinewidth": 0,
             "ticks": ""
            },
            "colorscale": [
             [
              0.0,
              "#0d0887"
             ],
             [
              0.1111111111111111,
              "#46039f"
             ],
             [
              0.2222222222222222,
              "#7201a8"
             ],
             [
              0.3333333333333333,
              "#9c179e"
             ],
             [
              0.4444444444444444,
              "#bd3786"
             ],
             [
              0.5555555555555556,
              "#d8576b"
             ],
             [
              0.6666666666666666,
              "#ed7953"
             ],
             [
              0.7777777777777778,
              "#fb9f3a"
             ],
             [
              0.8888888888888888,
              "#fdca26"
             ],
             [
              1.0,
              "#f0f921"
             ]
            ]
           }
          ],
          "heatmapgl": [
           {
            "type": "heatmapgl",
            "colorbar": {
             "outlinewidth": 0,
             "ticks": ""
            },
            "colorscale": [
             [
              0.0,
              "#0d0887"
             ],
             [
              0.1111111111111111,
              "#46039f"
             ],
             [
              0.2222222222222222,
              "#7201a8"
             ],
             [
              0.3333333333333333,
              "#9c179e"
             ],
             [
              0.4444444444444444,
              "#bd3786"
             ],
             [
              0.5555555555555556,
              "#d8576b"
             ],
             [
              0.6666666666666666,
              "#ed7953"
             ],
             [
              0.7777777777777778,
              "#fb9f3a"
             ],
             [
              0.8888888888888888,
              "#fdca26"
             ],
             [
              1.0,
              "#f0f921"
             ]
            ]
           }
          ],
          "contourcarpet": [
           {
            "type": "contourcarpet",
            "colorbar": {
             "outlinewidth": 0,
             "ticks": ""
            }
           }
          ],
          "contour": [
           {
            "type": "contour",
            "colorbar": {
             "outlinewidth": 0,
             "ticks": ""
            },
            "colorscale": [
             [
              0.0,
              "#0d0887"
             ],
             [
              0.1111111111111111,
              "#46039f"
             ],
             [
              0.2222222222222222,
              "#7201a8"
             ],
             [
              0.3333333333333333,
              "#9c179e"
             ],
             [
              0.4444444444444444,
              "#bd3786"
             ],
             [
              0.5555555555555556,
              "#d8576b"
             ],
             [
              0.6666666666666666,
              "#ed7953"
             ],
             [
              0.7777777777777778,
              "#fb9f3a"
             ],
             [
              0.8888888888888888,
              "#fdca26"
             ],
             [
              1.0,
              "#f0f921"
             ]
            ]
           }
          ],
          "surface": [
           {
            "type": "surface",
            "colorbar": {
             "outlinewidth": 0,
             "ticks": ""
            },
            "colorscale": [
             [
              0.0,
              "#0d0887"
             ],
             [
              0.1111111111111111,
              "#46039f"
             ],
             [
              0.2222222222222222,
              "#7201a8"
             ],
             [
              0.3333333333333333,
              "#9c179e"
             ],
             [
              0.4444444444444444,
              "#bd3786"
             ],
             [
              0.5555555555555556,
              "#d8576b"
             ],
             [
              0.6666666666666666,
              "#ed7953"
             ],
             [
              0.7777777777777778,
              "#fb9f3a"
             ],
             [
              0.8888888888888888,
              "#fdca26"
             ],
             [
              1.0,
              "#f0f921"
             ]
            ]
           }
          ],
          "mesh3d": [
           {
            "type": "mesh3d",
            "colorbar": {
             "outlinewidth": 0,
             "ticks": ""
            }
           }
          ],
          "scatter": [
           {
            "fillpattern": {
             "fillmode": "overlay",
             "size": 10,
             "solidity": 0.2
            },
            "type": "scatter"
           }
          ],
          "parcoords": [
           {
            "type": "parcoords",
            "line": {
             "colorbar": {
              "outlinewidth": 0,
              "ticks": ""
             }
            }
           }
          ],
          "scatterpolargl": [
           {
            "type": "scatterpolargl",
            "marker": {
             "colorbar": {
              "outlinewidth": 0,
              "ticks": ""
             }
            }
           }
          ],
          "bar": [
           {
            "error_x": {
             "color": "#2a3f5f"
            },
            "error_y": {
             "color": "#2a3f5f"
            },
            "marker": {
             "line": {
              "color": "#E5ECF6",
              "width": 0.5
             },
             "pattern": {
              "fillmode": "overlay",
              "size": 10,
              "solidity": 0.2
             }
            },
            "type": "bar"
           }
          ],
          "scattergeo": [
           {
            "type": "scattergeo",
            "marker": {
             "colorbar": {
              "outlinewidth": 0,
              "ticks": ""
             }
            }
           }
          ],
          "scatterpolar": [
           {
            "type": "scatterpolar",
            "marker": {
             "colorbar": {
              "outlinewidth": 0,
              "ticks": ""
             }
            }
           }
          ],
          "histogram": [
           {
            "marker": {
             "pattern": {
              "fillmode": "overlay",
              "size": 10,
              "solidity": 0.2
             }
            },
            "type": "histogram"
           }
          ],
          "scattergl": [
           {
            "type": "scattergl",
            "marker": {
             "colorbar": {
              "outlinewidth": 0,
              "ticks": ""
             }
            }
           }
          ],
          "scatter3d": [
           {
            "type": "scatter3d",
            "line": {
             "colorbar": {
              "outlinewidth": 0,
              "ticks": ""
             }
            },
            "marker": {
             "colorbar": {
              "outlinewidth": 0,
              "ticks": ""
             }
            }
           }
          ],
          "scattermapbox": [
           {
            "type": "scattermapbox",
            "marker": {
             "colorbar": {
              "outlinewidth": 0,
              "ticks": ""
             }
            }
           }
          ],
          "scatterternary": [
           {
            "type": "scatterternary",
            "marker": {
             "colorbar": {
              "outlinewidth": 0,
              "ticks": ""
             }
            }
           }
          ],
          "scattercarpet": [
           {
            "type": "scattercarpet",
            "marker": {
             "colorbar": {
              "outlinewidth": 0,
              "ticks": ""
             }
            }
           }
          ],
          "carpet": [
           {
            "aaxis": {
             "endlinecolor": "#2a3f5f",
             "gridcolor": "white",
             "linecolor": "white",
             "minorgridcolor": "white",
             "startlinecolor": "#2a3f5f"
            },
            "baxis": {
             "endlinecolor": "#2a3f5f",
             "gridcolor": "white",
             "linecolor": "white",
             "minorgridcolor": "white",
             "startlinecolor": "#2a3f5f"
            },
            "type": "carpet"
           }
          ],
          "table": [
           {
            "cells": {
             "fill": {
              "color": "#EBF0F8"
             },
             "line": {
              "color": "white"
             }
            },
            "header": {
             "fill": {
              "color": "#C8D4E3"
             },
             "line": {
              "color": "white"
             }
            },
            "type": "table"
           }
          ],
          "barpolar": [
           {
            "marker": {
             "line": {
              "color": "#E5ECF6",
              "width": 0.5
             },
             "pattern": {
              "fillmode": "overlay",
              "size": 10,
              "solidity": 0.2
             }
            },
            "type": "barpolar"
           }
          ],
          "pie": [
           {
            "automargin": true,
            "type": "pie"
           }
          ]
         },
         "layout": {
          "autotypenumbers": "strict",
          "colorway": [
           "#636efa",
           "#EF553B",
           "#00cc96",
           "#ab63fa",
           "#FFA15A",
           "#19d3f3",
           "#FF6692",
           "#B6E880",
           "#FF97FF",
           "#FECB52"
          ],
          "font": {
           "color": "#2a3f5f"
          },
          "hovermode": "closest",
          "hoverlabel": {
           "align": "left"
          },
          "paper_bgcolor": "white",
          "plot_bgcolor": "#E5ECF6",
          "polar": {
           "bgcolor": "#E5ECF6",
           "angularaxis": {
            "gridcolor": "white",
            "linecolor": "white",
            "ticks": ""
           },
           "radialaxis": {
            "gridcolor": "white",
            "linecolor": "white",
            "ticks": ""
           }
          },
          "ternary": {
           "bgcolor": "#E5ECF6",
           "aaxis": {
            "gridcolor": "white",
            "linecolor": "white",
            "ticks": ""
           },
           "baxis": {
            "gridcolor": "white",
            "linecolor": "white",
            "ticks": ""
           },
           "caxis": {
            "gridcolor": "white",
            "linecolor": "white",
            "ticks": ""
           }
          },
          "coloraxis": {
           "colorbar": {
            "outlinewidth": 0,
            "ticks": ""
           }
          },
          "colorscale": {
           "sequential": [
            [
             0.0,
             "#0d0887"
            ],
            [
             0.1111111111111111,
             "#46039f"
            ],
            [
             0.2222222222222222,
             "#7201a8"
            ],
            [
             0.3333333333333333,
             "#9c179e"
            ],
            [
             0.4444444444444444,
             "#bd3786"
            ],
            [
             0.5555555555555556,
             "#d8576b"
            ],
            [
             0.6666666666666666,
             "#ed7953"
            ],
            [
             0.7777777777777778,
             "#fb9f3a"
            ],
            [
             0.8888888888888888,
             "#fdca26"
            ],
            [
             1.0,
             "#f0f921"
            ]
           ],
           "sequentialminus": [
            [
             0.0,
             "#0d0887"
            ],
            [
             0.1111111111111111,
             "#46039f"
            ],
            [
             0.2222222222222222,
             "#7201a8"
            ],
            [
             0.3333333333333333,
             "#9c179e"
            ],
            [
             0.4444444444444444,
             "#bd3786"
            ],
            [
             0.5555555555555556,
             "#d8576b"
            ],
            [
             0.6666666666666666,
             "#ed7953"
            ],
            [
             0.7777777777777778,
             "#fb9f3a"
            ],
            [
             0.8888888888888888,
             "#fdca26"
            ],
            [
             1.0,
             "#f0f921"
            ]
           ],
           "diverging": [
            [
             0,
             "#8e0152"
            ],
            [
             0.1,
             "#c51b7d"
            ],
            [
             0.2,
             "#de77ae"
            ],
            [
             0.3,
             "#f1b6da"
            ],
            [
             0.4,
             "#fde0ef"
            ],
            [
             0.5,
             "#f7f7f7"
            ],
            [
             0.6,
             "#e6f5d0"
            ],
            [
             0.7,
             "#b8e186"
            ],
            [
             0.8,
             "#7fbc41"
            ],
            [
             0.9,
             "#4d9221"
            ],
            [
             1,
             "#276419"
            ]
           ]
          },
          "xaxis": {
           "gridcolor": "white",
           "linecolor": "white",
           "ticks": "",
           "title": {
            "standoff": 15
           },
           "zerolinecolor": "white",
           "automargin": true,
           "zerolinewidth": 2
          },
          "yaxis": {
           "gridcolor": "white",
           "linecolor": "white",
           "ticks": "",
           "title": {
            "standoff": 15
           },
           "zerolinecolor": "white",
           "automargin": true,
           "zerolinewidth": 2
          },
          "scene": {
           "xaxis": {
            "backgroundcolor": "#E5ECF6",
            "gridcolor": "white",
            "linecolor": "white",
            "showbackground": true,
            "ticks": "",
            "zerolinecolor": "white",
            "gridwidth": 2
           },
           "yaxis": {
            "backgroundcolor": "#E5ECF6",
            "gridcolor": "white",
            "linecolor": "white",
            "showbackground": true,
            "ticks": "",
            "zerolinecolor": "white",
            "gridwidth": 2
           },
           "zaxis": {
            "backgroundcolor": "#E5ECF6",
            "gridcolor": "white",
            "linecolor": "white",
            "showbackground": true,
            "ticks": "",
            "zerolinecolor": "white",
            "gridwidth": 2
           }
          },
          "shapedefaults": {
           "line": {
            "color": "#2a3f5f"
           }
          },
          "annotationdefaults": {
           "arrowcolor": "#2a3f5f",
           "arrowhead": 0,
           "arrowwidth": 1
          },
          "geo": {
           "bgcolor": "white",
           "landcolor": "#E5ECF6",
           "subunitcolor": "white",
           "showland": true,
           "showlakes": true,
           "lakecolor": "white"
          },
          "title": {
           "x": 0.05
          },
          "mapbox": {
           "style": "light"
          }
         }
        },
        "xaxis": {
         "anchor": "y",
         "domain": [
          0.0,
          1.0
         ],
         "title": {
          "text": "value"
         }
        },
        "yaxis": {
         "anchor": "x",
         "domain": [
          0.0,
          1.0
         ],
         "title": {
          "text": "count"
         }
        },
        "legend": {
         "title": {
          "text": "variable"
         },
         "tracegroupgap": 0
        },
        "margin": {
         "t": 60
        },
        "barmode": "relative",
        "title": {
         "text": "Histogram"
        }
       },
       "config": {
        "plotlyServerURL": "https://plot.ly"
       }
      },
      "text/html": [
       "<div>                            <div id=\"d209f64f-1127-4bec-af90-ca9f0a02f727\" class=\"plotly-graph-div\" style=\"height:525px; width:100%;\"></div>            <script type=\"text/javascript\">                require([\"plotly\"], function(Plotly) {                    window.PLOTLYENV=window.PLOTLYENV || {};                                    if (document.getElementById(\"d209f64f-1127-4bec-af90-ca9f0a02f727\")) {                    Plotly.newPlot(                        \"d209f64f-1127-4bec-af90-ca9f0a02f727\",                        [{\"alignmentgroup\":\"True\",\"bingroup\":\"x\",\"hovertemplate\":\"variable=0\\u003cbr\\u003evalue=%{x}\\u003cbr\\u003ecount=%{y}\\u003cextra\\u003e\\u003c\\u002fextra\\u003e\",\"legendgroup\":\"0\",\"marker\":{\"color\":\"#636efa\",\"pattern\":{\"shape\":\"\"}},\"name\":\"0\",\"nbinsx\":50,\"offsetgroup\":\"0\",\"orientation\":\"v\",\"showlegend\":true,\"x\":[1,1,1,2,4,1,5,3,2,3,1,5,2,3,2],\"xaxis\":\"x\",\"yaxis\":\"y\",\"type\":\"histogram\"}],                        {\"template\":{\"data\":{\"histogram2dcontour\":[{\"type\":\"histogram2dcontour\",\"colorbar\":{\"outlinewidth\":0,\"ticks\":\"\"},\"colorscale\":[[0.0,\"#0d0887\"],[0.1111111111111111,\"#46039f\"],[0.2222222222222222,\"#7201a8\"],[0.3333333333333333,\"#9c179e\"],[0.4444444444444444,\"#bd3786\"],[0.5555555555555556,\"#d8576b\"],[0.6666666666666666,\"#ed7953\"],[0.7777777777777778,\"#fb9f3a\"],[0.8888888888888888,\"#fdca26\"],[1.0,\"#f0f921\"]]}],\"choropleth\":[{\"type\":\"choropleth\",\"colorbar\":{\"outlinewidth\":0,\"ticks\":\"\"}}],\"histogram2d\":[{\"type\":\"histogram2d\",\"colorbar\":{\"outlinewidth\":0,\"ticks\":\"\"},\"colorscale\":[[0.0,\"#0d0887\"],[0.1111111111111111,\"#46039f\"],[0.2222222222222222,\"#7201a8\"],[0.3333333333333333,\"#9c179e\"],[0.4444444444444444,\"#bd3786\"],[0.5555555555555556,\"#d8576b\"],[0.6666666666666666,\"#ed7953\"],[0.7777777777777778,\"#fb9f3a\"],[0.8888888888888888,\"#fdca26\"],[1.0,\"#f0f921\"]]}],\"heatmap\":[{\"type\":\"heatmap\",\"colorbar\":{\"outlinewidth\":0,\"ticks\":\"\"},\"colorscale\":[[0.0,\"#0d0887\"],[0.1111111111111111,\"#46039f\"],[0.2222222222222222,\"#7201a8\"],[0.3333333333333333,\"#9c179e\"],[0.4444444444444444,\"#bd3786\"],[0.5555555555555556,\"#d8576b\"],[0.6666666666666666,\"#ed7953\"],[0.7777777777777778,\"#fb9f3a\"],[0.8888888888888888,\"#fdca26\"],[1.0,\"#f0f921\"]]}],\"heatmapgl\":[{\"type\":\"heatmapgl\",\"colorbar\":{\"outlinewidth\":0,\"ticks\":\"\"},\"colorscale\":[[0.0,\"#0d0887\"],[0.1111111111111111,\"#46039f\"],[0.2222222222222222,\"#7201a8\"],[0.3333333333333333,\"#9c179e\"],[0.4444444444444444,\"#bd3786\"],[0.5555555555555556,\"#d8576b\"],[0.6666666666666666,\"#ed7953\"],[0.7777777777777778,\"#fb9f3a\"],[0.8888888888888888,\"#fdca26\"],[1.0,\"#f0f921\"]]}],\"contourcarpet\":[{\"type\":\"contourcarpet\",\"colorbar\":{\"outlinewidth\":0,\"ticks\":\"\"}}],\"contour\":[{\"type\":\"contour\",\"colorbar\":{\"outlinewidth\":0,\"ticks\":\"\"},\"colorscale\":[[0.0,\"#0d0887\"],[0.1111111111111111,\"#46039f\"],[0.2222222222222222,\"#7201a8\"],[0.3333333333333333,\"#9c179e\"],[0.4444444444444444,\"#bd3786\"],[0.5555555555555556,\"#d8576b\"],[0.6666666666666666,\"#ed7953\"],[0.7777777777777778,\"#fb9f3a\"],[0.8888888888888888,\"#fdca26\"],[1.0,\"#f0f921\"]]}],\"surface\":[{\"type\":\"surface\",\"colorbar\":{\"outlinewidth\":0,\"ticks\":\"\"},\"colorscale\":[[0.0,\"#0d0887\"],[0.1111111111111111,\"#46039f\"],[0.2222222222222222,\"#7201a8\"],[0.3333333333333333,\"#9c179e\"],[0.4444444444444444,\"#bd3786\"],[0.5555555555555556,\"#d8576b\"],[0.6666666666666666,\"#ed7953\"],[0.7777777777777778,\"#fb9f3a\"],[0.8888888888888888,\"#fdca26\"],[1.0,\"#f0f921\"]]}],\"mesh3d\":[{\"type\":\"mesh3d\",\"colorbar\":{\"outlinewidth\":0,\"ticks\":\"\"}}],\"scatter\":[{\"fillpattern\":{\"fillmode\":\"overlay\",\"size\":10,\"solidity\":0.2},\"type\":\"scatter\"}],\"parcoords\":[{\"type\":\"parcoords\",\"line\":{\"colorbar\":{\"outlinewidth\":0,\"ticks\":\"\"}}}],\"scatterpolargl\":[{\"type\":\"scatterpolargl\",\"marker\":{\"colorbar\":{\"outlinewidth\":0,\"ticks\":\"\"}}}],\"bar\":[{\"error_x\":{\"color\":\"#2a3f5f\"},\"error_y\":{\"color\":\"#2a3f5f\"},\"marker\":{\"line\":{\"color\":\"#E5ECF6\",\"width\":0.5},\"pattern\":{\"fillmode\":\"overlay\",\"size\":10,\"solidity\":0.2}},\"type\":\"bar\"}],\"scattergeo\":[{\"type\":\"scattergeo\",\"marker\":{\"colorbar\":{\"outlinewidth\":0,\"ticks\":\"\"}}}],\"scatterpolar\":[{\"type\":\"scatterpolar\",\"marker\":{\"colorbar\":{\"outlinewidth\":0,\"ticks\":\"\"}}}],\"histogram\":[{\"marker\":{\"pattern\":{\"fillmode\":\"overlay\",\"size\":10,\"solidity\":0.2}},\"type\":\"histogram\"}],\"scattergl\":[{\"type\":\"scattergl\",\"marker\":{\"colorbar\":{\"outlinewidth\":0,\"ticks\":\"\"}}}],\"scatter3d\":[{\"type\":\"scatter3d\",\"line\":{\"colorbar\":{\"outlinewidth\":0,\"ticks\":\"\"}},\"marker\":{\"colorbar\":{\"outlinewidth\":0,\"ticks\":\"\"}}}],\"scattermapbox\":[{\"type\":\"scattermapbox\",\"marker\":{\"colorbar\":{\"outlinewidth\":0,\"ticks\":\"\"}}}],\"scatterternary\":[{\"type\":\"scatterternary\",\"marker\":{\"colorbar\":{\"outlinewidth\":0,\"ticks\":\"\"}}}],\"scattercarpet\":[{\"type\":\"scattercarpet\",\"marker\":{\"colorbar\":{\"outlinewidth\":0,\"ticks\":\"\"}}}],\"carpet\":[{\"aaxis\":{\"endlinecolor\":\"#2a3f5f\",\"gridcolor\":\"white\",\"linecolor\":\"white\",\"minorgridcolor\":\"white\",\"startlinecolor\":\"#2a3f5f\"},\"baxis\":{\"endlinecolor\":\"#2a3f5f\",\"gridcolor\":\"white\",\"linecolor\":\"white\",\"minorgridcolor\":\"white\",\"startlinecolor\":\"#2a3f5f\"},\"type\":\"carpet\"}],\"table\":[{\"cells\":{\"fill\":{\"color\":\"#EBF0F8\"},\"line\":{\"color\":\"white\"}},\"header\":{\"fill\":{\"color\":\"#C8D4E3\"},\"line\":{\"color\":\"white\"}},\"type\":\"table\"}],\"barpolar\":[{\"marker\":{\"line\":{\"color\":\"#E5ECF6\",\"width\":0.5},\"pattern\":{\"fillmode\":\"overlay\",\"size\":10,\"solidity\":0.2}},\"type\":\"barpolar\"}],\"pie\":[{\"automargin\":true,\"type\":\"pie\"}]},\"layout\":{\"autotypenumbers\":\"strict\",\"colorway\":[\"#636efa\",\"#EF553B\",\"#00cc96\",\"#ab63fa\",\"#FFA15A\",\"#19d3f3\",\"#FF6692\",\"#B6E880\",\"#FF97FF\",\"#FECB52\"],\"font\":{\"color\":\"#2a3f5f\"},\"hovermode\":\"closest\",\"hoverlabel\":{\"align\":\"left\"},\"paper_bgcolor\":\"white\",\"plot_bgcolor\":\"#E5ECF6\",\"polar\":{\"bgcolor\":\"#E5ECF6\",\"angularaxis\":{\"gridcolor\":\"white\",\"linecolor\":\"white\",\"ticks\":\"\"},\"radialaxis\":{\"gridcolor\":\"white\",\"linecolor\":\"white\",\"ticks\":\"\"}},\"ternary\":{\"bgcolor\":\"#E5ECF6\",\"aaxis\":{\"gridcolor\":\"white\",\"linecolor\":\"white\",\"ticks\":\"\"},\"baxis\":{\"gridcolor\":\"white\",\"linecolor\":\"white\",\"ticks\":\"\"},\"caxis\":{\"gridcolor\":\"white\",\"linecolor\":\"white\",\"ticks\":\"\"}},\"coloraxis\":{\"colorbar\":{\"outlinewidth\":0,\"ticks\":\"\"}},\"colorscale\":{\"sequential\":[[0.0,\"#0d0887\"],[0.1111111111111111,\"#46039f\"],[0.2222222222222222,\"#7201a8\"],[0.3333333333333333,\"#9c179e\"],[0.4444444444444444,\"#bd3786\"],[0.5555555555555556,\"#d8576b\"],[0.6666666666666666,\"#ed7953\"],[0.7777777777777778,\"#fb9f3a\"],[0.8888888888888888,\"#fdca26\"],[1.0,\"#f0f921\"]],\"sequentialminus\":[[0.0,\"#0d0887\"],[0.1111111111111111,\"#46039f\"],[0.2222222222222222,\"#7201a8\"],[0.3333333333333333,\"#9c179e\"],[0.4444444444444444,\"#bd3786\"],[0.5555555555555556,\"#d8576b\"],[0.6666666666666666,\"#ed7953\"],[0.7777777777777778,\"#fb9f3a\"],[0.8888888888888888,\"#fdca26\"],[1.0,\"#f0f921\"]],\"diverging\":[[0,\"#8e0152\"],[0.1,\"#c51b7d\"],[0.2,\"#de77ae\"],[0.3,\"#f1b6da\"],[0.4,\"#fde0ef\"],[0.5,\"#f7f7f7\"],[0.6,\"#e6f5d0\"],[0.7,\"#b8e186\"],[0.8,\"#7fbc41\"],[0.9,\"#4d9221\"],[1,\"#276419\"]]},\"xaxis\":{\"gridcolor\":\"white\",\"linecolor\":\"white\",\"ticks\":\"\",\"title\":{\"standoff\":15},\"zerolinecolor\":\"white\",\"automargin\":true,\"zerolinewidth\":2},\"yaxis\":{\"gridcolor\":\"white\",\"linecolor\":\"white\",\"ticks\":\"\",\"title\":{\"standoff\":15},\"zerolinecolor\":\"white\",\"automargin\":true,\"zerolinewidth\":2},\"scene\":{\"xaxis\":{\"backgroundcolor\":\"#E5ECF6\",\"gridcolor\":\"white\",\"linecolor\":\"white\",\"showbackground\":true,\"ticks\":\"\",\"zerolinecolor\":\"white\",\"gridwidth\":2},\"yaxis\":{\"backgroundcolor\":\"#E5ECF6\",\"gridcolor\":\"white\",\"linecolor\":\"white\",\"showbackground\":true,\"ticks\":\"\",\"zerolinecolor\":\"white\",\"gridwidth\":2},\"zaxis\":{\"backgroundcolor\":\"#E5ECF6\",\"gridcolor\":\"white\",\"linecolor\":\"white\",\"showbackground\":true,\"ticks\":\"\",\"zerolinecolor\":\"white\",\"gridwidth\":2}},\"shapedefaults\":{\"line\":{\"color\":\"#2a3f5f\"}},\"annotationdefaults\":{\"arrowcolor\":\"#2a3f5f\",\"arrowhead\":0,\"arrowwidth\":1},\"geo\":{\"bgcolor\":\"white\",\"landcolor\":\"#E5ECF6\",\"subunitcolor\":\"white\",\"showland\":true,\"showlakes\":true,\"lakecolor\":\"white\"},\"title\":{\"x\":0.05},\"mapbox\":{\"style\":\"light\"}}},\"xaxis\":{\"anchor\":\"y\",\"domain\":[0.0,1.0],\"title\":{\"text\":\"value\"}},\"yaxis\":{\"anchor\":\"x\",\"domain\":[0.0,1.0],\"title\":{\"text\":\"count\"}},\"legend\":{\"title\":{\"text\":\"variable\"},\"tracegroupgap\":0},\"margin\":{\"t\":60},\"barmode\":\"relative\",\"title\":{\"text\":\"Histogram\"}},                        {\"responsive\": true}                    ).then(function(){\n",
       "                            \n",
       "var gd = document.getElementById('d209f64f-1127-4bec-af90-ca9f0a02f727');\n",
       "var x = new MutationObserver(function (mutations, observer) {{\n",
       "        var display = window.getComputedStyle(gd).display;\n",
       "        if (!display || display === 'none') {{\n",
       "            console.log([gd, 'removed!']);\n",
       "            Plotly.purge(gd);\n",
       "            observer.disconnect();\n",
       "        }}\n",
       "}});\n",
       "\n",
       "// Listen for the removal of the full notebook cells\n",
       "var notebookContainer = gd.closest('#notebook-container');\n",
       "if (notebookContainer) {{\n",
       "    x.observe(notebookContainer, {childList: true});\n",
       "}}\n",
       "\n",
       "// Listen for the clearing of the current output cell\n",
       "var outputEl = gd.closest('.output');\n",
       "if (outputEl) {{\n",
       "    x.observe(outputEl, {childList: true});\n",
       "}}\n",
       "\n",
       "                        })                };                });            </script>        </div>"
      ]
     },
     "metadata": {},
     "output_type": "display_data"
    }
   ],
   "execution_count": 13
  },
  {
   "metadata": {
    "ExecuteTime": {
     "end_time": "2024-11-23T21:12:49.609254Z",
     "start_time": "2024-11-23T21:12:49.549712Z"
    }
   },
   "cell_type": "code",
   "source": [
    "# KDE Chart\n",
    "import scipy.stats as stats\n",
    "import numpy as np\n",
    "data = np.random.randn(1000)\n",
    "kde = stats.gaussian_kde(data)\n",
    "x = np.linspace(min(data), max(data), 1000)\n",
    "y = kde(x)\n",
    "fig = go.Figure(go.Scatter(x=x, y=y))\n",
    "fig.update_layout(title='KDE Plot')\n",
    "fig.show()"
   ],
   "id": "6515cd50ae8827b5",
   "outputs": [
    {
     "data": {
      "application/vnd.plotly.v1+json": {
       "data": [
        {
         "x": [
          -3.4896066216149033,
          -3.4833825086242447,
          -3.477158395633586,
          -3.4709342826429275,
          -3.464710169652269,
          -3.4584860566616102,
          -3.4522619436709516,
          -3.446037830680293,
          -3.439813717689634,
          -3.4335896046989753,
          -3.4273654917083167,
          -3.421141378717658,
          -3.4149172657269995,
          -3.408693152736341,
          -3.4024690397456823,
          -3.3962449267550237,
          -3.390020813764365,
          -3.3837967007737064,
          -3.377572587783048,
          -3.371348474792389,
          -3.3651243618017306,
          -3.358900248811072,
          -3.3526761358204134,
          -3.3464520228297543,
          -3.3402279098390957,
          -3.334003796848437,
          -3.3277796838577784,
          -3.32155557086712,
          -3.315331457876461,
          -3.3091073448858026,
          -3.302883231895144,
          -3.2966591189044854,
          -3.2904350059138268,
          -3.284210892923168,
          -3.2779867799325095,
          -3.271762666941851,
          -3.2655385539511923,
          -3.2593144409605337,
          -3.2530903279698746,
          -3.246866214979216,
          -3.2406421019885574,
          -3.234417988997899,
          -3.22819387600724,
          -3.2219697630165816,
          -3.215745650025923,
          -3.2095215370352643,
          -3.2032974240446057,
          -3.197073311053947,
          -3.1908491980632885,
          -3.18462508507263,
          -3.1784009720819713,
          -3.172176859091312,
          -3.165952746100654,
          -3.159728633109995,
          -3.1535045201193364,
          -3.1472804071286777,
          -3.141056294138019,
          -3.1348321811473605,
          -3.128608068156702,
          -3.1223839551660433,
          -3.1161598421753847,
          -3.109935729184726,
          -3.1037116161940674,
          -3.097487503203409,
          -3.09126339021275,
          -3.0850392772220916,
          -3.0788151642314325,
          -3.072591051240774,
          -3.0663669382501153,
          -3.0601428252594567,
          -3.053918712268798,
          -3.0476945992781395,
          -3.041470486287481,
          -3.0352463732968222,
          -3.0290222603061636,
          -3.022798147315505,
          -3.0165740343248464,
          -3.0103499213341878,
          -3.004125808343529,
          -2.9979016953528705,
          -2.991677582362212,
          -2.985453469371553,
          -2.9792293563808947,
          -2.9730052433902356,
          -2.966781130399577,
          -2.9605570174089184,
          -2.95433290441826,
          -2.948108791427601,
          -2.9418846784369426,
          -2.935660565446284,
          -2.9294364524556253,
          -2.9232123394649667,
          -2.916988226474308,
          -2.9107641134836495,
          -2.9045400004929904,
          -2.8983158875023323,
          -2.892091774511673,
          -2.8858676615210146,
          -2.879643548530356,
          -2.8734194355396974,
          -2.8671953225490387,
          -2.86097120955838,
          -2.8547470965677215,
          -2.848522983577063,
          -2.8422988705864043,
          -2.8360747575957457,
          -2.829850644605087,
          -2.8236265316144284,
          -2.81740241862377,
          -2.8111783056331108,
          -2.8049541926424526,
          -2.7987300796517935,
          -2.792505966661135,
          -2.7862818536704763,
          -2.7800577406798177,
          -2.773833627689159,
          -2.7676095146985005,
          -2.761385401707842,
          -2.7551612887171832,
          -2.7489371757265246,
          -2.742713062735866,
          -2.7364889497452074,
          -2.730264836754549,
          -2.72404072376389,
          -2.717816610773231,
          -2.711592497782573,
          -2.705368384791914,
          -2.6991442718012553,
          -2.6929201588105967,
          -2.686696045819938,
          -2.6804719328292794,
          -2.674247819838621,
          -2.668023706847962,
          -2.6617995938573036,
          -2.655575480866645,
          -2.6493513678759864,
          -2.6431272548853277,
          -2.636903141894669,
          -2.6306790289040105,
          -2.6244549159133514,
          -2.6182308029226933,
          -2.612006689932034,
          -2.6057825769413756,
          -2.599558463950717,
          -2.5933343509600584,
          -2.5871102379693998,
          -2.580886124978741,
          -2.5746620119880825,
          -2.568437898997424,
          -2.5622137860067653,
          -2.5559896730161067,
          -2.549765560025448,
          -2.543541447034789,
          -2.537317334044131,
          -2.531093221053472,
          -2.5248691080628136,
          -2.5186449950721546,
          -2.512420882081496,
          -2.5061967690908373,
          -2.4999726561001787,
          -2.49374854310952,
          -2.4875244301188615,
          -2.481300317128203,
          -2.4750762041375443,
          -2.4688520911468856,
          -2.4626279781562266,
          -2.4564038651655684,
          -2.4501797521749094,
          -2.443955639184251,
          -2.437731526193592,
          -2.431507413202934,
          -2.425283300212275,
          -2.4190591872216163,
          -2.4128350742309577,
          -2.406610961240299,
          -2.4003868482496404,
          -2.394162735258982,
          -2.387938622268323,
          -2.3817145092776646,
          -2.375490396287006,
          -2.369266283296347,
          -2.3630421703056887,
          -2.3568180573150297,
          -2.3505939443243715,
          -2.3443698313337125,
          -2.3381457183430543,
          -2.3319216053523952,
          -2.3256974923617366,
          -2.319473379371078,
          -2.3132492663804194,
          -2.3070251533897608,
          -2.300801040399102,
          -2.2945769274084435,
          -2.288352814417785,
          -2.2821287014271263,
          -2.2759045884364673,
          -2.269680475445809,
          -2.26345636245515,
          -2.257232249464492,
          -2.251008136473833,
          -2.2447840234831746,
          -2.2385599104925156,
          -2.232335797501857,
          -2.2261116845111983,
          -2.2198875715205397,
          -2.213663458529881,
          -2.2074393455392225,
          -2.201215232548564,
          -2.1949911195579053,
          -2.1887670065672467,
          -2.1825428935765876,
          -2.1763187805859294,
          -2.1700946675952704,
          -2.163870554604612,
          -2.157646441613953,
          -2.151422328623295,
          -2.145198215632636,
          -2.1389741026419773,
          -2.1327499896513187,
          -2.12652587666066,
          -2.1203017636700014,
          -2.114077650679343,
          -2.107853537688684,
          -2.1016294246980256,
          -2.095405311707367,
          -2.089181198716708,
          -2.0829570857260498,
          -2.0767329727353907,
          -2.0705088597447325,
          -2.0642847467540735,
          -2.0580606337634153,
          -2.0518365207727562,
          -2.0456124077820976,
          -2.039388294791439,
          -2.0331641818007804,
          -2.026940068810122,
          -2.020715955819463,
          -2.0144918428288046,
          -2.0082677298381455,
          -2.0020436168474873,
          -1.9958195038568285,
          -1.9895953908661699,
          -1.9833712778755113,
          -1.9771471648848526,
          -1.970923051894194,
          -1.9646989389035354,
          -1.9584748259128766,
          -1.952250712922218,
          -1.9460265999315594,
          -1.9398024869409007,
          -1.9335783739502421,
          -1.9273542609595835,
          -1.921130147968925,
          -1.914906034978266,
          -1.9086819219876074,
          -1.9024578089969488,
          -1.8962336960062902,
          -1.8900095830156316,
          -1.883785470024973,
          -1.8775613570343144,
          -1.8713372440436555,
          -1.865113131052997,
          -1.8588890180623383,
          -1.8526649050716797,
          -1.846440792081021,
          -1.8402166790903625,
          -1.8339925660997038,
          -1.827768453109045,
          -1.8215443401183864,
          -1.8153202271277278,
          -1.8090961141370692,
          -1.8028720011464106,
          -1.796647888155752,
          -1.7904237751650933,
          -1.7841996621744347,
          -1.7779755491837759,
          -1.7717514361931173,
          -1.7655273232024586,
          -1.7593032102118,
          -1.7530790972211414,
          -1.7468549842304828,
          -1.7406308712398242,
          -1.7344067582491653,
          -1.7281826452585067,
          -1.7219585322678481,
          -1.7157344192771895,
          -1.709510306286531,
          -1.7032861932958723,
          -1.6970620803052137,
          -1.6908379673145548,
          -1.6846138543238962,
          -1.6783897413332376,
          -1.672165628342579,
          -1.6659415153519204,
          -1.6597174023612618,
          -1.6534932893706031,
          -1.6472691763799445,
          -1.6410450633892857,
          -1.634820950398627,
          -1.6285968374079685,
          -1.6223727244173098,
          -1.6161486114266512,
          -1.6099244984359926,
          -1.603700385445334,
          -1.5974762724546752,
          -1.5912521594640165,
          -1.585028046473358,
          -1.5788039334826993,
          -1.5725798204920407,
          -1.566355707501382,
          -1.5601315945107235,
          -1.5539074815200646,
          -1.547683368529406,
          -1.5414592555387474,
          -1.5352351425480888,
          -1.5290110295574302,
          -1.5227869165667716,
          -1.516562803576113,
          -1.5103386905854543,
          -1.5041145775947955,
          -1.4978904646041369,
          -1.4916663516134783,
          -1.4854422386228197,
          -1.479218125632161,
          -1.4729940126415024,
          -1.4667698996508438,
          -1.4605457866601852,
          -1.4543216736695266,
          -1.448097560678868,
          -1.4418734476882094,
          -1.4356493346975503,
          -1.4294252217068917,
          -1.423201108716233,
          -1.4169769957255745,
          -1.4107528827349158,
          -1.4045287697442572,
          -1.3983046567535986,
          -1.39208054376294,
          -1.3858564307722814,
          -1.3796323177816228,
          -1.3734082047909641,
          -1.3671840918003055,
          -1.360959978809647,
          -1.3547358658189883,
          -1.3485117528283292,
          -1.3422876398376706,
          -1.336063526847012,
          -1.3298394138563534,
          -1.3236153008656948,
          -1.3173911878750362,
          -1.3111670748843776,
          -1.304942961893719,
          -1.2987188489030603,
          -1.2924947359124017,
          -1.286270622921743,
          -1.2800465099310845,
          -1.2738223969404259,
          -1.2675982839497673,
          -1.2613741709591086,
          -1.2551500579684496,
          -1.248925944977791,
          -1.2427018319871324,
          -1.2364777189964737,
          -1.2302536060058151,
          -1.2240294930151565,
          -1.217805380024498,
          -1.2115812670338393,
          -1.2053571540431807,
          -1.199133041052522,
          -1.1929089280618634,
          -1.1866848150712048,
          -1.1804607020805462,
          -1.1742365890898876,
          -1.168012476099229,
          -1.16178836310857,
          -1.1555642501179113,
          -1.1493401371272527,
          -1.143116024136594,
          -1.1368919111459355,
          -1.1306677981552768,
          -1.1244436851646182,
          -1.1182195721739596,
          -1.111995459183301,
          -1.1057713461926424,
          -1.0995472332019838,
          -1.0933231202113252,
          -1.0870990072206665,
          -1.080874894230008,
          -1.0746507812393489,
          -1.0684266682486903,
          -1.0622025552580316,
          -1.055978442267373,
          -1.0497543292767144,
          -1.0435302162860558,
          -1.0373061032953972,
          -1.0310819903047386,
          -1.02485787731408,
          -1.0186337643234213,
          -1.0124096513327627,
          -1.0061855383421041,
          -0.9999614253514455,
          -0.9937373123607869,
          -0.9875131993701283,
          -0.9812890863794692,
          -0.9750649733888106,
          -0.968840860398152,
          -0.9626167474074934,
          -0.9563926344168348,
          -0.9501685214261761,
          -0.9439444084355175,
          -0.9377202954448589,
          -0.9314961824542003,
          -0.9252720694635417,
          -0.9190479564728831,
          -0.9128238434822245,
          -0.9065997304915658,
          -0.9003756175009072,
          -0.8941515045102482,
          -0.8879273915195895,
          -0.8817032785289309,
          -0.8754791655382723,
          -0.8692550525476137,
          -0.8630309395569551,
          -0.8568068265662965,
          -0.8505827135756379,
          -0.8443586005849792,
          -0.8381344875943206,
          -0.831910374603662,
          -0.8256862616130034,
          -0.8194621486223448,
          -0.8132380356316862,
          -0.8070139226410276,
          -0.8007898096503685,
          -0.7945656966597099,
          -0.7883415836690513,
          -0.7821174706783927,
          -0.775893357687734,
          -0.7696692446970754,
          -0.7634451317064168,
          -0.7572210187157582,
          -0.7509969057250996,
          -0.744772792734441,
          -0.7385486797437824,
          -0.7323245667531237,
          -0.7261004537624651,
          -0.7198763407718065,
          -0.7136522277811479,
          -0.7074281147904888,
          -0.7012040017998302,
          -0.6949798888091716,
          -0.688755775818513,
          -0.6825316628278544,
          -0.6763075498371958,
          -0.6700834368465372,
          -0.6638593238558785,
          -0.6576352108652199,
          -0.6514110978745613,
          -0.6451869848839027,
          -0.6389628718932441,
          -0.6327387589025855,
          -0.6265146459119268,
          -0.6202905329212678,
          -0.6140664199306092,
          -0.6078423069399506,
          -0.601618193949292,
          -0.5953940809586333,
          -0.5891699679679747,
          -0.5829458549773161,
          -0.5767217419866575,
          -0.5704976289959989,
          -0.5642735160053403,
          -0.5580494030146816,
          -0.551825290024023,
          -0.5456011770333644,
          -0.5393770640427058,
          -0.5331529510520472,
          -0.5269288380613881,
          -0.5207047250707295,
          -0.5144806120800709,
          -0.5082564990894123,
          -0.5020323860987537,
          -0.49580827310809505,
          -0.48958416011743644,
          -0.4833600471267778,
          -0.4771359341361192,
          -0.4709118211454606,
          -0.464687708154802,
          -0.45846359516414337,
          -0.45223948217348475,
          -0.44601536918282614,
          -0.4397912561921675,
          -0.43356714320150846,
          -0.42734303021084985,
          -0.42111891722019124,
          -0.4148948042295326,
          -0.408670691238874,
          -0.4024465782482154,
          -0.3962224652575568,
          -0.38999835226689816,
          -0.38377423927623955,
          -0.37755012628558093,
          -0.3713260132949223,
          -0.3651019003042637,
          -0.3588777873136051,
          -0.3526536743229465,
          -0.3464295613322874,
          -0.3402054483416288,
          -0.3339813353509702,
          -0.3277572223603116,
          -0.32153310936965296,
          -0.31530899637899434,
          -0.30908488338833573,
          -0.3028607703976771,
          -0.2966366574070185,
          -0.2904125444163599,
          -0.28418843142570127,
          -0.27796431843504266,
          -0.27174020544438404,
          -0.2655160924537254,
          -0.2592919794630668,
          -0.25306786647240775,
          -0.24684375348174914,
          -0.24061964049109053,
          -0.2343955275004319,
          -0.2281714145097733,
          -0.22194730151911468,
          -0.21572318852845607,
          -0.20949907553779745,
          -0.20327496254713884,
          -0.19705084955648022,
          -0.1908267365658216,
          -0.184602623575163,
          -0.17837851058450438,
          -0.17215439759384576,
          -0.1659302846031867,
          -0.1597061716125281,
          -0.15348205862186948,
          -0.14725794563121086,
          -0.14103383264055225,
          -0.13480971964989363,
          -0.12858560665923502,
          -0.1223614936685764,
          -0.11613738067791779,
          -0.10991326768725918,
          -0.10368915469660056,
          -0.09746504170594195,
          -0.09124092871528333,
          -0.08501681572462472,
          -0.0787927027339661,
          -0.07256858974330704,
          -0.06634447675264843,
          -0.060120363761989815,
          -0.0538962507713312,
          -0.047672137780672585,
          -0.04144802479001397,
          -0.035223911799355356,
          -0.028999798808696742,
          -0.022775685818038127,
          -0.016551572827379513,
          -0.010327459836720898,
          -0.0041033468460622835,
          0.002120766144596331,
          0.008344879135254946,
          0.01456899212591356,
          0.02079310511657262,
          0.027017218107231233,
          0.03324133109788985,
          0.03946544408854846,
          0.04568955707920708,
          0.05191367006986569,
          0.058137783060524306,
          0.06436189605118292,
          0.07058600904184154,
          0.07681012203250015,
          0.08303423502315876,
          0.08925834801381738,
          0.095482461004476,
          0.10170657399513461,
          0.10793068698579367,
          0.11415479997645228,
          0.1203789129671109,
          0.1266030259577695,
          0.13282713894842813,
          0.13905125193908674,
          0.14527536492974535,
          0.15149947792040397,
          0.15772359091106258,
          0.1639477039017212,
          0.1701718168923798,
          0.17639592988303843,
          0.18262004287369704,
          0.18884415586435566,
          0.19506826885501427,
          0.20129238184567333,
          0.20751649483633194,
          0.21374060782699056,
          0.21996472081764917,
          0.2261888338083078,
          0.2324129467989664,
          0.23863705978962502,
          0.24486117278028363,
          0.25108528577094225,
          0.25730939876160086,
          0.2635335117522595,
          0.2697576247429181,
          0.2759817377335767,
          0.2822058507242353,
          0.28842996371489393,
          0.294654076705553,
          0.3008781896962116,
          0.3071023026868702,
          0.31332641567752884,
          0.31955052866818745,
          0.32577464165884606,
          0.3319987546495047,
          0.3382228676401633,
          0.3444469806308219,
          0.3506710936214805,
          0.35689520661213914,
          0.36311931960279775,
          0.36934343259345637,
          0.375567545584115,
          0.38179165857477404,
          0.38801577156543265,
          0.39423988455609127,
          0.4004639975467499,
          0.4066881105374085,
          0.4129122235280671,
          0.4191363365187257,
          0.42536044950938434,
          0.43158456250004296,
          0.43780867549070157,
          0.4440327884813602,
          0.4502569014720188,
          0.4564810144626774,
          0.46270512745333603,
          0.46892924044399464,
          0.4751533534346537,
          0.4813774664253123,
          0.48760157941597093,
          0.49382569240662955,
          0.5000498053972882,
          0.5062739183879468,
          0.512498031378605,
          0.518722144369264,
          0.5249462573599231,
          0.5311703703505812,
          0.5373944833412403,
          0.5436185963318985,
          0.5498427093225575,
          0.5560668223132157,
          0.5622909353038748,
          0.5685150482945329,
          0.574739161285192,
          0.5809632742758502,
          0.5871873872665092,
          0.5934115002571674,
          0.5996356132478264,
          0.6058597262384846,
          0.6120838392291437,
          0.6183079522198027,
          0.6245320652104609,
          0.63075617820112,
          0.6369802911917781,
          0.6432044041824372,
          0.6494285171730954,
          0.6556526301637544,
          0.6618767431544126,
          0.6681008561450716,
          0.6743249691357298,
          0.6805490821263889,
          0.686773195117047,
          0.6929973081077061,
          0.6992214210983652,
          0.7054455340890233,
          0.7116696470796824,
          0.7178937600703406,
          0.7241178730609996,
          0.7303419860516578,
          0.7365660990423168,
          0.742790212032975,
          0.7490143250236341,
          0.7552384380142922,
          0.7614625510049513,
          0.7676866639956095,
          0.7739107769862685,
          0.7801348899769267,
          0.7863590029675858,
          0.7925831159582448,
          0.798807228948903,
          0.805031341939562,
          0.8112554549302202,
          0.8174795679208793,
          0.8237036809115375,
          0.8299277939021965,
          0.8361519068928547,
          0.8423760198835137,
          0.8486001328741719,
          0.854824245864831,
          0.8610483588554891,
          0.8672724718461482,
          0.8734965848368064,
          0.8797206978274654,
          0.8859448108181245,
          0.8921689238087827,
          0.8983930367994417,
          0.9046171497900999,
          0.9108412627807589,
          0.9170653757714171,
          0.9232894887620762,
          0.9295136017527343,
          0.9357377147433934,
          0.9419618277340516,
          0.9481859407247106,
          0.9544100537153688,
          0.9606341667060279,
          0.966858279696686,
          0.9730823926873451,
          0.9793065056780041,
          0.9855306186686623,
          0.9917547316593214,
          0.9979788446499795,
          1.0042029576406386,
          1.0104270706312968,
          1.0166511836219558,
          1.022875296612614,
          1.029099409603273,
          1.0353235225939312,
          1.0415476355845903,
          1.0477717485752485,
          1.0539958615659075,
          1.0602199745565657,
          1.0664440875472248,
          1.0726682005378838,
          1.078892313528542,
          1.085116426519201,
          1.0913405395098592,
          1.0975646525005183,
          1.1037887654911764,
          1.1100128784818355,
          1.1162369914724937,
          1.1224611044631527,
          1.128685217453811,
          1.13490933044447,
          1.1411334434351281,
          1.1473575564257872,
          1.1535816694164454,
          1.1598057824071044,
          1.1660298953977635,
          1.1722540083884216,
          1.1784781213790807,
          1.1847022343697389,
          1.190926347360398,
          1.197150460351056,
          1.2033745733417152,
          1.2095986863323733,
          1.2158227993230324,
          1.2220469123136906,
          1.2282710253043496,
          1.2344951382950078,
          1.2407192512856668,
          1.246943364276326,
          1.253167477266984,
          1.2593915902576431,
          1.2656157032483013,
          1.2718398162389604,
          1.2780639292296185,
          1.2842880422202776,
          1.2905121552109358,
          1.2967362682015948,
          1.302960381192253,
          1.309184494182912,
          1.3154086071735702,
          1.3216327201642293,
          1.3278568331548875,
          1.3340809461455465,
          1.3403050591362056,
          1.3465291721268637,
          1.3527532851175228,
          1.358977398108181,
          1.36520151109884,
          1.3714256240894982,
          1.3776497370801573,
          1.3838738500708154,
          1.3900979630614745,
          1.3963220760521327,
          1.4025461890427917,
          1.4087703020334499,
          1.414994415024109,
          1.4212185280147671,
          1.4274426410054262,
          1.4336667539960852,
          1.4398908669867434,
          1.4461149799774025,
          1.4523390929680606,
          1.4585632059587197,
          1.4647873189493779,
          1.471011431940037,
          1.477235544930695,
          1.4834596579213541,
          1.4896837709120123,
          1.4959078839026714,
          1.5021319968933295,
          1.5083561098839886,
          1.5145802228746468,
          1.5208043358653058,
          1.527028448855965,
          1.533252561846623,
          1.5394766748372821,
          1.5457007878279403,
          1.5519249008185994,
          1.5581490138092575,
          1.5643731267999166,
          1.5705972397905748,
          1.5768213527812338,
          1.583045465771892,
          1.589269578762551,
          1.5954936917532092,
          1.6017178047438683,
          1.6079419177345264,
          1.6141660307251855,
          1.6203901437158446,
          1.6266142567065027,
          1.6328383696971618,
          1.63906248268782,
          1.645286595678479,
          1.6515107086691372,
          1.6577348216597962,
          1.6639589346504544,
          1.6701830476411135,
          1.6764071606317716,
          1.6826312736224307,
          1.6888553866130889,
          1.695079499603748,
          1.701303612594407,
          1.7075277255850652,
          1.7137518385757242,
          1.7199759515663824,
          1.7262000645570414,
          1.7324241775476996,
          1.7386482905383587,
          1.7448724035290168,
          1.751096516519676,
          1.757320629510334,
          1.7635447425009931,
          1.7697688554916513,
          1.7759929684823104,
          1.7822170814729685,
          1.7884411944636276,
          1.7946653074542867,
          1.8008894204449448,
          1.8071135334356039,
          1.813337646426262,
          1.819561759416921,
          1.8257858724075793,
          1.8320099853982383,
          1.8382340983888965,
          1.8444582113795556,
          1.8506823243702137,
          1.8569064373608728,
          1.863130550351531,
          1.86935466334219,
          1.8755787763328482,
          1.8818028893235073,
          1.8880270023141663,
          1.8942511153048245,
          1.9004752282954835,
          1.9066993412861417,
          1.9129234542768008,
          1.919147567267459,
          1.925371680258118,
          1.9315957932487762,
          1.9378199062394352,
          1.9440440192300934,
          1.9502681322207525,
          1.9564922452114106,
          1.9627163582020697,
          1.9689404711927279,
          1.975164584183387,
          1.981388697174046,
          1.9876128101647041,
          1.9938369231553632,
          2.0000610361460214,
          2.0062851491366804,
          2.0125092621273386,
          2.0187333751179977,
          2.024957488108656,
          2.031181601099315,
          2.037405714089973,
          2.043629827080632,
          2.0498539400712903,
          2.0560780530619494,
          2.0623021660526075,
          2.0685262790432666,
          2.0747503920339256,
          2.080974505024584,
          2.087198618015243,
          2.093422731005901,
          2.09964684399656,
          2.1058709569872183,
          2.1120950699778773,
          2.1183191829685355,
          2.1245432959591946,
          2.1307674089498527,
          2.136991521940512,
          2.14321563493117,
          2.149439747921829,
          2.155663860912488,
          2.1618879739031462,
          2.1681120868938053,
          2.1743361998844635,
          2.1805603128751225,
          2.1867844258657807,
          2.1930085388564398,
          2.199232651847098,
          2.205456764837757,
          2.211680877828415,
          2.217904990819074,
          2.2241291038097324,
          2.2303532168003914,
          2.2365773297910496,
          2.2428014427817087,
          2.2490255557723677,
          2.255249668763026,
          2.261473781753685,
          2.267697894744343,
          2.273922007735002,
          2.2801461207256604,
          2.2863702337163194,
          2.2925943467069776,
          2.2988184596976367,
          2.305042572688295,
          2.311266685678954,
          2.317490798669612,
          2.323714911660271,
          2.3299390246509293,
          2.3361631376415883,
          2.3423872506322474,
          2.3486113636229056,
          2.3548354766135646,
          2.361059589604223,
          2.367283702594882,
          2.37350781558554,
          2.379731928576199,
          2.3859560415668573,
          2.3921801545575163,
          2.3984042675481745,
          2.4046283805388335,
          2.4108524935294917,
          2.4170766065201508,
          2.423300719510809,
          2.429524832501468,
          2.435748945492127,
          2.4419730584827852,
          2.4481971714734443,
          2.4544212844641025,
          2.4606453974547615,
          2.4668695104454197,
          2.4730936234360787,
          2.479317736426737,
          2.485541849417396,
          2.491765962408054,
          2.497990075398713,
          2.5042141883893714,
          2.5104383013800304,
          2.5166624143706886,
          2.5228865273613477,
          2.5291106403520067,
          2.535334753342665,
          2.541558866333324,
          2.547782979323982,
          2.554007092314641,
          2.5602312053052994,
          2.5664553182959584,
          2.5726794312866166,
          2.5789035442772756,
          2.585127657267934,
          2.591351770258593,
          2.597575883249251,
          2.60379999623991,
          2.6100241092305683,
          2.6162482222212273,
          2.6224723352118864,
          2.6286964482025446,
          2.6349205611932036,
          2.641144674183862,
          2.647368787174521,
          2.653592900165179,
          2.659817013155838,
          2.6660411261464962,
          2.6722652391371553,
          2.6784893521278135,
          2.6847134651184725,
          2.6909375781091307,
          2.6971616910997898,
          2.703385804090449,
          2.709609917081107,
          2.715834030071766,
          2.722058143062424,
          2.7282822560530837
         ],
         "y": [
          0.003110217323161847,
          0.0031594887644989422,
          0.0032086622886502193,
          0.0032577309710337165,
          0.0033066889199288942,
          0.003355531282225021,
          0.0034042542460563283,
          0.003452855040414589,
          0.003501331931847095,
          0.0035496842183645456,
          0.003597912220699292,
          0.003646017271069061,
          0.003694001699614907,
          0.0037418688186947368,
          0.003789622905224805,
          0.0038372691812714665,
          0.0038848137931036474,
          0.0039322637889234345,
          0.003979627095497273,
          0.004026912493913747,
          0.004074129594695915,
          0.00412128881249618,
          0.0041684013406000945,
          0.004215479125462226,
          0.004262534841492086,
          0.004309581866301426,
          0.004356634256615663,
          0.0044037067250422635,
          0.004450814617877162,
          0.0044979738941171785,
          0.004545201105831843,
          0.004592513380032143,
          0.004639928402156494,
          0.004687464401276048,
          0.004735140137102199,
          0.004782974888858985,
          0.0048309884460621495,
          0.004879201101225486,
          0.004927633644492761,
          0.004976307360171748,
          0.0050252440251245655,
          0.0050744659089460836,
          0.005123995775840516,
          0.00517385688808449,
          0.005224073010943986,
          0.005274668418892198,
          0.005325667902955983,
          0.00537709677900024,
          0.005428980896742525,
          0.0054813466492743095,
          0.005534220982851304,
          0.005587631406702576,
          0.005641606002597389,
          0.005696173433900207,
          0.00575136295383688,
          0.005807204412691011,
          0.005863728263646444,
          0.00592096556699201,
          0.005978947992406458,
          0.006037707819046219,
          0.0060972779331653956,
          0.006157691823006662,
          0.006218983570713489,
          0.006281187841028159,
          0.006344339866556326,
          0.006408475429397663,
          0.00647363083896302,
          0.006539842905821237,
          0.0066071489114441755,
          0.006675586573744859,
          0.0067451940083328036,
          0.006816009685440174,
          0.006888072382504513,
          0.006961421132426437,
          0.007036095167554417,
          0.007112133859483828,
          0.007189576654792494,
          0.007268463006870893,
          0.007348832304040973,
          0.007430723794193542,
          0.007514176506209601,
          0.007599229168466125,
          0.007685920124760723,
          0.0077742872480233115,
          0.00786436785221405,
          0.007956198602837812,
          0.008049815426533609,
          0.008145253420224116,
          0.008242546760334616,
          0.008341728612612898,
          0.008442831043100531,
          0.008545884930822482,
          0.008650919882775672,
          0.008757964151806845,
          0.00886704455797745,
          0.00897818641401638,
          0.009091413455461606,
          0.009206747776087492,
          0.009324209769207727,
          0.00944381807543192,
          0.00956558953743921,
          0.009689539162313174,
          0.009815680091959796,
          0.009944023582103454,
          0.010074578990326188,
          0.010207353773581514,
          0.01034235349557664,
          0.010479581844376674,
          0.010619040660540183,
          0.010760729976048985,
          0.010904648064244729,
          0.011050791500933167,
          0.011199155236761401,
          0.011349732680917508,
          0.011502515796142128,
          0.011657495204981917,
          0.011814660307153063,
          0.011973999407820258,
          0.0121354998565336,
          0.012299148196502161,
          0.012464930323819895,
          0.012632831656196435,
          0.012802837310682892,
          0.01297493228982246,
          0.0131491016755953,
          0.01332533083047049,
          0.013503605604821752,
          0.013683912549911305,
          0.013866239135596812,
          0.01405057397186928,
          0.014236907033287803,
          0.01442522988533758,
          0.014615535911704008,
          0.014807820541424682,
          0.015002081474857201,
          0.015198318907380035,
          0.015396535749728806,
          0.015596737843862122,
          0.015798934173246796,
          0.016003137066454752,
          0.016209362392972295,
          0.01641762975013732,
          0.01662796264013869,
          0.01684038863604036,
          0.017054939535824085,
          0.0172716515034832,
          0.017490565196244392,
          0.017711725877044827,
          0.01793518351144675,
          0.018160992848233852,
          0.018389213482999114,
          0.018619909904105423,
          0.018853151520475668,
          0.01908901267074875,
          0.019327572613422824,
          0.019568915497691644,
          0.01981313031477333,
          0.0200603108296208,
          0.02031055549299917,
          0.02056396733401115,
          0.020820653833248826,
          0.021080726776847438,
          0.021344302091814586,
          0.021611499663104966,
          0.021882443133005636,
          0.022157259683491068,
          0.02243607980229782,
          0.022719037033557217,
          0.023006267713907274,
          0.023297910695088044,
          0.02359410705409678,
          0.023894999792052608,
          0.024200733522981705,
          0.024511454153795867,
          0.024827308556784902,
          0.025148444235990837,
          0.025475008988868057,
          0.02580715056466127,
          0.026145016320956987,
          0.02648875287987465,
          0.026838505785369865,
          0.027194419163116393,
          0.027556635384422042,
          0.027925294735611055,
          0.028300535094275943,
          0.02868249161376203,
          0.029071296417202384,
          0.029467078302362486,
          0.029869962458493885,
          0.030280070196322024,
          0.03069751869221649,
          0.031122420747506385,
          0.03155488456381187,
          0.03199501353516538,
          0.03244290605759342,
          0.032898655356721165,
          0.03336234933385408,
          0.03383407043087137,
          0.03431389551415223,
          0.034801895777636496,
          0.0352981366649981,
          0.035802677810793805,
          0.0363155730003257,
          0.03683687014783953,
          0.037366611292564765,
          0.03790483261198609,
          0.038451564451630255,
          0.03900683137054336,
          0.039570652201535855,
          0.04014304012517846,
          0.04072400275644333,
          0.04131354224280734,
          0.04191165537256215,
          0.0425183336920098,
          0.04313356363017441,
          0.04375732662960893,
          0.044389599281849684,
          0.04503035346604026,
          0.04567955648923761,
          0.04633717122691208,
          0.04700315626215685,
          0.047677466022147924,
          0.048360050910425875,
          0.04905085743361059,
          0.049749828321216834,
          0.050456902637303826,
          0.051172015882763,
          0.05189510008713748,
          0.052626083888960055,
          0.053364892603702134,
          0.05411144827853554,
          0.054865669733238594,
          0.055627472586693344,
          0.05639676926857123,
          0.0571734690159329,
          0.05795747785462074,
          0.05874869856547064,
          0.059547030635523565,
          0.06035237019457009,
          0.06116460993752164,
          0.061983639033254385,
          0.0628093430207291,
          0.0636416036933439,
          0.06448029897262521,
          0.06532530277250857,
          0.0661764848556017,
          0.0670337106829571,
          0.0678968412590037,
          0.06876573297341254,
          0.0696402374417698,
          0.07052020134704218,
          0.07140546628388979,
          0.07229586860797448,
          0.07319123929245838,
          0.07409140379394556,
          0.07499618193014874,
          0.07590538777158512,
          0.07681882954961024,
          0.07773630958308164,
          0.07865762422592668,
          0.07958256383783498,
          0.08051091278024688,
          0.08144244943972231,
          0.08237694628069403,
          0.08331416992949295,
          0.08425388129141488,
          0.08519583570245769,
          0.08613978311720619,
          0.08708546833417295,
          0.08803263125972767,
          0.08898100721154886,
          0.08993032726233234,
          0.09088031862427634,
          0.0918307050746338,
          0.0927812074223982,
          0.09373154401594172,
          0.09468143129118577,
          0.09563058435963001,
          0.09657871763531795,
          0.09752554549955868,
          0.09847078300197412,
          0.09941414659618654,
          0.10035535490821484,
          0.1012941295353983,
          0.10223019587343639,
          0.10316328396888964,
          0.10409312939428182,
          0.10501947414271726,
          0.10594206753873751,
          0.10686066716195239,
          0.10777503977981288,
          0.10868496228573553,
          0.1095902226386517,
          0.11049062079993976,
          0.11138596966359009,
          0.11227609597538543,
          0.11316084123680575,
          0.11404006258934343,
          0.11491363367489207,
          0.1157814454678786,
          0.11664340707484654,
          0.11749944649724268,
          0.11834951135324193,
          0.11919356955454267,
          0.12003160993418503,
          0.12086364282159544,
          0.12168970056121663,
          0.12250983797127796,
          0.12332413273946832,
          0.12413268575249589,
          0.12493562135676863,
          0.12573308754769366,
          0.1265252560853724,
          0.1273123225347585,
          0.12809450622866164,
          0.12887205015229694,
          0.1296452207484022,
          0.1304143076423051,
          0.13117962328664406,
          0.13194150252581827,
          0.1327003020805907,
          0.13345639995362393,
          0.13421019475709178,
          0.1349621049638637,
          0.1357125680841106,
          0.13646203976953278,
          0.13721099284774493,
          0.13795991628969478,
          0.13870931411330173,
          0.13945970422682327,
          0.14021161721574132,
          0.14096559507725523,
          0.14172218990671342,
          0.1424819625405825,
          0.14324548116076094,
          0.14401331986526403,
          0.14478605721048032,
          0.1455642747303712,
          0.1463485554381172,
          0.1471394823158271,
          0.14793763679802274,
          0.14874359725466704,
          0.1495579374795453,
          0.15038122518981686,
          0.1512140205425427,
          0.15205687467394932,
          0.15291032826711912,
          0.1537749101537085,
          0.15465113595516564,
          0.15553950676877432,
          0.15644050790368463,
          0.15735460767188442,
          0.15828225623885095,
          0.1592238845383722,
          0.16017990325577283,
          0.16115070188347294,
          0.16213664785252213,
          0.16313808574341182,
          0.1641553365791288,
          0.16518869720305537,
          0.16623843974394914,
          0.16730481116985021,
          0.16838803293236004,
          0.16948830070233908,
          0.1706057841976531,
          0.17174062710317317,
          0.17289294708282463,
          0.17406283588303706,
          0.1752503595265443,
          0.17645555859503725,
          0.17767844859877252,
          0.17891902043082353,
          0.1801772409032442,
          0.1814530533620415,
          0.1827463783774545,
          0.18405711450568088,
          0.18538513911783483,
          0.18673030929158435,
          0.18809246276062042,
          0.18947141891678865,
          0.19086697985947107,
          0.1922789314865571,
          0.1937070446211116,
          0.19515107616767838,
          0.1966107702919807,
          0.1980858596176696,
          0.19957606643364587,
          0.2010811039054448,
          0.202600677284119,
          0.2041344851060633,
          0.20568222037725897,
          0.20724357173549107,
          0.20881822458417237,
          0.21040586219158539,
          0.21200616674947628,
          0.21361882038518665,
          0.2152435061217147,
          0.21687990878038002,
          0.21852771582106648,
          0.22018661811534904,
          0.22185631064816586,
          0.2235364931440865,
          0.22522687061463179,
          0.2269271538235497,
          0.22863705966737993,
          0.23035631146914523,
          0.2320846391834671,
          0.233821779511932,
          0.23556747592802757,
          0.23732147861151112,
          0.23908354429258252,
          0.24085343600678155,
          0.2426309227620452,
          0.2444157791199079,
          0.24620778469332474,
          0.24800672356413164,
          0.24981238362364705,
          0.2516245558404031,
          0.2534430334594641,
          0.2552676111382414,
          0.25709808402411943,
          0.2589342467796235,
          0.2607758925612212,
          0.2626228119581615,
          0.26447479189810874,
          0.2663316145265385,
          0.26819305606713956,
          0.2700588856706163,
          0.27192886425948165,
          0.2738027433764894,
          0.2756802640444664,
          0.27756115564529654,
          0.2794451348258059,
          0.2813319044382251,
          0.28322115252280056,
          0.28511255133997937,
          0.287005756459379,
          0.2889004059125414,
          0.29079611941617867,
          0.29269249767229244,
          0.29458912175121377,
          0.29648555256319736,
          0.29838133042379084,
          0.3002759747177289,
          0.30216898366562306,
          0.3040598341971958,
          0.3059479819342682,
          0.30783286128614595,
          0.3097138856594737,
          0.31159044778402106,
          0.31346192015526614,
          0.3153276555940232,
          0.3171869879227235,
          0.3190392327573685,
          0.320883688413509,
          0.322719636924028,
          0.32454634516585684,
          0.32636306609219523,
          0.3281690400661941,
          0.32996349629151345,
          0.33174565433461356,
          0.33351472573314006,
          0.3352699156842447,
          0.33701042480625876,
          0.33873545096667046,
          0.34044419116900465,
          0.3421358434908164,
          0.34380960906471403,
          0.3454646940940539,
          0.34710031189469287,
          0.3487156849540332,
          0.35031004699841733,
          0.3518826450598617,
          0.3534327415330369,
          0.3549596162134259,
          0.35646256830761414,
          0.35794091840675346,
          0.35939401041439434,
          0.3608212134200309,
          0.3622219235099506,
          0.36359556550723277,
          0.3649415946330462,
          0.36625949808175257,
          0.36754879650269795,
          0.3688090453820082,
          0.3700398363181274,
          0.3712407981853724,
          0.3724115981802469,
          0.37355194274582254,
          0.3746615783700524,
          0.3757402922544581,
          0.37678791285024926,
          0.3778043102595304,
          0.37878939649988747,
          0.37974312563126683,
          0.3806654937447099,
          0.38155653881313756,
          0.38241634040499867,
          0.38324501926225524,
          0.38404273674476475,
          0.384809694143751,
          0.3855461318676214,
          0.38625232850399555,
          0.3869285997623172,
          0.3875752973019942,
          0.38819280745145934,
          0.38878154982407465,
          0.38934197583718255,
          0.38987456714104557,
          0.39037983396476955,
          0.3908583133866475,
          0.39131056753663174,
          0.3917371817389087,
          0.3921387626027419,
          0.39251593606993185,
          0.39286934542734725,
          0.3931996492930478,
          0.3935075195845872,
          0.39379363947802776,
          0.39405870136617605,
          0.39430340482443177,
          0.39452845459249586,
          0.3947345585800223,
          0.3949224259040428,
          0.3950927649657581,
          0.3952462815739604,
          0.3953836771220503,
          0.3955056468252096,
          0.39561287802390405,
          0.3957060485594751,
          0.39578582522709194,
          0.39585286231089434,
          0.39590780020563493,
          0.39595126412861087,
          0.395983862925169,
          0.3960061879705038,
          0.39601881216992707,
          0.3960222890592312,
          0.3960171520062221,
          0.3960039135139289,
          0.3959830646254552,
          0.39595507442990197,
          0.3959203896682472,
          0.39587943443756113,
          0.39583260999144043,
          0.39578029463404324,
          0.3957228437046808,
          0.39566058964946943,
          0.3955938421761288,
          0.3955228884876738,
          0.39544799359036936,
          0.3953694006710174,
          0.39528733153836093,
          0.39520198712318383,
          0.39511354803140714,
          0.39502217514440435,
          0.3949280102605652,
          0.39483117677207324,
          0.3947317803708207,
          0.39462990977734763,
          0.3945256374867497,
          0.394419020525538,
          0.394310101213565,
          0.39419890792522644,
          0.3940854558443819,
          0.39396974770759197,
          0.3938517745305241,
          0.39373151631267367,
          0.39360894271580366,
          0.3934840137118476,
          0.3933566801963842,
          0.3932268845641171,
          0.39309456124321124,
          0.3929596371857381,
          0.392822032311867,
          0.39268165990590387,
          0.3925384269626714,
          0.3923922344831995,
          0.39224297771908895,
          0.3920905463654016,
          0.3919348247023085,
          0.3917756916862,
          0.3916130209913504,
          0.3914466810036463,
          0.3912765347682844,
          0.3911024398937073,
          0.39092424841441054,
          0.3907418066155855,
          0.3905549548228801,
          0.3903635271608323,
          0.39016735128381136,
          0.3899662480835183,
          0.3897600313773046,
          0.3895485075817495,
          0.38933147537606144,
          0.3891087253599944,
          0.38888003971104246,
          0.38864519184570806,
          0.38840394608966977,
          0.388156057361648,
          0.38790127087570114,
          0.3876393218666071,
          0.3873699353428861,
          0.3870928258718356,
          0.38680769740079374,
          0.3865142431186471,
          0.3862121453613594,
          0.3859010755650142,
          0.3855806942696369,
          0.3852506511767039,
          0.3849105852629594,
          0.3845601249527869,
          0.384198888351064,
          0.3838264835380104,
          0.3834425089271912,
          0.3830465536874322,
          0.3826381982289932,
          0.38221701475396985,
          0.38178256787043485,
          0.3813344152695015,
          0.3808721084640073,
          0.3803951935871659,
          0.37990321224914847,
          0.37939570244912263,
          0.3788721995399856,
          0.37833223724259274,
          0.37777534870601825,
          0.37720106760999444,
          0.3766089293054487,
          0.37599847198870384,
          0.3753692379047248,
          0.3747207745745198,
          0.3740526360416065,
          0.37336438413232226,
          0.3726555897245392,
          0.37192583401931006,
          0.37117470980983197,
          0.370401822742085,
          0.36960679256147616,
          0.3687892543398436,
          0.36794885967720603,
          0.36708527787271883,
          0.3661981970594235,
          0.3652873252974936,
          0.3643523916208655,
          0.36339314703234266,
          0.3624093654424765,
          0.3614008445477912,
          0.3603674066442188,
          0.3593088993718733,
          0.3582251963876696,
          0.35711619796261707,
          0.3559818315009819,
          0.35482205197892114,
          0.35363684230057263,
          0.35242621357000325,
          0.351190205277845,
          0.3499288854018768,
          0.34864235042124475,
          0.3473307252444481,
          0.3459941630516694,
          0.3446328450524469,
          0.3432469801601218,
          0.34183680458492904,
          0.34040258134798235,
          0.3389445997188356,
          0.33746317457965946,
          0.33595864571945266,
          0.33443137706204135,
          0.33288175583195845,
          0.3313101916625643,
          0.32971711565108164,
          0.32810297936541993,
          0.32646825380792044,
          0.3248134283412923,
          0.323139009582201,
          0.32144552026807566,
          0.3197334981027629,
          0.31800349458675775,
          0.3162560738376915,
          0.31449181140680593,
          0.31271129309702456,
          0.31091511378820036,
          0.3091038762749426,
          0.30727819012232843,
          0.3054386705445558,
          0.30358593731142897,
          0.3017206136872792,
          0.29984332540668013,
          0.2979546996909783,
          0.29605536430937884,
          0.29414594668793087,
          0.2922270730694167,
          0.2902993677267695,
          0.2883634522322121,
          0.2864199447839324,
          0.284469459591671,
          0.2825126063221684,
          0.28054998960499666,
          0.278582208598863,
          0.2766098566180465,
          0.2746335208181949,
          0.27265378194031037,
          0.2706712141113245,
          0.26868638469929945,
          0.2666998542208809,
          0.2647121762983076,
          0.2627238976629224,
          0.26073555820182626,
          0.25874769104403117,
          0.2567608226822077,
          0.25477547312589227,
          0.2527921560818225,
          0.25081137915690455,
          0.24883364407917546,
          0.2468594469320406,
          0.24488927839697897,
          0.24292362399990608,
          0.24096296435637538,
          0.23900777541084145,
          0.23705852866529323,
          0.2351156913926732,
          0.2331797268306415,
          0.23125109435142738,
          0.22933024960370904,
          0.22741764462272304,
          0.22551372790503654,
          0.2236189444447532,
          0.2217337357281939,
          0.21985853968447608,
          0.2179937905897379,
          0.2161399189231576,
          0.21429735117328222,
          0.21246650959361138,
          0.21064781190675835,
          0.20884167095695727,
          0.20704849431108832,
          0.2052686838088112,
          0.20350263506282937,
          0.20175073691069928,
          0.20001337082002194,
          0.1982909102492257,
          0.1965837199665541,
          0.1948921553302044,
          0.19321656153293593,
          0.19155727281476956,
          0.18991461164770823,
          0.18828888789669,
          0.1866803979612119,
          0.18508942390231917,
          0.18351623255980276,
          0.18196107466464637,
          0.18042418395186388,
          0.1789057762789856,
          0.177406048755498,
          0.17592517888857703,
          0.1744633237504639,
          0.1730206191727688,
          0.17159717897294677,
          0.1701930942180716,
          0.16880843253090203,
          0.16744323744308262,
          0.16609752780011758,
          0.1647712972225369,
          0.16346451362744324,
          0.16217711881433594,
          0.16090902811883165,
          0.1596601301375806,
          0.1584302865273489,
          0.15721933188088505,
          0.1560270736818283,
          0.15485329234054337,
          0.1536977413123777,
          0.1525601472994473,
          0.15144021053666784,
          0.15033760516233188,
          0.14925197967315856,
          0.1481829574633183,
          0.14713013744656742,
          0.1460930947602182,
          0.14507138154931984,
          0.14406452782902404,
          0.14307204242279445,
          0.14209341397374217,
          0.14112811202607217,
          0.1401755881733071,
          0.13923527726966292,
          0.13830659870069878,
          0.13738895770909718,
          0.1364817467712221,
          0.1355843470198908,
          0.1346961297086209,
          0.13381645771245818,
          0.13294468706036228,
          0.13208016849401338,
          0.13122224904783972,
          0.13037027364497936,
          0.12952358670388903,
          0.1286815337502726,
          0.12784346302903832,
          0.12700872711101455,
          0.12617668448921662,
          0.1253467011595368,
          0.1245181521808227,
          0.12369042320943235,
          0.12286291200348258,
          0.122035029892165,
          0.12120620320566836,
          0.12037587466142625,
          0.11954350470260937,
          0.11870857278498298,
          0.11787057860847275,
          0.11702904329000438,
          0.11618351047442464,
          0.11533354738054627,
          0.11447874577961459,
          0.11361872290374188,
          0.11275312228211341,
          0.11188161450302878,
          0.11100389790010191,
          0.11011969916119929,
          0.10922877385896433,
          0.1083309069020256,
          0.10742591290624225,
          0.10651363648560422,
          0.10559395246263141,
          0.10466676599838234,
          0.10373201264240528,
          0.10278965830320277,
          0.10183969914000605,
          0.1008821613768773,
          0.09991710104035771,
          0.09894460362210303,
          0.09796478366812225,
          0.09697778429643951,
          0.09598377664516752,
          0.09498295925315434,
          0.09397555737553209,
          0.09296182223663271,
          0.09194203022289946,
          0.09091648201853543,
          0.08988550168677088,
          0.08884943569973364,
          0.0878086519200212,
          0.08676353853715896,
          0.08571450296222453,
          0.08466197068398454,
          0.0836063840899677,
          0.08254820125594167,
          0.08148789470732098,
          0.08042595015606571,
          0.07936286521665445,
          0.07829914810474493,
          0.07723531632213133,
          0.07617189533162186,
          0.0751094172254351,
          0.07404841939070937,
          0.0729894431756795,
          0.07193303256004724,
          0.07087973283301646,
          0.0698300892824187,
          0.06878464589828087,
          0.06774394409412085,
          0.066708521449173,
          0.06567891047465486,
          0.06465563740709061,
          0.0636392210315989,
          0.06263017153794241,
          0.06162898941201176,
          0.06063616436529254,
          0.059652174304725906,
          0.058677484345239186,
          0.05771254586706471,
          0.0567577956198279,
          0.055813654875214044,
          0.05488052862987338,
          0.05395880486004806,
          0.05304885382924629,
          0.05215102745010515,
          0.051265658701419574,
          0.05039306110113079,
          0.0495335282358951,
          0.04868733334767458,
          0.04785472897761043,
          0.047035946667269346,
          0.046231196717169784,
          0.045440668002327926,
          0.0446645278443872,
          0.043902921939734385,
          0.04315597434283059,
          0.042423787503841154,
          0.04170644235948115,
          0.04100399847585432,
          0.04031649424191598,
          0.03964394711206128,
          0.03898635389620534,
          0.03834369109560908,
          0.03771591528258978,
          0.03710296352215116,
          0.0365047538334771,
          0.03592118568914549,
          0.03535214054984539,
          0.03479748243231202,
          0.03425705850814227,
          0.033730699731102556,
          0.033218221490508425,
          0.03271942428822658,
          0.0322340944368347,
          0.0317620047764665,
          0.031302915407873055,
          0.03085657443924376,
          0.03042271874434896,
          0.030001074729600848,
          0.029591359107661835,
          0.02919327967528205,
          0.02880653609309588,
          0.02843082066517453,
          0.028065819116194688,
          0.027711211364161548,
          0.027366672286701678,
          0.027031872479029224,
          0.026706479001775415,
          0.02639015611696899,
          0.02608256601054984,
          0.02578336949989865,
          0.025492226724970177,
          0.025208797821718656,
          0.024932743576612532,
          0.024663726061138997,
          0.024401409245307364,
          0.02414545958926368,
          0.0238955466122356,
          0.023651343438127827,
          0.023412527317191942,
          0.023178780123290277,
          0.022949788826373323,
          0.02272524593987955,
          0.022504849942859305,
          0.022288305676707455,
          0.02207532471647382,
          0.021865625716796344,
          0.021658934732575505,
          0.021454985514577887,
          0.021253519780219648,
          0.021054287459840688,
          0.020857046918833905,
          0.02066156515604478,
          0.020467617978899046,
          0.020274990155759003,
          0.020083475546042215,
          0.019892877208668072,
          0.019703007489423715,
          0.019513688087864123,
          0.019324750104377352,
          0.01913603406806158,
          0.0189473899460715,
          0.018758677135096977,
          0.01856976443564355,
          0.01838053000978266,
          0.01819086132304103,
          0.018000655071091495,
          0.017809817091905135,
          0.01761826226401305,
          0.01742591439152032,
          0.01723270607650069,
          0.017038578579391724,
          0.016843481667994938,
          0.0166473734556741,
          0.016450220229330598,
          0.016251996267720586,
          0.016052683650665957,
          0.01585227205969659,
          0.015650758570649268,
          0.015448147438734414,
          0.015244449876571807,
          0.015039683825683057,
          0.014833873721919862,
          0.014627050255295686,
          0.014419250124681784,
          0.014210515787818533,
          0.014000895207088044,
          0.013790441591486942,
          0.013579213135234143,
          0.01336727275344349,
          0.01315468781528858,
          0.012941529875084961,
          0.012727874401711548,
          0.012513800506794466,
          0.012299390672073349,
          0.012084730476371906,
          0.01186990832259329,
          0.011655015165162257,
          0.011440144238334816,
          0.01122539078579844,
          0.011010851791983668,
          0.01079662571550977,
          0.01058281222518462,
          0.010369511938978915,
          0.010156826166392924,
          0.009944856654629802
         ],
         "type": "scatter"
        }
       ],
       "layout": {
        "template": {
         "data": {
          "histogram2dcontour": [
           {
            "type": "histogram2dcontour",
            "colorbar": {
             "outlinewidth": 0,
             "ticks": ""
            },
            "colorscale": [
             [
              0.0,
              "#0d0887"
             ],
             [
              0.1111111111111111,
              "#46039f"
             ],
             [
              0.2222222222222222,
              "#7201a8"
             ],
             [
              0.3333333333333333,
              "#9c179e"
             ],
             [
              0.4444444444444444,
              "#bd3786"
             ],
             [
              0.5555555555555556,
              "#d8576b"
             ],
             [
              0.6666666666666666,
              "#ed7953"
             ],
             [
              0.7777777777777778,
              "#fb9f3a"
             ],
             [
              0.8888888888888888,
              "#fdca26"
             ],
             [
              1.0,
              "#f0f921"
             ]
            ]
           }
          ],
          "choropleth": [
           {
            "type": "choropleth",
            "colorbar": {
             "outlinewidth": 0,
             "ticks": ""
            }
           }
          ],
          "histogram2d": [
           {
            "type": "histogram2d",
            "colorbar": {
             "outlinewidth": 0,
             "ticks": ""
            },
            "colorscale": [
             [
              0.0,
              "#0d0887"
             ],
             [
              0.1111111111111111,
              "#46039f"
             ],
             [
              0.2222222222222222,
              "#7201a8"
             ],
             [
              0.3333333333333333,
              "#9c179e"
             ],
             [
              0.4444444444444444,
              "#bd3786"
             ],
             [
              0.5555555555555556,
              "#d8576b"
             ],
             [
              0.6666666666666666,
              "#ed7953"
             ],
             [
              0.7777777777777778,
              "#fb9f3a"
             ],
             [
              0.8888888888888888,
              "#fdca26"
             ],
             [
              1.0,
              "#f0f921"
             ]
            ]
           }
          ],
          "heatmap": [
           {
            "type": "heatmap",
            "colorbar": {
             "outlinewidth": 0,
             "ticks": ""
            },
            "colorscale": [
             [
              0.0,
              "#0d0887"
             ],
             [
              0.1111111111111111,
              "#46039f"
             ],
             [
              0.2222222222222222,
              "#7201a8"
             ],
             [
              0.3333333333333333,
              "#9c179e"
             ],
             [
              0.4444444444444444,
              "#bd3786"
             ],
             [
              0.5555555555555556,
              "#d8576b"
             ],
             [
              0.6666666666666666,
              "#ed7953"
             ],
             [
              0.7777777777777778,
              "#fb9f3a"
             ],
             [
              0.8888888888888888,
              "#fdca26"
             ],
             [
              1.0,
              "#f0f921"
             ]
            ]
           }
          ],
          "heatmapgl": [
           {
            "type": "heatmapgl",
            "colorbar": {
             "outlinewidth": 0,
             "ticks": ""
            },
            "colorscale": [
             [
              0.0,
              "#0d0887"
             ],
             [
              0.1111111111111111,
              "#46039f"
             ],
             [
              0.2222222222222222,
              "#7201a8"
             ],
             [
              0.3333333333333333,
              "#9c179e"
             ],
             [
              0.4444444444444444,
              "#bd3786"
             ],
             [
              0.5555555555555556,
              "#d8576b"
             ],
             [
              0.6666666666666666,
              "#ed7953"
             ],
             [
              0.7777777777777778,
              "#fb9f3a"
             ],
             [
              0.8888888888888888,
              "#fdca26"
             ],
             [
              1.0,
              "#f0f921"
             ]
            ]
           }
          ],
          "contourcarpet": [
           {
            "type": "contourcarpet",
            "colorbar": {
             "outlinewidth": 0,
             "ticks": ""
            }
           }
          ],
          "contour": [
           {
            "type": "contour",
            "colorbar": {
             "outlinewidth": 0,
             "ticks": ""
            },
            "colorscale": [
             [
              0.0,
              "#0d0887"
             ],
             [
              0.1111111111111111,
              "#46039f"
             ],
             [
              0.2222222222222222,
              "#7201a8"
             ],
             [
              0.3333333333333333,
              "#9c179e"
             ],
             [
              0.4444444444444444,
              "#bd3786"
             ],
             [
              0.5555555555555556,
              "#d8576b"
             ],
             [
              0.6666666666666666,
              "#ed7953"
             ],
             [
              0.7777777777777778,
              "#fb9f3a"
             ],
             [
              0.8888888888888888,
              "#fdca26"
             ],
             [
              1.0,
              "#f0f921"
             ]
            ]
           }
          ],
          "surface": [
           {
            "type": "surface",
            "colorbar": {
             "outlinewidth": 0,
             "ticks": ""
            },
            "colorscale": [
             [
              0.0,
              "#0d0887"
             ],
             [
              0.1111111111111111,
              "#46039f"
             ],
             [
              0.2222222222222222,
              "#7201a8"
             ],
             [
              0.3333333333333333,
              "#9c179e"
             ],
             [
              0.4444444444444444,
              "#bd3786"
             ],
             [
              0.5555555555555556,
              "#d8576b"
             ],
             [
              0.6666666666666666,
              "#ed7953"
             ],
             [
              0.7777777777777778,
              "#fb9f3a"
             ],
             [
              0.8888888888888888,
              "#fdca26"
             ],
             [
              1.0,
              "#f0f921"
             ]
            ]
           }
          ],
          "mesh3d": [
           {
            "type": "mesh3d",
            "colorbar": {
             "outlinewidth": 0,
             "ticks": ""
            }
           }
          ],
          "scatter": [
           {
            "fillpattern": {
             "fillmode": "overlay",
             "size": 10,
             "solidity": 0.2
            },
            "type": "scatter"
           }
          ],
          "parcoords": [
           {
            "type": "parcoords",
            "line": {
             "colorbar": {
              "outlinewidth": 0,
              "ticks": ""
             }
            }
           }
          ],
          "scatterpolargl": [
           {
            "type": "scatterpolargl",
            "marker": {
             "colorbar": {
              "outlinewidth": 0,
              "ticks": ""
             }
            }
           }
          ],
          "bar": [
           {
            "error_x": {
             "color": "#2a3f5f"
            },
            "error_y": {
             "color": "#2a3f5f"
            },
            "marker": {
             "line": {
              "color": "#E5ECF6",
              "width": 0.5
             },
             "pattern": {
              "fillmode": "overlay",
              "size": 10,
              "solidity": 0.2
             }
            },
            "type": "bar"
           }
          ],
          "scattergeo": [
           {
            "type": "scattergeo",
            "marker": {
             "colorbar": {
              "outlinewidth": 0,
              "ticks": ""
             }
            }
           }
          ],
          "scatterpolar": [
           {
            "type": "scatterpolar",
            "marker": {
             "colorbar": {
              "outlinewidth": 0,
              "ticks": ""
             }
            }
           }
          ],
          "histogram": [
           {
            "marker": {
             "pattern": {
              "fillmode": "overlay",
              "size": 10,
              "solidity": 0.2
             }
            },
            "type": "histogram"
           }
          ],
          "scattergl": [
           {
            "type": "scattergl",
            "marker": {
             "colorbar": {
              "outlinewidth": 0,
              "ticks": ""
             }
            }
           }
          ],
          "scatter3d": [
           {
            "type": "scatter3d",
            "line": {
             "colorbar": {
              "outlinewidth": 0,
              "ticks": ""
             }
            },
            "marker": {
             "colorbar": {
              "outlinewidth": 0,
              "ticks": ""
             }
            }
           }
          ],
          "scattermapbox": [
           {
            "type": "scattermapbox",
            "marker": {
             "colorbar": {
              "outlinewidth": 0,
              "ticks": ""
             }
            }
           }
          ],
          "scatterternary": [
           {
            "type": "scatterternary",
            "marker": {
             "colorbar": {
              "outlinewidth": 0,
              "ticks": ""
             }
            }
           }
          ],
          "scattercarpet": [
           {
            "type": "scattercarpet",
            "marker": {
             "colorbar": {
              "outlinewidth": 0,
              "ticks": ""
             }
            }
           }
          ],
          "carpet": [
           {
            "aaxis": {
             "endlinecolor": "#2a3f5f",
             "gridcolor": "white",
             "linecolor": "white",
             "minorgridcolor": "white",
             "startlinecolor": "#2a3f5f"
            },
            "baxis": {
             "endlinecolor": "#2a3f5f",
             "gridcolor": "white",
             "linecolor": "white",
             "minorgridcolor": "white",
             "startlinecolor": "#2a3f5f"
            },
            "type": "carpet"
           }
          ],
          "table": [
           {
            "cells": {
             "fill": {
              "color": "#EBF0F8"
             },
             "line": {
              "color": "white"
             }
            },
            "header": {
             "fill": {
              "color": "#C8D4E3"
             },
             "line": {
              "color": "white"
             }
            },
            "type": "table"
           }
          ],
          "barpolar": [
           {
            "marker": {
             "line": {
              "color": "#E5ECF6",
              "width": 0.5
             },
             "pattern": {
              "fillmode": "overlay",
              "size": 10,
              "solidity": 0.2
             }
            },
            "type": "barpolar"
           }
          ],
          "pie": [
           {
            "automargin": true,
            "type": "pie"
           }
          ]
         },
         "layout": {
          "autotypenumbers": "strict",
          "colorway": [
           "#636efa",
           "#EF553B",
           "#00cc96",
           "#ab63fa",
           "#FFA15A",
           "#19d3f3",
           "#FF6692",
           "#B6E880",
           "#FF97FF",
           "#FECB52"
          ],
          "font": {
           "color": "#2a3f5f"
          },
          "hovermode": "closest",
          "hoverlabel": {
           "align": "left"
          },
          "paper_bgcolor": "white",
          "plot_bgcolor": "#E5ECF6",
          "polar": {
           "bgcolor": "#E5ECF6",
           "angularaxis": {
            "gridcolor": "white",
            "linecolor": "white",
            "ticks": ""
           },
           "radialaxis": {
            "gridcolor": "white",
            "linecolor": "white",
            "ticks": ""
           }
          },
          "ternary": {
           "bgcolor": "#E5ECF6",
           "aaxis": {
            "gridcolor": "white",
            "linecolor": "white",
            "ticks": ""
           },
           "baxis": {
            "gridcolor": "white",
            "linecolor": "white",
            "ticks": ""
           },
           "caxis": {
            "gridcolor": "white",
            "linecolor": "white",
            "ticks": ""
           }
          },
          "coloraxis": {
           "colorbar": {
            "outlinewidth": 0,
            "ticks": ""
           }
          },
          "colorscale": {
           "sequential": [
            [
             0.0,
             "#0d0887"
            ],
            [
             0.1111111111111111,
             "#46039f"
            ],
            [
             0.2222222222222222,
             "#7201a8"
            ],
            [
             0.3333333333333333,
             "#9c179e"
            ],
            [
             0.4444444444444444,
             "#bd3786"
            ],
            [
             0.5555555555555556,
             "#d8576b"
            ],
            [
             0.6666666666666666,
             "#ed7953"
            ],
            [
             0.7777777777777778,
             "#fb9f3a"
            ],
            [
             0.8888888888888888,
             "#fdca26"
            ],
            [
             1.0,
             "#f0f921"
            ]
           ],
           "sequentialminus": [
            [
             0.0,
             "#0d0887"
            ],
            [
             0.1111111111111111,
             "#46039f"
            ],
            [
             0.2222222222222222,
             "#7201a8"
            ],
            [
             0.3333333333333333,
             "#9c179e"
            ],
            [
             0.4444444444444444,
             "#bd3786"
            ],
            [
             0.5555555555555556,
             "#d8576b"
            ],
            [
             0.6666666666666666,
             "#ed7953"
            ],
            [
             0.7777777777777778,
             "#fb9f3a"
            ],
            [
             0.8888888888888888,
             "#fdca26"
            ],
            [
             1.0,
             "#f0f921"
            ]
           ],
           "diverging": [
            [
             0,
             "#8e0152"
            ],
            [
             0.1,
             "#c51b7d"
            ],
            [
             0.2,
             "#de77ae"
            ],
            [
             0.3,
             "#f1b6da"
            ],
            [
             0.4,
             "#fde0ef"
            ],
            [
             0.5,
             "#f7f7f7"
            ],
            [
             0.6,
             "#e6f5d0"
            ],
            [
             0.7,
             "#b8e186"
            ],
            [
             0.8,
             "#7fbc41"
            ],
            [
             0.9,
             "#4d9221"
            ],
            [
             1,
             "#276419"
            ]
           ]
          },
          "xaxis": {
           "gridcolor": "white",
           "linecolor": "white",
           "ticks": "",
           "title": {
            "standoff": 15
           },
           "zerolinecolor": "white",
           "automargin": true,
           "zerolinewidth": 2
          },
          "yaxis": {
           "gridcolor": "white",
           "linecolor": "white",
           "ticks": "",
           "title": {
            "standoff": 15
           },
           "zerolinecolor": "white",
           "automargin": true,
           "zerolinewidth": 2
          },
          "scene": {
           "xaxis": {
            "backgroundcolor": "#E5ECF6",
            "gridcolor": "white",
            "linecolor": "white",
            "showbackground": true,
            "ticks": "",
            "zerolinecolor": "white",
            "gridwidth": 2
           },
           "yaxis": {
            "backgroundcolor": "#E5ECF6",
            "gridcolor": "white",
            "linecolor": "white",
            "showbackground": true,
            "ticks": "",
            "zerolinecolor": "white",
            "gridwidth": 2
           },
           "zaxis": {
            "backgroundcolor": "#E5ECF6",
            "gridcolor": "white",
            "linecolor": "white",
            "showbackground": true,
            "ticks": "",
            "zerolinecolor": "white",
            "gridwidth": 2
           }
          },
          "shapedefaults": {
           "line": {
            "color": "#2a3f5f"
           }
          },
          "annotationdefaults": {
           "arrowcolor": "#2a3f5f",
           "arrowhead": 0,
           "arrowwidth": 1
          },
          "geo": {
           "bgcolor": "white",
           "landcolor": "#E5ECF6",
           "subunitcolor": "white",
           "showland": true,
           "showlakes": true,
           "lakecolor": "white"
          },
          "title": {
           "x": 0.05
          },
          "mapbox": {
           "style": "light"
          }
         }
        },
        "title": {
         "text": "KDE Plot"
        }
       },
       "config": {
        "plotlyServerURL": "https://plot.ly"
       }
      },
      "text/html": [
       "<div>                            <div id=\"edfdbfeb-0aae-47c8-b890-50d162ae18af\" class=\"plotly-graph-div\" style=\"height:525px; width:100%;\"></div>            <script type=\"text/javascript\">                require([\"plotly\"], function(Plotly) {                    window.PLOTLYENV=window.PLOTLYENV || {};                                    if (document.getElementById(\"edfdbfeb-0aae-47c8-b890-50d162ae18af\")) {                    Plotly.newPlot(                        \"edfdbfeb-0aae-47c8-b890-50d162ae18af\",                        [{\"x\":[-3.4896066216149033,-3.4833825086242447,-3.477158395633586,-3.4709342826429275,-3.464710169652269,-3.4584860566616102,-3.4522619436709516,-3.446037830680293,-3.439813717689634,-3.4335896046989753,-3.4273654917083167,-3.421141378717658,-3.4149172657269995,-3.408693152736341,-3.4024690397456823,-3.3962449267550237,-3.390020813764365,-3.3837967007737064,-3.377572587783048,-3.371348474792389,-3.3651243618017306,-3.358900248811072,-3.3526761358204134,-3.3464520228297543,-3.3402279098390957,-3.334003796848437,-3.3277796838577784,-3.32155557086712,-3.315331457876461,-3.3091073448858026,-3.302883231895144,-3.2966591189044854,-3.2904350059138268,-3.284210892923168,-3.2779867799325095,-3.271762666941851,-3.2655385539511923,-3.2593144409605337,-3.2530903279698746,-3.246866214979216,-3.2406421019885574,-3.234417988997899,-3.22819387600724,-3.2219697630165816,-3.215745650025923,-3.2095215370352643,-3.2032974240446057,-3.197073311053947,-3.1908491980632885,-3.18462508507263,-3.1784009720819713,-3.172176859091312,-3.165952746100654,-3.159728633109995,-3.1535045201193364,-3.1472804071286777,-3.141056294138019,-3.1348321811473605,-3.128608068156702,-3.1223839551660433,-3.1161598421753847,-3.109935729184726,-3.1037116161940674,-3.097487503203409,-3.09126339021275,-3.0850392772220916,-3.0788151642314325,-3.072591051240774,-3.0663669382501153,-3.0601428252594567,-3.053918712268798,-3.0476945992781395,-3.041470486287481,-3.0352463732968222,-3.0290222603061636,-3.022798147315505,-3.0165740343248464,-3.0103499213341878,-3.004125808343529,-2.9979016953528705,-2.991677582362212,-2.985453469371553,-2.9792293563808947,-2.9730052433902356,-2.966781130399577,-2.9605570174089184,-2.95433290441826,-2.948108791427601,-2.9418846784369426,-2.935660565446284,-2.9294364524556253,-2.9232123394649667,-2.916988226474308,-2.9107641134836495,-2.9045400004929904,-2.8983158875023323,-2.892091774511673,-2.8858676615210146,-2.879643548530356,-2.8734194355396974,-2.8671953225490387,-2.86097120955838,-2.8547470965677215,-2.848522983577063,-2.8422988705864043,-2.8360747575957457,-2.829850644605087,-2.8236265316144284,-2.81740241862377,-2.8111783056331108,-2.8049541926424526,-2.7987300796517935,-2.792505966661135,-2.7862818536704763,-2.7800577406798177,-2.773833627689159,-2.7676095146985005,-2.761385401707842,-2.7551612887171832,-2.7489371757265246,-2.742713062735866,-2.7364889497452074,-2.730264836754549,-2.72404072376389,-2.717816610773231,-2.711592497782573,-2.705368384791914,-2.6991442718012553,-2.6929201588105967,-2.686696045819938,-2.6804719328292794,-2.674247819838621,-2.668023706847962,-2.6617995938573036,-2.655575480866645,-2.6493513678759864,-2.6431272548853277,-2.636903141894669,-2.6306790289040105,-2.6244549159133514,-2.6182308029226933,-2.612006689932034,-2.6057825769413756,-2.599558463950717,-2.5933343509600584,-2.5871102379693998,-2.580886124978741,-2.5746620119880825,-2.568437898997424,-2.5622137860067653,-2.5559896730161067,-2.549765560025448,-2.543541447034789,-2.537317334044131,-2.531093221053472,-2.5248691080628136,-2.5186449950721546,-2.512420882081496,-2.5061967690908373,-2.4999726561001787,-2.49374854310952,-2.4875244301188615,-2.481300317128203,-2.4750762041375443,-2.4688520911468856,-2.4626279781562266,-2.4564038651655684,-2.4501797521749094,-2.443955639184251,-2.437731526193592,-2.431507413202934,-2.425283300212275,-2.4190591872216163,-2.4128350742309577,-2.406610961240299,-2.4003868482496404,-2.394162735258982,-2.387938622268323,-2.3817145092776646,-2.375490396287006,-2.369266283296347,-2.3630421703056887,-2.3568180573150297,-2.3505939443243715,-2.3443698313337125,-2.3381457183430543,-2.3319216053523952,-2.3256974923617366,-2.319473379371078,-2.3132492663804194,-2.3070251533897608,-2.300801040399102,-2.2945769274084435,-2.288352814417785,-2.2821287014271263,-2.2759045884364673,-2.269680475445809,-2.26345636245515,-2.257232249464492,-2.251008136473833,-2.2447840234831746,-2.2385599104925156,-2.232335797501857,-2.2261116845111983,-2.2198875715205397,-2.213663458529881,-2.2074393455392225,-2.201215232548564,-2.1949911195579053,-2.1887670065672467,-2.1825428935765876,-2.1763187805859294,-2.1700946675952704,-2.163870554604612,-2.157646441613953,-2.151422328623295,-2.145198215632636,-2.1389741026419773,-2.1327499896513187,-2.12652587666066,-2.1203017636700014,-2.114077650679343,-2.107853537688684,-2.1016294246980256,-2.095405311707367,-2.089181198716708,-2.0829570857260498,-2.0767329727353907,-2.0705088597447325,-2.0642847467540735,-2.0580606337634153,-2.0518365207727562,-2.0456124077820976,-2.039388294791439,-2.0331641818007804,-2.026940068810122,-2.020715955819463,-2.0144918428288046,-2.0082677298381455,-2.0020436168474873,-1.9958195038568285,-1.9895953908661699,-1.9833712778755113,-1.9771471648848526,-1.970923051894194,-1.9646989389035354,-1.9584748259128766,-1.952250712922218,-1.9460265999315594,-1.9398024869409007,-1.9335783739502421,-1.9273542609595835,-1.921130147968925,-1.914906034978266,-1.9086819219876074,-1.9024578089969488,-1.8962336960062902,-1.8900095830156316,-1.883785470024973,-1.8775613570343144,-1.8713372440436555,-1.865113131052997,-1.8588890180623383,-1.8526649050716797,-1.846440792081021,-1.8402166790903625,-1.8339925660997038,-1.827768453109045,-1.8215443401183864,-1.8153202271277278,-1.8090961141370692,-1.8028720011464106,-1.796647888155752,-1.7904237751650933,-1.7841996621744347,-1.7779755491837759,-1.7717514361931173,-1.7655273232024586,-1.7593032102118,-1.7530790972211414,-1.7468549842304828,-1.7406308712398242,-1.7344067582491653,-1.7281826452585067,-1.7219585322678481,-1.7157344192771895,-1.709510306286531,-1.7032861932958723,-1.6970620803052137,-1.6908379673145548,-1.6846138543238962,-1.6783897413332376,-1.672165628342579,-1.6659415153519204,-1.6597174023612618,-1.6534932893706031,-1.6472691763799445,-1.6410450633892857,-1.634820950398627,-1.6285968374079685,-1.6223727244173098,-1.6161486114266512,-1.6099244984359926,-1.603700385445334,-1.5974762724546752,-1.5912521594640165,-1.585028046473358,-1.5788039334826993,-1.5725798204920407,-1.566355707501382,-1.5601315945107235,-1.5539074815200646,-1.547683368529406,-1.5414592555387474,-1.5352351425480888,-1.5290110295574302,-1.5227869165667716,-1.516562803576113,-1.5103386905854543,-1.5041145775947955,-1.4978904646041369,-1.4916663516134783,-1.4854422386228197,-1.479218125632161,-1.4729940126415024,-1.4667698996508438,-1.4605457866601852,-1.4543216736695266,-1.448097560678868,-1.4418734476882094,-1.4356493346975503,-1.4294252217068917,-1.423201108716233,-1.4169769957255745,-1.4107528827349158,-1.4045287697442572,-1.3983046567535986,-1.39208054376294,-1.3858564307722814,-1.3796323177816228,-1.3734082047909641,-1.3671840918003055,-1.360959978809647,-1.3547358658189883,-1.3485117528283292,-1.3422876398376706,-1.336063526847012,-1.3298394138563534,-1.3236153008656948,-1.3173911878750362,-1.3111670748843776,-1.304942961893719,-1.2987188489030603,-1.2924947359124017,-1.286270622921743,-1.2800465099310845,-1.2738223969404259,-1.2675982839497673,-1.2613741709591086,-1.2551500579684496,-1.248925944977791,-1.2427018319871324,-1.2364777189964737,-1.2302536060058151,-1.2240294930151565,-1.217805380024498,-1.2115812670338393,-1.2053571540431807,-1.199133041052522,-1.1929089280618634,-1.1866848150712048,-1.1804607020805462,-1.1742365890898876,-1.168012476099229,-1.16178836310857,-1.1555642501179113,-1.1493401371272527,-1.143116024136594,-1.1368919111459355,-1.1306677981552768,-1.1244436851646182,-1.1182195721739596,-1.111995459183301,-1.1057713461926424,-1.0995472332019838,-1.0933231202113252,-1.0870990072206665,-1.080874894230008,-1.0746507812393489,-1.0684266682486903,-1.0622025552580316,-1.055978442267373,-1.0497543292767144,-1.0435302162860558,-1.0373061032953972,-1.0310819903047386,-1.02485787731408,-1.0186337643234213,-1.0124096513327627,-1.0061855383421041,-0.9999614253514455,-0.9937373123607869,-0.9875131993701283,-0.9812890863794692,-0.9750649733888106,-0.968840860398152,-0.9626167474074934,-0.9563926344168348,-0.9501685214261761,-0.9439444084355175,-0.9377202954448589,-0.9314961824542003,-0.9252720694635417,-0.9190479564728831,-0.9128238434822245,-0.9065997304915658,-0.9003756175009072,-0.8941515045102482,-0.8879273915195895,-0.8817032785289309,-0.8754791655382723,-0.8692550525476137,-0.8630309395569551,-0.8568068265662965,-0.8505827135756379,-0.8443586005849792,-0.8381344875943206,-0.831910374603662,-0.8256862616130034,-0.8194621486223448,-0.8132380356316862,-0.8070139226410276,-0.8007898096503685,-0.7945656966597099,-0.7883415836690513,-0.7821174706783927,-0.775893357687734,-0.7696692446970754,-0.7634451317064168,-0.7572210187157582,-0.7509969057250996,-0.744772792734441,-0.7385486797437824,-0.7323245667531237,-0.7261004537624651,-0.7198763407718065,-0.7136522277811479,-0.7074281147904888,-0.7012040017998302,-0.6949798888091716,-0.688755775818513,-0.6825316628278544,-0.6763075498371958,-0.6700834368465372,-0.6638593238558785,-0.6576352108652199,-0.6514110978745613,-0.6451869848839027,-0.6389628718932441,-0.6327387589025855,-0.6265146459119268,-0.6202905329212678,-0.6140664199306092,-0.6078423069399506,-0.601618193949292,-0.5953940809586333,-0.5891699679679747,-0.5829458549773161,-0.5767217419866575,-0.5704976289959989,-0.5642735160053403,-0.5580494030146816,-0.551825290024023,-0.5456011770333644,-0.5393770640427058,-0.5331529510520472,-0.5269288380613881,-0.5207047250707295,-0.5144806120800709,-0.5082564990894123,-0.5020323860987537,-0.49580827310809505,-0.48958416011743644,-0.4833600471267778,-0.4771359341361192,-0.4709118211454606,-0.464687708154802,-0.45846359516414337,-0.45223948217348475,-0.44601536918282614,-0.4397912561921675,-0.43356714320150846,-0.42734303021084985,-0.42111891722019124,-0.4148948042295326,-0.408670691238874,-0.4024465782482154,-0.3962224652575568,-0.38999835226689816,-0.38377423927623955,-0.37755012628558093,-0.3713260132949223,-0.3651019003042637,-0.3588777873136051,-0.3526536743229465,-0.3464295613322874,-0.3402054483416288,-0.3339813353509702,-0.3277572223603116,-0.32153310936965296,-0.31530899637899434,-0.30908488338833573,-0.3028607703976771,-0.2966366574070185,-0.2904125444163599,-0.28418843142570127,-0.27796431843504266,-0.27174020544438404,-0.2655160924537254,-0.2592919794630668,-0.25306786647240775,-0.24684375348174914,-0.24061964049109053,-0.2343955275004319,-0.2281714145097733,-0.22194730151911468,-0.21572318852845607,-0.20949907553779745,-0.20327496254713884,-0.19705084955648022,-0.1908267365658216,-0.184602623575163,-0.17837851058450438,-0.17215439759384576,-0.1659302846031867,-0.1597061716125281,-0.15348205862186948,-0.14725794563121086,-0.14103383264055225,-0.13480971964989363,-0.12858560665923502,-0.1223614936685764,-0.11613738067791779,-0.10991326768725918,-0.10368915469660056,-0.09746504170594195,-0.09124092871528333,-0.08501681572462472,-0.0787927027339661,-0.07256858974330704,-0.06634447675264843,-0.060120363761989815,-0.0538962507713312,-0.047672137780672585,-0.04144802479001397,-0.035223911799355356,-0.028999798808696742,-0.022775685818038127,-0.016551572827379513,-0.010327459836720898,-0.0041033468460622835,0.002120766144596331,0.008344879135254946,0.01456899212591356,0.02079310511657262,0.027017218107231233,0.03324133109788985,0.03946544408854846,0.04568955707920708,0.05191367006986569,0.058137783060524306,0.06436189605118292,0.07058600904184154,0.07681012203250015,0.08303423502315876,0.08925834801381738,0.095482461004476,0.10170657399513461,0.10793068698579367,0.11415479997645228,0.1203789129671109,0.1266030259577695,0.13282713894842813,0.13905125193908674,0.14527536492974535,0.15149947792040397,0.15772359091106258,0.1639477039017212,0.1701718168923798,0.17639592988303843,0.18262004287369704,0.18884415586435566,0.19506826885501427,0.20129238184567333,0.20751649483633194,0.21374060782699056,0.21996472081764917,0.2261888338083078,0.2324129467989664,0.23863705978962502,0.24486117278028363,0.25108528577094225,0.25730939876160086,0.2635335117522595,0.2697576247429181,0.2759817377335767,0.2822058507242353,0.28842996371489393,0.294654076705553,0.3008781896962116,0.3071023026868702,0.31332641567752884,0.31955052866818745,0.32577464165884606,0.3319987546495047,0.3382228676401633,0.3444469806308219,0.3506710936214805,0.35689520661213914,0.36311931960279775,0.36934343259345637,0.375567545584115,0.38179165857477404,0.38801577156543265,0.39423988455609127,0.4004639975467499,0.4066881105374085,0.4129122235280671,0.4191363365187257,0.42536044950938434,0.43158456250004296,0.43780867549070157,0.4440327884813602,0.4502569014720188,0.4564810144626774,0.46270512745333603,0.46892924044399464,0.4751533534346537,0.4813774664253123,0.48760157941597093,0.49382569240662955,0.5000498053972882,0.5062739183879468,0.512498031378605,0.518722144369264,0.5249462573599231,0.5311703703505812,0.5373944833412403,0.5436185963318985,0.5498427093225575,0.5560668223132157,0.5622909353038748,0.5685150482945329,0.574739161285192,0.5809632742758502,0.5871873872665092,0.5934115002571674,0.5996356132478264,0.6058597262384846,0.6120838392291437,0.6183079522198027,0.6245320652104609,0.63075617820112,0.6369802911917781,0.6432044041824372,0.6494285171730954,0.6556526301637544,0.6618767431544126,0.6681008561450716,0.6743249691357298,0.6805490821263889,0.686773195117047,0.6929973081077061,0.6992214210983652,0.7054455340890233,0.7116696470796824,0.7178937600703406,0.7241178730609996,0.7303419860516578,0.7365660990423168,0.742790212032975,0.7490143250236341,0.7552384380142922,0.7614625510049513,0.7676866639956095,0.7739107769862685,0.7801348899769267,0.7863590029675858,0.7925831159582448,0.798807228948903,0.805031341939562,0.8112554549302202,0.8174795679208793,0.8237036809115375,0.8299277939021965,0.8361519068928547,0.8423760198835137,0.8486001328741719,0.854824245864831,0.8610483588554891,0.8672724718461482,0.8734965848368064,0.8797206978274654,0.8859448108181245,0.8921689238087827,0.8983930367994417,0.9046171497900999,0.9108412627807589,0.9170653757714171,0.9232894887620762,0.9295136017527343,0.9357377147433934,0.9419618277340516,0.9481859407247106,0.9544100537153688,0.9606341667060279,0.966858279696686,0.9730823926873451,0.9793065056780041,0.9855306186686623,0.9917547316593214,0.9979788446499795,1.0042029576406386,1.0104270706312968,1.0166511836219558,1.022875296612614,1.029099409603273,1.0353235225939312,1.0415476355845903,1.0477717485752485,1.0539958615659075,1.0602199745565657,1.0664440875472248,1.0726682005378838,1.078892313528542,1.085116426519201,1.0913405395098592,1.0975646525005183,1.1037887654911764,1.1100128784818355,1.1162369914724937,1.1224611044631527,1.128685217453811,1.13490933044447,1.1411334434351281,1.1473575564257872,1.1535816694164454,1.1598057824071044,1.1660298953977635,1.1722540083884216,1.1784781213790807,1.1847022343697389,1.190926347360398,1.197150460351056,1.2033745733417152,1.2095986863323733,1.2158227993230324,1.2220469123136906,1.2282710253043496,1.2344951382950078,1.2407192512856668,1.246943364276326,1.253167477266984,1.2593915902576431,1.2656157032483013,1.2718398162389604,1.2780639292296185,1.2842880422202776,1.2905121552109358,1.2967362682015948,1.302960381192253,1.309184494182912,1.3154086071735702,1.3216327201642293,1.3278568331548875,1.3340809461455465,1.3403050591362056,1.3465291721268637,1.3527532851175228,1.358977398108181,1.36520151109884,1.3714256240894982,1.3776497370801573,1.3838738500708154,1.3900979630614745,1.3963220760521327,1.4025461890427917,1.4087703020334499,1.414994415024109,1.4212185280147671,1.4274426410054262,1.4336667539960852,1.4398908669867434,1.4461149799774025,1.4523390929680606,1.4585632059587197,1.4647873189493779,1.471011431940037,1.477235544930695,1.4834596579213541,1.4896837709120123,1.4959078839026714,1.5021319968933295,1.5083561098839886,1.5145802228746468,1.5208043358653058,1.527028448855965,1.533252561846623,1.5394766748372821,1.5457007878279403,1.5519249008185994,1.5581490138092575,1.5643731267999166,1.5705972397905748,1.5768213527812338,1.583045465771892,1.589269578762551,1.5954936917532092,1.6017178047438683,1.6079419177345264,1.6141660307251855,1.6203901437158446,1.6266142567065027,1.6328383696971618,1.63906248268782,1.645286595678479,1.6515107086691372,1.6577348216597962,1.6639589346504544,1.6701830476411135,1.6764071606317716,1.6826312736224307,1.6888553866130889,1.695079499603748,1.701303612594407,1.7075277255850652,1.7137518385757242,1.7199759515663824,1.7262000645570414,1.7324241775476996,1.7386482905383587,1.7448724035290168,1.751096516519676,1.757320629510334,1.7635447425009931,1.7697688554916513,1.7759929684823104,1.7822170814729685,1.7884411944636276,1.7946653074542867,1.8008894204449448,1.8071135334356039,1.813337646426262,1.819561759416921,1.8257858724075793,1.8320099853982383,1.8382340983888965,1.8444582113795556,1.8506823243702137,1.8569064373608728,1.863130550351531,1.86935466334219,1.8755787763328482,1.8818028893235073,1.8880270023141663,1.8942511153048245,1.9004752282954835,1.9066993412861417,1.9129234542768008,1.919147567267459,1.925371680258118,1.9315957932487762,1.9378199062394352,1.9440440192300934,1.9502681322207525,1.9564922452114106,1.9627163582020697,1.9689404711927279,1.975164584183387,1.981388697174046,1.9876128101647041,1.9938369231553632,2.0000610361460214,2.0062851491366804,2.0125092621273386,2.0187333751179977,2.024957488108656,2.031181601099315,2.037405714089973,2.043629827080632,2.0498539400712903,2.0560780530619494,2.0623021660526075,2.0685262790432666,2.0747503920339256,2.080974505024584,2.087198618015243,2.093422731005901,2.09964684399656,2.1058709569872183,2.1120950699778773,2.1183191829685355,2.1245432959591946,2.1307674089498527,2.136991521940512,2.14321563493117,2.149439747921829,2.155663860912488,2.1618879739031462,2.1681120868938053,2.1743361998844635,2.1805603128751225,2.1867844258657807,2.1930085388564398,2.199232651847098,2.205456764837757,2.211680877828415,2.217904990819074,2.2241291038097324,2.2303532168003914,2.2365773297910496,2.2428014427817087,2.2490255557723677,2.255249668763026,2.261473781753685,2.267697894744343,2.273922007735002,2.2801461207256604,2.2863702337163194,2.2925943467069776,2.2988184596976367,2.305042572688295,2.311266685678954,2.317490798669612,2.323714911660271,2.3299390246509293,2.3361631376415883,2.3423872506322474,2.3486113636229056,2.3548354766135646,2.361059589604223,2.367283702594882,2.37350781558554,2.379731928576199,2.3859560415668573,2.3921801545575163,2.3984042675481745,2.4046283805388335,2.4108524935294917,2.4170766065201508,2.423300719510809,2.429524832501468,2.435748945492127,2.4419730584827852,2.4481971714734443,2.4544212844641025,2.4606453974547615,2.4668695104454197,2.4730936234360787,2.479317736426737,2.485541849417396,2.491765962408054,2.497990075398713,2.5042141883893714,2.5104383013800304,2.5166624143706886,2.5228865273613477,2.5291106403520067,2.535334753342665,2.541558866333324,2.547782979323982,2.554007092314641,2.5602312053052994,2.5664553182959584,2.5726794312866166,2.5789035442772756,2.585127657267934,2.591351770258593,2.597575883249251,2.60379999623991,2.6100241092305683,2.6162482222212273,2.6224723352118864,2.6286964482025446,2.6349205611932036,2.641144674183862,2.647368787174521,2.653592900165179,2.659817013155838,2.6660411261464962,2.6722652391371553,2.6784893521278135,2.6847134651184725,2.6909375781091307,2.6971616910997898,2.703385804090449,2.709609917081107,2.715834030071766,2.722058143062424,2.7282822560530837],\"y\":[0.003110217323161847,0.0031594887644989422,0.0032086622886502193,0.0032577309710337165,0.0033066889199288942,0.003355531282225021,0.0034042542460563283,0.003452855040414589,0.003501331931847095,0.0035496842183645456,0.003597912220699292,0.003646017271069061,0.003694001699614907,0.0037418688186947368,0.003789622905224805,0.0038372691812714665,0.0038848137931036474,0.0039322637889234345,0.003979627095497273,0.004026912493913747,0.004074129594695915,0.00412128881249618,0.0041684013406000945,0.004215479125462226,0.004262534841492086,0.004309581866301426,0.004356634256615663,0.0044037067250422635,0.004450814617877162,0.0044979738941171785,0.004545201105831843,0.004592513380032143,0.004639928402156494,0.004687464401276048,0.004735140137102199,0.004782974888858985,0.0048309884460621495,0.004879201101225486,0.004927633644492761,0.004976307360171748,0.0050252440251245655,0.0050744659089460836,0.005123995775840516,0.00517385688808449,0.005224073010943986,0.005274668418892198,0.005325667902955983,0.00537709677900024,0.005428980896742525,0.0054813466492743095,0.005534220982851304,0.005587631406702576,0.005641606002597389,0.005696173433900207,0.00575136295383688,0.005807204412691011,0.005863728263646444,0.00592096556699201,0.005978947992406458,0.006037707819046219,0.0060972779331653956,0.006157691823006662,0.006218983570713489,0.006281187841028159,0.006344339866556326,0.006408475429397663,0.00647363083896302,0.006539842905821237,0.0066071489114441755,0.006675586573744859,0.0067451940083328036,0.006816009685440174,0.006888072382504513,0.006961421132426437,0.007036095167554417,0.007112133859483828,0.007189576654792494,0.007268463006870893,0.007348832304040973,0.007430723794193542,0.007514176506209601,0.007599229168466125,0.007685920124760723,0.0077742872480233115,0.00786436785221405,0.007956198602837812,0.008049815426533609,0.008145253420224116,0.008242546760334616,0.008341728612612898,0.008442831043100531,0.008545884930822482,0.008650919882775672,0.008757964151806845,0.00886704455797745,0.00897818641401638,0.009091413455461606,0.009206747776087492,0.009324209769207727,0.00944381807543192,0.00956558953743921,0.009689539162313174,0.009815680091959796,0.009944023582103454,0.010074578990326188,0.010207353773581514,0.01034235349557664,0.010479581844376674,0.010619040660540183,0.010760729976048985,0.010904648064244729,0.011050791500933167,0.011199155236761401,0.011349732680917508,0.011502515796142128,0.011657495204981917,0.011814660307153063,0.011973999407820258,0.0121354998565336,0.012299148196502161,0.012464930323819895,0.012632831656196435,0.012802837310682892,0.01297493228982246,0.0131491016755953,0.01332533083047049,0.013503605604821752,0.013683912549911305,0.013866239135596812,0.01405057397186928,0.014236907033287803,0.01442522988533758,0.014615535911704008,0.014807820541424682,0.015002081474857201,0.015198318907380035,0.015396535749728806,0.015596737843862122,0.015798934173246796,0.016003137066454752,0.016209362392972295,0.01641762975013732,0.01662796264013869,0.01684038863604036,0.017054939535824085,0.0172716515034832,0.017490565196244392,0.017711725877044827,0.01793518351144675,0.018160992848233852,0.018389213482999114,0.018619909904105423,0.018853151520475668,0.01908901267074875,0.019327572613422824,0.019568915497691644,0.01981313031477333,0.0200603108296208,0.02031055549299917,0.02056396733401115,0.020820653833248826,0.021080726776847438,0.021344302091814586,0.021611499663104966,0.021882443133005636,0.022157259683491068,0.02243607980229782,0.022719037033557217,0.023006267713907274,0.023297910695088044,0.02359410705409678,0.023894999792052608,0.024200733522981705,0.024511454153795867,0.024827308556784902,0.025148444235990837,0.025475008988868057,0.02580715056466127,0.026145016320956987,0.02648875287987465,0.026838505785369865,0.027194419163116393,0.027556635384422042,0.027925294735611055,0.028300535094275943,0.02868249161376203,0.029071296417202384,0.029467078302362486,0.029869962458493885,0.030280070196322024,0.03069751869221649,0.031122420747506385,0.03155488456381187,0.03199501353516538,0.03244290605759342,0.032898655356721165,0.03336234933385408,0.03383407043087137,0.03431389551415223,0.034801895777636496,0.0352981366649981,0.035802677810793805,0.0363155730003257,0.03683687014783953,0.037366611292564765,0.03790483261198609,0.038451564451630255,0.03900683137054336,0.039570652201535855,0.04014304012517846,0.04072400275644333,0.04131354224280734,0.04191165537256215,0.0425183336920098,0.04313356363017441,0.04375732662960893,0.044389599281849684,0.04503035346604026,0.04567955648923761,0.04633717122691208,0.04700315626215685,0.047677466022147924,0.048360050910425875,0.04905085743361059,0.049749828321216834,0.050456902637303826,0.051172015882763,0.05189510008713748,0.052626083888960055,0.053364892603702134,0.05411144827853554,0.054865669733238594,0.055627472586693344,0.05639676926857123,0.0571734690159329,0.05795747785462074,0.05874869856547064,0.059547030635523565,0.06035237019457009,0.06116460993752164,0.061983639033254385,0.0628093430207291,0.0636416036933439,0.06448029897262521,0.06532530277250857,0.0661764848556017,0.0670337106829571,0.0678968412590037,0.06876573297341254,0.0696402374417698,0.07052020134704218,0.07140546628388979,0.07229586860797448,0.07319123929245838,0.07409140379394556,0.07499618193014874,0.07590538777158512,0.07681882954961024,0.07773630958308164,0.07865762422592668,0.07958256383783498,0.08051091278024688,0.08144244943972231,0.08237694628069403,0.08331416992949295,0.08425388129141488,0.08519583570245769,0.08613978311720619,0.08708546833417295,0.08803263125972767,0.08898100721154886,0.08993032726233234,0.09088031862427634,0.0918307050746338,0.0927812074223982,0.09373154401594172,0.09468143129118577,0.09563058435963001,0.09657871763531795,0.09752554549955868,0.09847078300197412,0.09941414659618654,0.10035535490821484,0.1012941295353983,0.10223019587343639,0.10316328396888964,0.10409312939428182,0.10501947414271726,0.10594206753873751,0.10686066716195239,0.10777503977981288,0.10868496228573553,0.1095902226386517,0.11049062079993976,0.11138596966359009,0.11227609597538543,0.11316084123680575,0.11404006258934343,0.11491363367489207,0.1157814454678786,0.11664340707484654,0.11749944649724268,0.11834951135324193,0.11919356955454267,0.12003160993418503,0.12086364282159544,0.12168970056121663,0.12250983797127796,0.12332413273946832,0.12413268575249589,0.12493562135676863,0.12573308754769366,0.1265252560853724,0.1273123225347585,0.12809450622866164,0.12887205015229694,0.1296452207484022,0.1304143076423051,0.13117962328664406,0.13194150252581827,0.1327003020805907,0.13345639995362393,0.13421019475709178,0.1349621049638637,0.1357125680841106,0.13646203976953278,0.13721099284774493,0.13795991628969478,0.13870931411330173,0.13945970422682327,0.14021161721574132,0.14096559507725523,0.14172218990671342,0.1424819625405825,0.14324548116076094,0.14401331986526403,0.14478605721048032,0.1455642747303712,0.1463485554381172,0.1471394823158271,0.14793763679802274,0.14874359725466704,0.1495579374795453,0.15038122518981686,0.1512140205425427,0.15205687467394932,0.15291032826711912,0.1537749101537085,0.15465113595516564,0.15553950676877432,0.15644050790368463,0.15735460767188442,0.15828225623885095,0.1592238845383722,0.16017990325577283,0.16115070188347294,0.16213664785252213,0.16313808574341182,0.1641553365791288,0.16518869720305537,0.16623843974394914,0.16730481116985021,0.16838803293236004,0.16948830070233908,0.1706057841976531,0.17174062710317317,0.17289294708282463,0.17406283588303706,0.1752503595265443,0.17645555859503725,0.17767844859877252,0.17891902043082353,0.1801772409032442,0.1814530533620415,0.1827463783774545,0.18405711450568088,0.18538513911783483,0.18673030929158435,0.18809246276062042,0.18947141891678865,0.19086697985947107,0.1922789314865571,0.1937070446211116,0.19515107616767838,0.1966107702919807,0.1980858596176696,0.19957606643364587,0.2010811039054448,0.202600677284119,0.2041344851060633,0.20568222037725897,0.20724357173549107,0.20881822458417237,0.21040586219158539,0.21200616674947628,0.21361882038518665,0.2152435061217147,0.21687990878038002,0.21852771582106648,0.22018661811534904,0.22185631064816586,0.2235364931440865,0.22522687061463179,0.2269271538235497,0.22863705966737993,0.23035631146914523,0.2320846391834671,0.233821779511932,0.23556747592802757,0.23732147861151112,0.23908354429258252,0.24085343600678155,0.2426309227620452,0.2444157791199079,0.24620778469332474,0.24800672356413164,0.24981238362364705,0.2516245558404031,0.2534430334594641,0.2552676111382414,0.25709808402411943,0.2589342467796235,0.2607758925612212,0.2626228119581615,0.26447479189810874,0.2663316145265385,0.26819305606713956,0.2700588856706163,0.27192886425948165,0.2738027433764894,0.2756802640444664,0.27756115564529654,0.2794451348258059,0.2813319044382251,0.28322115252280056,0.28511255133997937,0.287005756459379,0.2889004059125414,0.29079611941617867,0.29269249767229244,0.29458912175121377,0.29648555256319736,0.29838133042379084,0.3002759747177289,0.30216898366562306,0.3040598341971958,0.3059479819342682,0.30783286128614595,0.3097138856594737,0.31159044778402106,0.31346192015526614,0.3153276555940232,0.3171869879227235,0.3190392327573685,0.320883688413509,0.322719636924028,0.32454634516585684,0.32636306609219523,0.3281690400661941,0.32996349629151345,0.33174565433461356,0.33351472573314006,0.3352699156842447,0.33701042480625876,0.33873545096667046,0.34044419116900465,0.3421358434908164,0.34380960906471403,0.3454646940940539,0.34710031189469287,0.3487156849540332,0.35031004699841733,0.3518826450598617,0.3534327415330369,0.3549596162134259,0.35646256830761414,0.35794091840675346,0.35939401041439434,0.3608212134200309,0.3622219235099506,0.36359556550723277,0.3649415946330462,0.36625949808175257,0.36754879650269795,0.3688090453820082,0.3700398363181274,0.3712407981853724,0.3724115981802469,0.37355194274582254,0.3746615783700524,0.3757402922544581,0.37678791285024926,0.3778043102595304,0.37878939649988747,0.37974312563126683,0.3806654937447099,0.38155653881313756,0.38241634040499867,0.38324501926225524,0.38404273674476475,0.384809694143751,0.3855461318676214,0.38625232850399555,0.3869285997623172,0.3875752973019942,0.38819280745145934,0.38878154982407465,0.38934197583718255,0.38987456714104557,0.39037983396476955,0.3908583133866475,0.39131056753663174,0.3917371817389087,0.3921387626027419,0.39251593606993185,0.39286934542734725,0.3931996492930478,0.3935075195845872,0.39379363947802776,0.39405870136617605,0.39430340482443177,0.39452845459249586,0.3947345585800223,0.3949224259040428,0.3950927649657581,0.3952462815739604,0.3953836771220503,0.3955056468252096,0.39561287802390405,0.3957060485594751,0.39578582522709194,0.39585286231089434,0.39590780020563493,0.39595126412861087,0.395983862925169,0.3960061879705038,0.39601881216992707,0.3960222890592312,0.3960171520062221,0.3960039135139289,0.3959830646254552,0.39595507442990197,0.3959203896682472,0.39587943443756113,0.39583260999144043,0.39578029463404324,0.3957228437046808,0.39566058964946943,0.3955938421761288,0.3955228884876738,0.39544799359036936,0.3953694006710174,0.39528733153836093,0.39520198712318383,0.39511354803140714,0.39502217514440435,0.3949280102605652,0.39483117677207324,0.3947317803708207,0.39462990977734763,0.3945256374867497,0.394419020525538,0.394310101213565,0.39419890792522644,0.3940854558443819,0.39396974770759197,0.3938517745305241,0.39373151631267367,0.39360894271580366,0.3934840137118476,0.3933566801963842,0.3932268845641171,0.39309456124321124,0.3929596371857381,0.392822032311867,0.39268165990590387,0.3925384269626714,0.3923922344831995,0.39224297771908895,0.3920905463654016,0.3919348247023085,0.3917756916862,0.3916130209913504,0.3914466810036463,0.3912765347682844,0.3911024398937073,0.39092424841441054,0.3907418066155855,0.3905549548228801,0.3903635271608323,0.39016735128381136,0.3899662480835183,0.3897600313773046,0.3895485075817495,0.38933147537606144,0.3891087253599944,0.38888003971104246,0.38864519184570806,0.38840394608966977,0.388156057361648,0.38790127087570114,0.3876393218666071,0.3873699353428861,0.3870928258718356,0.38680769740079374,0.3865142431186471,0.3862121453613594,0.3859010755650142,0.3855806942696369,0.3852506511767039,0.3849105852629594,0.3845601249527869,0.384198888351064,0.3838264835380104,0.3834425089271912,0.3830465536874322,0.3826381982289932,0.38221701475396985,0.38178256787043485,0.3813344152695015,0.3808721084640073,0.3803951935871659,0.37990321224914847,0.37939570244912263,0.3788721995399856,0.37833223724259274,0.37777534870601825,0.37720106760999444,0.3766089293054487,0.37599847198870384,0.3753692379047248,0.3747207745745198,0.3740526360416065,0.37336438413232226,0.3726555897245392,0.37192583401931006,0.37117470980983197,0.370401822742085,0.36960679256147616,0.3687892543398436,0.36794885967720603,0.36708527787271883,0.3661981970594235,0.3652873252974936,0.3643523916208655,0.36339314703234266,0.3624093654424765,0.3614008445477912,0.3603674066442188,0.3593088993718733,0.3582251963876696,0.35711619796261707,0.3559818315009819,0.35482205197892114,0.35363684230057263,0.35242621357000325,0.351190205277845,0.3499288854018768,0.34864235042124475,0.3473307252444481,0.3459941630516694,0.3446328450524469,0.3432469801601218,0.34183680458492904,0.34040258134798235,0.3389445997188356,0.33746317457965946,0.33595864571945266,0.33443137706204135,0.33288175583195845,0.3313101916625643,0.32971711565108164,0.32810297936541993,0.32646825380792044,0.3248134283412923,0.323139009582201,0.32144552026807566,0.3197334981027629,0.31800349458675775,0.3162560738376915,0.31449181140680593,0.31271129309702456,0.31091511378820036,0.3091038762749426,0.30727819012232843,0.3054386705445558,0.30358593731142897,0.3017206136872792,0.29984332540668013,0.2979546996909783,0.29605536430937884,0.29414594668793087,0.2922270730694167,0.2902993677267695,0.2883634522322121,0.2864199447839324,0.284469459591671,0.2825126063221684,0.28054998960499666,0.278582208598863,0.2766098566180465,0.2746335208181949,0.27265378194031037,0.2706712141113245,0.26868638469929945,0.2666998542208809,0.2647121762983076,0.2627238976629224,0.26073555820182626,0.25874769104403117,0.2567608226822077,0.25477547312589227,0.2527921560818225,0.25081137915690455,0.24883364407917546,0.2468594469320406,0.24488927839697897,0.24292362399990608,0.24096296435637538,0.23900777541084145,0.23705852866529323,0.2351156913926732,0.2331797268306415,0.23125109435142738,0.22933024960370904,0.22741764462272304,0.22551372790503654,0.2236189444447532,0.2217337357281939,0.21985853968447608,0.2179937905897379,0.2161399189231576,0.21429735117328222,0.21246650959361138,0.21064781190675835,0.20884167095695727,0.20704849431108832,0.2052686838088112,0.20350263506282937,0.20175073691069928,0.20001337082002194,0.1982909102492257,0.1965837199665541,0.1948921553302044,0.19321656153293593,0.19155727281476956,0.18991461164770823,0.18828888789669,0.1866803979612119,0.18508942390231917,0.18351623255980276,0.18196107466464637,0.18042418395186388,0.1789057762789856,0.177406048755498,0.17592517888857703,0.1744633237504639,0.1730206191727688,0.17159717897294677,0.1701930942180716,0.16880843253090203,0.16744323744308262,0.16609752780011758,0.1647712972225369,0.16346451362744324,0.16217711881433594,0.16090902811883165,0.1596601301375806,0.1584302865273489,0.15721933188088505,0.1560270736818283,0.15485329234054337,0.1536977413123777,0.1525601472994473,0.15144021053666784,0.15033760516233188,0.14925197967315856,0.1481829574633183,0.14713013744656742,0.1460930947602182,0.14507138154931984,0.14406452782902404,0.14307204242279445,0.14209341397374217,0.14112811202607217,0.1401755881733071,0.13923527726966292,0.13830659870069878,0.13738895770909718,0.1364817467712221,0.1355843470198908,0.1346961297086209,0.13381645771245818,0.13294468706036228,0.13208016849401338,0.13122224904783972,0.13037027364497936,0.12952358670388903,0.1286815337502726,0.12784346302903832,0.12700872711101455,0.12617668448921662,0.1253467011595368,0.1245181521808227,0.12369042320943235,0.12286291200348258,0.122035029892165,0.12120620320566836,0.12037587466142625,0.11954350470260937,0.11870857278498298,0.11787057860847275,0.11702904329000438,0.11618351047442464,0.11533354738054627,0.11447874577961459,0.11361872290374188,0.11275312228211341,0.11188161450302878,0.11100389790010191,0.11011969916119929,0.10922877385896433,0.1083309069020256,0.10742591290624225,0.10651363648560422,0.10559395246263141,0.10466676599838234,0.10373201264240528,0.10278965830320277,0.10183969914000605,0.1008821613768773,0.09991710104035771,0.09894460362210303,0.09796478366812225,0.09697778429643951,0.09598377664516752,0.09498295925315434,0.09397555737553209,0.09296182223663271,0.09194203022289946,0.09091648201853543,0.08988550168677088,0.08884943569973364,0.0878086519200212,0.08676353853715896,0.08571450296222453,0.08466197068398454,0.0836063840899677,0.08254820125594167,0.08148789470732098,0.08042595015606571,0.07936286521665445,0.07829914810474493,0.07723531632213133,0.07617189533162186,0.0751094172254351,0.07404841939070937,0.0729894431756795,0.07193303256004724,0.07087973283301646,0.0698300892824187,0.06878464589828087,0.06774394409412085,0.066708521449173,0.06567891047465486,0.06465563740709061,0.0636392210315989,0.06263017153794241,0.06162898941201176,0.06063616436529254,0.059652174304725906,0.058677484345239186,0.05771254586706471,0.0567577956198279,0.055813654875214044,0.05488052862987338,0.05395880486004806,0.05304885382924629,0.05215102745010515,0.051265658701419574,0.05039306110113079,0.0495335282358951,0.04868733334767458,0.04785472897761043,0.047035946667269346,0.046231196717169784,0.045440668002327926,0.0446645278443872,0.043902921939734385,0.04315597434283059,0.042423787503841154,0.04170644235948115,0.04100399847585432,0.04031649424191598,0.03964394711206128,0.03898635389620534,0.03834369109560908,0.03771591528258978,0.03710296352215116,0.0365047538334771,0.03592118568914549,0.03535214054984539,0.03479748243231202,0.03425705850814227,0.033730699731102556,0.033218221490508425,0.03271942428822658,0.0322340944368347,0.0317620047764665,0.031302915407873055,0.03085657443924376,0.03042271874434896,0.030001074729600848,0.029591359107661835,0.02919327967528205,0.02880653609309588,0.02843082066517453,0.028065819116194688,0.027711211364161548,0.027366672286701678,0.027031872479029224,0.026706479001775415,0.02639015611696899,0.02608256601054984,0.02578336949989865,0.025492226724970177,0.025208797821718656,0.024932743576612532,0.024663726061138997,0.024401409245307364,0.02414545958926368,0.0238955466122356,0.023651343438127827,0.023412527317191942,0.023178780123290277,0.022949788826373323,0.02272524593987955,0.022504849942859305,0.022288305676707455,0.02207532471647382,0.021865625716796344,0.021658934732575505,0.021454985514577887,0.021253519780219648,0.021054287459840688,0.020857046918833905,0.02066156515604478,0.020467617978899046,0.020274990155759003,0.020083475546042215,0.019892877208668072,0.019703007489423715,0.019513688087864123,0.019324750104377352,0.01913603406806158,0.0189473899460715,0.018758677135096977,0.01856976443564355,0.01838053000978266,0.01819086132304103,0.018000655071091495,0.017809817091905135,0.01761826226401305,0.01742591439152032,0.01723270607650069,0.017038578579391724,0.016843481667994938,0.0166473734556741,0.016450220229330598,0.016251996267720586,0.016052683650665957,0.01585227205969659,0.015650758570649268,0.015448147438734414,0.015244449876571807,0.015039683825683057,0.014833873721919862,0.014627050255295686,0.014419250124681784,0.014210515787818533,0.014000895207088044,0.013790441591486942,0.013579213135234143,0.01336727275344349,0.01315468781528858,0.012941529875084961,0.012727874401711548,0.012513800506794466,0.012299390672073349,0.012084730476371906,0.01186990832259329,0.011655015165162257,0.011440144238334816,0.01122539078579844,0.011010851791983668,0.01079662571550977,0.01058281222518462,0.010369511938978915,0.010156826166392924,0.009944856654629802],\"type\":\"scatter\"}],                        {\"template\":{\"data\":{\"histogram2dcontour\":[{\"type\":\"histogram2dcontour\",\"colorbar\":{\"outlinewidth\":0,\"ticks\":\"\"},\"colorscale\":[[0.0,\"#0d0887\"],[0.1111111111111111,\"#46039f\"],[0.2222222222222222,\"#7201a8\"],[0.3333333333333333,\"#9c179e\"],[0.4444444444444444,\"#bd3786\"],[0.5555555555555556,\"#d8576b\"],[0.6666666666666666,\"#ed7953\"],[0.7777777777777778,\"#fb9f3a\"],[0.8888888888888888,\"#fdca26\"],[1.0,\"#f0f921\"]]}],\"choropleth\":[{\"type\":\"choropleth\",\"colorbar\":{\"outlinewidth\":0,\"ticks\":\"\"}}],\"histogram2d\":[{\"type\":\"histogram2d\",\"colorbar\":{\"outlinewidth\":0,\"ticks\":\"\"},\"colorscale\":[[0.0,\"#0d0887\"],[0.1111111111111111,\"#46039f\"],[0.2222222222222222,\"#7201a8\"],[0.3333333333333333,\"#9c179e\"],[0.4444444444444444,\"#bd3786\"],[0.5555555555555556,\"#d8576b\"],[0.6666666666666666,\"#ed7953\"],[0.7777777777777778,\"#fb9f3a\"],[0.8888888888888888,\"#fdca26\"],[1.0,\"#f0f921\"]]}],\"heatmap\":[{\"type\":\"heatmap\",\"colorbar\":{\"outlinewidth\":0,\"ticks\":\"\"},\"colorscale\":[[0.0,\"#0d0887\"],[0.1111111111111111,\"#46039f\"],[0.2222222222222222,\"#7201a8\"],[0.3333333333333333,\"#9c179e\"],[0.4444444444444444,\"#bd3786\"],[0.5555555555555556,\"#d8576b\"],[0.6666666666666666,\"#ed7953\"],[0.7777777777777778,\"#fb9f3a\"],[0.8888888888888888,\"#fdca26\"],[1.0,\"#f0f921\"]]}],\"heatmapgl\":[{\"type\":\"heatmapgl\",\"colorbar\":{\"outlinewidth\":0,\"ticks\":\"\"},\"colorscale\":[[0.0,\"#0d0887\"],[0.1111111111111111,\"#46039f\"],[0.2222222222222222,\"#7201a8\"],[0.3333333333333333,\"#9c179e\"],[0.4444444444444444,\"#bd3786\"],[0.5555555555555556,\"#d8576b\"],[0.6666666666666666,\"#ed7953\"],[0.7777777777777778,\"#fb9f3a\"],[0.8888888888888888,\"#fdca26\"],[1.0,\"#f0f921\"]]}],\"contourcarpet\":[{\"type\":\"contourcarpet\",\"colorbar\":{\"outlinewidth\":0,\"ticks\":\"\"}}],\"contour\":[{\"type\":\"contour\",\"colorbar\":{\"outlinewidth\":0,\"ticks\":\"\"},\"colorscale\":[[0.0,\"#0d0887\"],[0.1111111111111111,\"#46039f\"],[0.2222222222222222,\"#7201a8\"],[0.3333333333333333,\"#9c179e\"],[0.4444444444444444,\"#bd3786\"],[0.5555555555555556,\"#d8576b\"],[0.6666666666666666,\"#ed7953\"],[0.7777777777777778,\"#fb9f3a\"],[0.8888888888888888,\"#fdca26\"],[1.0,\"#f0f921\"]]}],\"surface\":[{\"type\":\"surface\",\"colorbar\":{\"outlinewidth\":0,\"ticks\":\"\"},\"colorscale\":[[0.0,\"#0d0887\"],[0.1111111111111111,\"#46039f\"],[0.2222222222222222,\"#7201a8\"],[0.3333333333333333,\"#9c179e\"],[0.4444444444444444,\"#bd3786\"],[0.5555555555555556,\"#d8576b\"],[0.6666666666666666,\"#ed7953\"],[0.7777777777777778,\"#fb9f3a\"],[0.8888888888888888,\"#fdca26\"],[1.0,\"#f0f921\"]]}],\"mesh3d\":[{\"type\":\"mesh3d\",\"colorbar\":{\"outlinewidth\":0,\"ticks\":\"\"}}],\"scatter\":[{\"fillpattern\":{\"fillmode\":\"overlay\",\"size\":10,\"solidity\":0.2},\"type\":\"scatter\"}],\"parcoords\":[{\"type\":\"parcoords\",\"line\":{\"colorbar\":{\"outlinewidth\":0,\"ticks\":\"\"}}}],\"scatterpolargl\":[{\"type\":\"scatterpolargl\",\"marker\":{\"colorbar\":{\"outlinewidth\":0,\"ticks\":\"\"}}}],\"bar\":[{\"error_x\":{\"color\":\"#2a3f5f\"},\"error_y\":{\"color\":\"#2a3f5f\"},\"marker\":{\"line\":{\"color\":\"#E5ECF6\",\"width\":0.5},\"pattern\":{\"fillmode\":\"overlay\",\"size\":10,\"solidity\":0.2}},\"type\":\"bar\"}],\"scattergeo\":[{\"type\":\"scattergeo\",\"marker\":{\"colorbar\":{\"outlinewidth\":0,\"ticks\":\"\"}}}],\"scatterpolar\":[{\"type\":\"scatterpolar\",\"marker\":{\"colorbar\":{\"outlinewidth\":0,\"ticks\":\"\"}}}],\"histogram\":[{\"marker\":{\"pattern\":{\"fillmode\":\"overlay\",\"size\":10,\"solidity\":0.2}},\"type\":\"histogram\"}],\"scattergl\":[{\"type\":\"scattergl\",\"marker\":{\"colorbar\":{\"outlinewidth\":0,\"ticks\":\"\"}}}],\"scatter3d\":[{\"type\":\"scatter3d\",\"line\":{\"colorbar\":{\"outlinewidth\":0,\"ticks\":\"\"}},\"marker\":{\"colorbar\":{\"outlinewidth\":0,\"ticks\":\"\"}}}],\"scattermapbox\":[{\"type\":\"scattermapbox\",\"marker\":{\"colorbar\":{\"outlinewidth\":0,\"ticks\":\"\"}}}],\"scatterternary\":[{\"type\":\"scatterternary\",\"marker\":{\"colorbar\":{\"outlinewidth\":0,\"ticks\":\"\"}}}],\"scattercarpet\":[{\"type\":\"scattercarpet\",\"marker\":{\"colorbar\":{\"outlinewidth\":0,\"ticks\":\"\"}}}],\"carpet\":[{\"aaxis\":{\"endlinecolor\":\"#2a3f5f\",\"gridcolor\":\"white\",\"linecolor\":\"white\",\"minorgridcolor\":\"white\",\"startlinecolor\":\"#2a3f5f\"},\"baxis\":{\"endlinecolor\":\"#2a3f5f\",\"gridcolor\":\"white\",\"linecolor\":\"white\",\"minorgridcolor\":\"white\",\"startlinecolor\":\"#2a3f5f\"},\"type\":\"carpet\"}],\"table\":[{\"cells\":{\"fill\":{\"color\":\"#EBF0F8\"},\"line\":{\"color\":\"white\"}},\"header\":{\"fill\":{\"color\":\"#C8D4E3\"},\"line\":{\"color\":\"white\"}},\"type\":\"table\"}],\"barpolar\":[{\"marker\":{\"line\":{\"color\":\"#E5ECF6\",\"width\":0.5},\"pattern\":{\"fillmode\":\"overlay\",\"size\":10,\"solidity\":0.2}},\"type\":\"barpolar\"}],\"pie\":[{\"automargin\":true,\"type\":\"pie\"}]},\"layout\":{\"autotypenumbers\":\"strict\",\"colorway\":[\"#636efa\",\"#EF553B\",\"#00cc96\",\"#ab63fa\",\"#FFA15A\",\"#19d3f3\",\"#FF6692\",\"#B6E880\",\"#FF97FF\",\"#FECB52\"],\"font\":{\"color\":\"#2a3f5f\"},\"hovermode\":\"closest\",\"hoverlabel\":{\"align\":\"left\"},\"paper_bgcolor\":\"white\",\"plot_bgcolor\":\"#E5ECF6\",\"polar\":{\"bgcolor\":\"#E5ECF6\",\"angularaxis\":{\"gridcolor\":\"white\",\"linecolor\":\"white\",\"ticks\":\"\"},\"radialaxis\":{\"gridcolor\":\"white\",\"linecolor\":\"white\",\"ticks\":\"\"}},\"ternary\":{\"bgcolor\":\"#E5ECF6\",\"aaxis\":{\"gridcolor\":\"white\",\"linecolor\":\"white\",\"ticks\":\"\"},\"baxis\":{\"gridcolor\":\"white\",\"linecolor\":\"white\",\"ticks\":\"\"},\"caxis\":{\"gridcolor\":\"white\",\"linecolor\":\"white\",\"ticks\":\"\"}},\"coloraxis\":{\"colorbar\":{\"outlinewidth\":0,\"ticks\":\"\"}},\"colorscale\":{\"sequential\":[[0.0,\"#0d0887\"],[0.1111111111111111,\"#46039f\"],[0.2222222222222222,\"#7201a8\"],[0.3333333333333333,\"#9c179e\"],[0.4444444444444444,\"#bd3786\"],[0.5555555555555556,\"#d8576b\"],[0.6666666666666666,\"#ed7953\"],[0.7777777777777778,\"#fb9f3a\"],[0.8888888888888888,\"#fdca26\"],[1.0,\"#f0f921\"]],\"sequentialminus\":[[0.0,\"#0d0887\"],[0.1111111111111111,\"#46039f\"],[0.2222222222222222,\"#7201a8\"],[0.3333333333333333,\"#9c179e\"],[0.4444444444444444,\"#bd3786\"],[0.5555555555555556,\"#d8576b\"],[0.6666666666666666,\"#ed7953\"],[0.7777777777777778,\"#fb9f3a\"],[0.8888888888888888,\"#fdca26\"],[1.0,\"#f0f921\"]],\"diverging\":[[0,\"#8e0152\"],[0.1,\"#c51b7d\"],[0.2,\"#de77ae\"],[0.3,\"#f1b6da\"],[0.4,\"#fde0ef\"],[0.5,\"#f7f7f7\"],[0.6,\"#e6f5d0\"],[0.7,\"#b8e186\"],[0.8,\"#7fbc41\"],[0.9,\"#4d9221\"],[1,\"#276419\"]]},\"xaxis\":{\"gridcolor\":\"white\",\"linecolor\":\"white\",\"ticks\":\"\",\"title\":{\"standoff\":15},\"zerolinecolor\":\"white\",\"automargin\":true,\"zerolinewidth\":2},\"yaxis\":{\"gridcolor\":\"white\",\"linecolor\":\"white\",\"ticks\":\"\",\"title\":{\"standoff\":15},\"zerolinecolor\":\"white\",\"automargin\":true,\"zerolinewidth\":2},\"scene\":{\"xaxis\":{\"backgroundcolor\":\"#E5ECF6\",\"gridcolor\":\"white\",\"linecolor\":\"white\",\"showbackground\":true,\"ticks\":\"\",\"zerolinecolor\":\"white\",\"gridwidth\":2},\"yaxis\":{\"backgroundcolor\":\"#E5ECF6\",\"gridcolor\":\"white\",\"linecolor\":\"white\",\"showbackground\":true,\"ticks\":\"\",\"zerolinecolor\":\"white\",\"gridwidth\":2},\"zaxis\":{\"backgroundcolor\":\"#E5ECF6\",\"gridcolor\":\"white\",\"linecolor\":\"white\",\"showbackground\":true,\"ticks\":\"\",\"zerolinecolor\":\"white\",\"gridwidth\":2}},\"shapedefaults\":{\"line\":{\"color\":\"#2a3f5f\"}},\"annotationdefaults\":{\"arrowcolor\":\"#2a3f5f\",\"arrowhead\":0,\"arrowwidth\":1},\"geo\":{\"bgcolor\":\"white\",\"landcolor\":\"#E5ECF6\",\"subunitcolor\":\"white\",\"showland\":true,\"showlakes\":true,\"lakecolor\":\"white\"},\"title\":{\"x\":0.05},\"mapbox\":{\"style\":\"light\"}}},\"title\":{\"text\":\"KDE Plot\"}},                        {\"responsive\": true}                    ).then(function(){\n",
       "                            \n",
       "var gd = document.getElementById('edfdbfeb-0aae-47c8-b890-50d162ae18af');\n",
       "var x = new MutationObserver(function (mutations, observer) {{\n",
       "        var display = window.getComputedStyle(gd).display;\n",
       "        if (!display || display === 'none') {{\n",
       "            console.log([gd, 'removed!']);\n",
       "            Plotly.purge(gd);\n",
       "            observer.disconnect();\n",
       "        }}\n",
       "}});\n",
       "\n",
       "// Listen for the removal of the full notebook cells\n",
       "var notebookContainer = gd.closest('#notebook-container');\n",
       "if (notebookContainer) {{\n",
       "    x.observe(notebookContainer, {childList: true});\n",
       "}}\n",
       "\n",
       "// Listen for the clearing of the current output cell\n",
       "var outputEl = gd.closest('.output');\n",
       "if (outputEl) {{\n",
       "    x.observe(outputEl, {childList: true});\n",
       "}}\n",
       "\n",
       "                        })                };                });            </script>        </div>"
      ]
     },
     "metadata": {},
     "output_type": "display_data"
    }
   ],
   "execution_count": 17
  },
  {
   "metadata": {},
   "cell_type": "markdown",
   "source": "## Data visualization using Bokeh",
   "id": "195768732f12b340"
  },
  {
   "metadata": {
    "ExecuteTime": {
     "end_time": "2024-11-23T21:15:09.805733Z",
     "start_time": "2024-11-23T21:15:09.803392Z"
    }
   },
   "cell_type": "code",
   "source": [
    "from bokeh.plotting import figure\n",
    "from bokeh.io import show, output_file\n",
    "from bokeh.io import output_notebook"
   ],
   "id": "76f0b249ccfbd3dc",
   "outputs": [],
   "execution_count": 19
  },
  {
   "metadata": {
    "ExecuteTime": {
     "end_time": "2024-11-23T21:17:10.201951Z",
     "start_time": "2024-11-23T21:17:10.147414Z"
    }
   },
   "cell_type": "code",
   "source": [
    "output_notebook()\n",
    "x = np.linspace(-10, 10, 1000)\n",
    "y = np.sin(x)\n",
    "\n",
    "p1 = figure(title='Line Chart', width=400, height=400)\n",
    "p1.line(x, y)\n",
    "show(p1)"
   ],
   "id": "9754bbc0d015d622",
   "outputs": [
    {
     "data": {
      "text/html": [
       "    <style>\n",
       "        .bk-notebook-logo {\n",
       "            display: block;\n",
       "            width: 20px;\n",
       "            height: 20px;\n",
       "            background-image: url(data:image/png;base64,iVBORw0KGgoAAAANSUhEUgAAABQAAAAUCAYAAACNiR0NAAAABHNCSVQICAgIfAhkiAAAAAlwSFlzAAALEgAACxIB0t1+/AAAABx0RVh0U29mdHdhcmUAQWRvYmUgRmlyZXdvcmtzIENTNui8sowAAAOkSURBVDiNjZRtaJVlGMd/1/08zzln5zjP1LWcU9N0NkN8m2CYjpgQYQXqSs0I84OLIC0hkEKoPtiH3gmKoiJDU7QpLgoLjLIQCpEsNJ1vqUOdO7ppbuec5+V+rj4ctwzd8IIbbi6u+8f1539dt3A78eXC7QizUF7gyV1fD1Yqg4JWz84yffhm0qkFqBogB9rM8tZdtwVsPUhWhGcFJngGeWrPzHm5oaMmkfEg1usvLFyc8jLRqDOMru7AyC8saQr7GG7f5fvDeH7Ej8CM66nIF+8yngt6HWaKh7k49Soy9nXurCi1o3qUbS3zWfrYeQDTB/Qj6kX6Ybhw4B+bOYoLKCC9H3Nu/leUTZ1JdRWkkn2ldcCamzrcf47KKXdAJllSlxAOkRgyHsGC/zRday5Qld9DyoM4/q/rUoy/CXh3jzOu3bHUVZeU+DEn8FInkPBFlu3+nW3Nw0mk6vCDiWg8CeJaxEwuHS3+z5RgY+YBR6V1Z1nxSOfoaPa4LASWxxdNp+VWTk7+4vzaou8v8PN+xo+KY2xsw6une2frhw05CTYOmQvsEhjhWjn0bmXPjpE1+kplmmkP3suftwTubK9Vq22qKmrBhpY4jvd5afdRA3wGjFAgcnTK2s4hY0/GPNIb0nErGMCRxWOOX64Z8RAC4oCXdklmEvcL8o0BfkNK4lUg9HTl+oPlQxdNo3Mg4Nv175e/1LDGzZen30MEjRUtmXSfiTVu1kK8W4txyV6BMKlbgk3lMwYCiusNy9fVfvvwMxv8Ynl6vxoByANLTWplvuj/nF9m2+PDtt1eiHPBr1oIfhCChQMBw6Aw0UulqTKZdfVvfG7VcfIqLG9bcldL/+pdWTLxLUy8Qq38heUIjh4XlzZxzQm19lLFlr8vdQ97rjZVOLf8nclzckbcD4wxXMidpX30sFd37Fv/GtwwhzhxGVAprjbg0gCAEeIgwCZyTV2Z1REEW8O4py0wsjeloKoMr6iCY6dP92H6Vw/oTyICIthibxjm/DfN9lVz8IqtqKYLUXfoKVMVQVVJOElGjrnnUt9T9wbgp8AyYKaGlqingHZU/uG2NTZSVqwHQTWkx9hxjkpWDaCg6Ckj5qebgBVbT3V3NNXMSiWSDdGV3hrtzla7J+duwPOToIg42ChPQOQjspnSlp1V+Gjdged7+8UN5CRAV7a5EdFNwCjEaBR27b3W890TE7g24NAP/mMDXRWrGoFPQI9ls/MWO2dWFAar/xcOIImbbpA3zgAAAABJRU5ErkJggg==);\n",
       "        }\n",
       "    </style>\n",
       "    <div>\n",
       "        <a href=\"https://bokeh.org\" target=\"_blank\" class=\"bk-notebook-logo\"></a>\n",
       "        <span id=\"c404f9be-dc26-4494-abb8-c734062421ee\">Loading BokehJS ...</span>\n",
       "    </div>\n"
      ]
     },
     "metadata": {},
     "output_type": "display_data"
    },
    {
     "data": {
      "application/javascript": "'use strict';\n(function(root) {\n  function now() {\n    return new Date();\n  }\n\n  const force = true;\n\n  if (typeof root._bokeh_onload_callbacks === \"undefined\" || force === true) {\n    root._bokeh_onload_callbacks = [];\n    root._bokeh_is_loading = undefined;\n  }\n\nconst JS_MIME_TYPE = 'application/javascript';\n  const HTML_MIME_TYPE = 'text/html';\n  const EXEC_MIME_TYPE = 'application/vnd.bokehjs_exec.v0+json';\n  const CLASS_NAME = 'output_bokeh rendered_html';\n\n  /**\n   * Render data to the DOM node\n   */\n  function render(props, node) {\n    const script = document.createElement(\"script\");\n    node.appendChild(script);\n  }\n\n  /**\n   * Handle when an output is cleared or removed\n   */\n  function handleClearOutput(event, handle) {\n    function drop(id) {\n      const view = Bokeh.index.get_by_id(id)\n      if (view != null) {\n        view.model.document.clear()\n        Bokeh.index.delete(view)\n      }\n    }\n\n    const cell = handle.cell;\n\n    const id = cell.output_area._bokeh_element_id;\n    const server_id = cell.output_area._bokeh_server_id;\n\n    // Clean up Bokeh references\n    if (id != null) {\n      drop(id)\n    }\n\n    if (server_id !== undefined) {\n      // Clean up Bokeh references\n      const cmd_clean = \"from bokeh.io.state import curstate; print(curstate().uuid_to_server['\" + server_id + \"'].get_sessions()[0].document.roots[0]._id)\";\n      cell.notebook.kernel.execute(cmd_clean, {\n        iopub: {\n          output: function(msg) {\n            const id = msg.content.text.trim()\n            drop(id)\n          }\n        }\n      });\n      // Destroy server and session\n      const cmd_destroy = \"import bokeh.io.notebook as ion; ion.destroy_server('\" + server_id + \"')\";\n      cell.notebook.kernel.execute(cmd_destroy);\n    }\n  }\n\n  /**\n   * Handle when a new output is added\n   */\n  function handleAddOutput(event, handle) {\n    const output_area = handle.output_area;\n    const output = handle.output;\n\n    // limit handleAddOutput to display_data with EXEC_MIME_TYPE content only\n    if ((output.output_type != \"display_data\") || (!Object.prototype.hasOwnProperty.call(output.data, EXEC_MIME_TYPE))) {\n      return\n    }\n\n    const toinsert = output_area.element.find(\".\" + CLASS_NAME.split(' ')[0]);\n\n    if (output.metadata[EXEC_MIME_TYPE][\"id\"] !== undefined) {\n      toinsert[toinsert.length - 1].firstChild.textContent = output.data[JS_MIME_TYPE];\n      // store reference to embed id on output_area\n      output_area._bokeh_element_id = output.metadata[EXEC_MIME_TYPE][\"id\"];\n    }\n    if (output.metadata[EXEC_MIME_TYPE][\"server_id\"] !== undefined) {\n      const bk_div = document.createElement(\"div\");\n      bk_div.innerHTML = output.data[HTML_MIME_TYPE];\n      const script_attrs = bk_div.children[0].attributes;\n      for (let i = 0; i < script_attrs.length; i++) {\n        toinsert[toinsert.length - 1].firstChild.setAttribute(script_attrs[i].name, script_attrs[i].value);\n        toinsert[toinsert.length - 1].firstChild.textContent = bk_div.children[0].textContent\n      }\n      // store reference to server id on output_area\n      output_area._bokeh_server_id = output.metadata[EXEC_MIME_TYPE][\"server_id\"];\n    }\n  }\n\n  function register_renderer(events, OutputArea) {\n\n    function append_mime(data, metadata, element) {\n      // create a DOM node to render to\n      const toinsert = this.create_output_subarea(\n        metadata,\n        CLASS_NAME,\n        EXEC_MIME_TYPE\n      );\n      this.keyboard_manager.register_events(toinsert);\n      // Render to node\n      const props = {data: data, metadata: metadata[EXEC_MIME_TYPE]};\n      render(props, toinsert[toinsert.length - 1]);\n      element.append(toinsert);\n      return toinsert\n    }\n\n    /* Handle when an output is cleared or removed */\n    events.on('clear_output.CodeCell', handleClearOutput);\n    events.on('delete.Cell', handleClearOutput);\n\n    /* Handle when a new output is added */\n    events.on('output_added.OutputArea', handleAddOutput);\n\n    /**\n     * Register the mime type and append_mime function with output_area\n     */\n    OutputArea.prototype.register_mime_type(EXEC_MIME_TYPE, append_mime, {\n      /* Is output safe? */\n      safe: true,\n      /* Index of renderer in `output_area.display_order` */\n      index: 0\n    });\n  }\n\n  // register the mime type if in Jupyter Notebook environment and previously unregistered\n  if (root.Jupyter !== undefined) {\n    const events = require('base/js/events');\n    const OutputArea = require('notebook/js/outputarea').OutputArea;\n\n    if (OutputArea.prototype.mime_types().indexOf(EXEC_MIME_TYPE) == -1) {\n      register_renderer(events, OutputArea);\n    }\n  }\n  if (typeof (root._bokeh_timeout) === \"undefined\" || force === true) {\n    root._bokeh_timeout = Date.now() + 5000;\n    root._bokeh_failed_load = false;\n  }\n\n  const NB_LOAD_WARNING = {'data': {'text/html':\n     \"<div style='background-color: #fdd'>\\n\"+\n     \"<p>\\n\"+\n     \"BokehJS does not appear to have successfully loaded. If loading BokehJS from CDN, this \\n\"+\n     \"may be due to a slow or bad network connection. Possible fixes:\\n\"+\n     \"</p>\\n\"+\n     \"<ul>\\n\"+\n     \"<li>re-rerun `output_notebook()` to attempt to load from CDN again, or</li>\\n\"+\n     \"<li>use INLINE resources instead, as so:</li>\\n\"+\n     \"</ul>\\n\"+\n     \"<code>\\n\"+\n     \"from bokeh.resources import INLINE\\n\"+\n     \"output_notebook(resources=INLINE)\\n\"+\n     \"</code>\\n\"+\n     \"</div>\"}};\n\n  function display_loaded(error = null) {\n    const el = document.getElementById(\"c404f9be-dc26-4494-abb8-c734062421ee\");\n    if (el != null) {\n      const html = (() => {\n        if (typeof root.Bokeh === \"undefined\") {\n          if (error == null) {\n            return \"BokehJS is loading ...\";\n          } else {\n            return \"BokehJS failed to load.\";\n          }\n        } else {\n          const prefix = `BokehJS ${root.Bokeh.version}`;\n          if (error == null) {\n            return `${prefix} successfully loaded.`;\n          } else {\n            return `${prefix} <b>encountered errors</b> while loading and may not function as expected.`;\n          }\n        }\n      })();\n      el.innerHTML = html;\n\n      if (error != null) {\n        const wrapper = document.createElement(\"div\");\n        wrapper.style.overflow = \"auto\";\n        wrapper.style.height = \"5em\";\n        wrapper.style.resize = \"vertical\";\n        const content = document.createElement(\"div\");\n        content.style.fontFamily = \"monospace\";\n        content.style.whiteSpace = \"pre-wrap\";\n        content.style.backgroundColor = \"rgb(255, 221, 221)\";\n        content.textContent = error.stack ?? error.toString();\n        wrapper.append(content);\n        el.append(wrapper);\n      }\n    } else if (Date.now() < root._bokeh_timeout) {\n      setTimeout(() => display_loaded(error), 100);\n    }\n  }\n\n  function run_callbacks() {\n    try {\n      root._bokeh_onload_callbacks.forEach(function(callback) {\n        if (callback != null)\n          callback();\n      });\n    } finally {\n      delete root._bokeh_onload_callbacks\n    }\n    console.debug(\"Bokeh: all callbacks have finished\");\n  }\n\n  function load_libs(css_urls, js_urls, callback) {\n    if (css_urls == null) css_urls = [];\n    if (js_urls == null) js_urls = [];\n\n    root._bokeh_onload_callbacks.push(callback);\n    if (root._bokeh_is_loading > 0) {\n      console.debug(\"Bokeh: BokehJS is being loaded, scheduling callback at\", now());\n      return null;\n    }\n    if (js_urls == null || js_urls.length === 0) {\n      run_callbacks();\n      return null;\n    }\n    console.debug(\"Bokeh: BokehJS not loaded, scheduling load and callback at\", now());\n    root._bokeh_is_loading = css_urls.length + js_urls.length;\n\n    function on_load() {\n      root._bokeh_is_loading--;\n      if (root._bokeh_is_loading === 0) {\n        console.debug(\"Bokeh: all BokehJS libraries/stylesheets loaded\");\n        run_callbacks()\n      }\n    }\n\n    function on_error(url) {\n      console.error(\"failed to load \" + url);\n    }\n\n    for (let i = 0; i < css_urls.length; i++) {\n      const url = css_urls[i];\n      const element = document.createElement(\"link\");\n      element.onload = on_load;\n      element.onerror = on_error.bind(null, url);\n      element.rel = \"stylesheet\";\n      element.type = \"text/css\";\n      element.href = url;\n      console.debug(\"Bokeh: injecting link tag for BokehJS stylesheet: \", url);\n      document.body.appendChild(element);\n    }\n\n    for (let i = 0; i < js_urls.length; i++) {\n      const url = js_urls[i];\n      const element = document.createElement('script');\n      element.onload = on_load;\n      element.onerror = on_error.bind(null, url);\n      element.async = false;\n      element.src = url;\n      console.debug(\"Bokeh: injecting script tag for BokehJS library: \", url);\n      document.head.appendChild(element);\n    }\n  };\n\n  function inject_raw_css(css) {\n    const element = document.createElement(\"style\");\n    element.appendChild(document.createTextNode(css));\n    document.body.appendChild(element);\n  }\n\n  const js_urls = [\"https://cdn.bokeh.org/bokeh/release/bokeh-3.6.0.min.js\", \"https://cdn.bokeh.org/bokeh/release/bokeh-gl-3.6.0.min.js\", \"https://cdn.bokeh.org/bokeh/release/bokeh-widgets-3.6.0.min.js\", \"https://cdn.bokeh.org/bokeh/release/bokeh-tables-3.6.0.min.js\", \"https://cdn.bokeh.org/bokeh/release/bokeh-mathjax-3.6.0.min.js\"];\n  const css_urls = [];\n\n  const inline_js = [    function(Bokeh) {\n      Bokeh.set_log_level(\"info\");\n    },\nfunction(Bokeh) {\n    }\n  ];\n\n  function run_inline_js() {\n    if (root.Bokeh !== undefined || force === true) {\n      try {\n            for (let i = 0; i < inline_js.length; i++) {\n      inline_js[i].call(root, root.Bokeh);\n    }\n\n      } catch (error) {display_loaded(error);throw error;\n      }if (force === true) {\n        display_loaded();\n      }} else if (Date.now() < root._bokeh_timeout) {\n      setTimeout(run_inline_js, 100);\n    } else if (!root._bokeh_failed_load) {\n      console.log(\"Bokeh: BokehJS failed to load within specified timeout.\");\n      root._bokeh_failed_load = true;\n    } else if (force !== true) {\n      const cell = $(document.getElementById(\"c404f9be-dc26-4494-abb8-c734062421ee\")).parents('.cell').data().cell;\n      cell.output_area.append_execute_result(NB_LOAD_WARNING)\n    }\n  }\n\n  if (root._bokeh_is_loading === 0) {\n    console.debug(\"Bokeh: BokehJS loaded, going straight to plotting\");\n    run_inline_js();\n  } else {\n    load_libs(css_urls, js_urls, function() {\n      console.debug(\"Bokeh: BokehJS plotting callback run at\", now());\n      run_inline_js();\n    });\n  }\n}(window));",
      "application/vnd.bokehjs_load.v0+json": "'use strict';\n(function(root) {\n  function now() {\n    return new Date();\n  }\n\n  const force = true;\n\n  if (typeof root._bokeh_onload_callbacks === \"undefined\" || force === true) {\n    root._bokeh_onload_callbacks = [];\n    root._bokeh_is_loading = undefined;\n  }\n\n\n  if (typeof (root._bokeh_timeout) === \"undefined\" || force === true) {\n    root._bokeh_timeout = Date.now() + 5000;\n    root._bokeh_failed_load = false;\n  }\n\n  const NB_LOAD_WARNING = {'data': {'text/html':\n     \"<div style='background-color: #fdd'>\\n\"+\n     \"<p>\\n\"+\n     \"BokehJS does not appear to have successfully loaded. If loading BokehJS from CDN, this \\n\"+\n     \"may be due to a slow or bad network connection. Possible fixes:\\n\"+\n     \"</p>\\n\"+\n     \"<ul>\\n\"+\n     \"<li>re-rerun `output_notebook()` to attempt to load from CDN again, or</li>\\n\"+\n     \"<li>use INLINE resources instead, as so:</li>\\n\"+\n     \"</ul>\\n\"+\n     \"<code>\\n\"+\n     \"from bokeh.resources import INLINE\\n\"+\n     \"output_notebook(resources=INLINE)\\n\"+\n     \"</code>\\n\"+\n     \"</div>\"}};\n\n  function display_loaded(error = null) {\n    const el = document.getElementById(\"c404f9be-dc26-4494-abb8-c734062421ee\");\n    if (el != null) {\n      const html = (() => {\n        if (typeof root.Bokeh === \"undefined\") {\n          if (error == null) {\n            return \"BokehJS is loading ...\";\n          } else {\n            return \"BokehJS failed to load.\";\n          }\n        } else {\n          const prefix = `BokehJS ${root.Bokeh.version}`;\n          if (error == null) {\n            return `${prefix} successfully loaded.`;\n          } else {\n            return `${prefix} <b>encountered errors</b> while loading and may not function as expected.`;\n          }\n        }\n      })();\n      el.innerHTML = html;\n\n      if (error != null) {\n        const wrapper = document.createElement(\"div\");\n        wrapper.style.overflow = \"auto\";\n        wrapper.style.height = \"5em\";\n        wrapper.style.resize = \"vertical\";\n        const content = document.createElement(\"div\");\n        content.style.fontFamily = \"monospace\";\n        content.style.whiteSpace = \"pre-wrap\";\n        content.style.backgroundColor = \"rgb(255, 221, 221)\";\n        content.textContent = error.stack ?? error.toString();\n        wrapper.append(content);\n        el.append(wrapper);\n      }\n    } else if (Date.now() < root._bokeh_timeout) {\n      setTimeout(() => display_loaded(error), 100);\n    }\n  }\n\n  function run_callbacks() {\n    try {\n      root._bokeh_onload_callbacks.forEach(function(callback) {\n        if (callback != null)\n          callback();\n      });\n    } finally {\n      delete root._bokeh_onload_callbacks\n    }\n    console.debug(\"Bokeh: all callbacks have finished\");\n  }\n\n  function load_libs(css_urls, js_urls, callback) {\n    if (css_urls == null) css_urls = [];\n    if (js_urls == null) js_urls = [];\n\n    root._bokeh_onload_callbacks.push(callback);\n    if (root._bokeh_is_loading > 0) {\n      console.debug(\"Bokeh: BokehJS is being loaded, scheduling callback at\", now());\n      return null;\n    }\n    if (js_urls == null || js_urls.length === 0) {\n      run_callbacks();\n      return null;\n    }\n    console.debug(\"Bokeh: BokehJS not loaded, scheduling load and callback at\", now());\n    root._bokeh_is_loading = css_urls.length + js_urls.length;\n\n    function on_load() {\n      root._bokeh_is_loading--;\n      if (root._bokeh_is_loading === 0) {\n        console.debug(\"Bokeh: all BokehJS libraries/stylesheets loaded\");\n        run_callbacks()\n      }\n    }\n\n    function on_error(url) {\n      console.error(\"failed to load \" + url);\n    }\n\n    for (let i = 0; i < css_urls.length; i++) {\n      const url = css_urls[i];\n      const element = document.createElement(\"link\");\n      element.onload = on_load;\n      element.onerror = on_error.bind(null, url);\n      element.rel = \"stylesheet\";\n      element.type = \"text/css\";\n      element.href = url;\n      console.debug(\"Bokeh: injecting link tag for BokehJS stylesheet: \", url);\n      document.body.appendChild(element);\n    }\n\n    for (let i = 0; i < js_urls.length; i++) {\n      const url = js_urls[i];\n      const element = document.createElement('script');\n      element.onload = on_load;\n      element.onerror = on_error.bind(null, url);\n      element.async = false;\n      element.src = url;\n      console.debug(\"Bokeh: injecting script tag for BokehJS library: \", url);\n      document.head.appendChild(element);\n    }\n  };\n\n  function inject_raw_css(css) {\n    const element = document.createElement(\"style\");\n    element.appendChild(document.createTextNode(css));\n    document.body.appendChild(element);\n  }\n\n  const js_urls = [\"https://cdn.bokeh.org/bokeh/release/bokeh-3.6.0.min.js\", \"https://cdn.bokeh.org/bokeh/release/bokeh-gl-3.6.0.min.js\", \"https://cdn.bokeh.org/bokeh/release/bokeh-widgets-3.6.0.min.js\", \"https://cdn.bokeh.org/bokeh/release/bokeh-tables-3.6.0.min.js\", \"https://cdn.bokeh.org/bokeh/release/bokeh-mathjax-3.6.0.min.js\"];\n  const css_urls = [];\n\n  const inline_js = [    function(Bokeh) {\n      Bokeh.set_log_level(\"info\");\n    },\nfunction(Bokeh) {\n    }\n  ];\n\n  function run_inline_js() {\n    if (root.Bokeh !== undefined || force === true) {\n      try {\n            for (let i = 0; i < inline_js.length; i++) {\n      inline_js[i].call(root, root.Bokeh);\n    }\n\n      } catch (error) {display_loaded(error);throw error;\n      }if (force === true) {\n        display_loaded();\n      }} else if (Date.now() < root._bokeh_timeout) {\n      setTimeout(run_inline_js, 100);\n    } else if (!root._bokeh_failed_load) {\n      console.log(\"Bokeh: BokehJS failed to load within specified timeout.\");\n      root._bokeh_failed_load = true;\n    } else if (force !== true) {\n      const cell = $(document.getElementById(\"c404f9be-dc26-4494-abb8-c734062421ee\")).parents('.cell').data().cell;\n      cell.output_area.append_execute_result(NB_LOAD_WARNING)\n    }\n  }\n\n  if (root._bokeh_is_loading === 0) {\n    console.debug(\"Bokeh: BokehJS loaded, going straight to plotting\");\n    run_inline_js();\n  } else {\n    load_libs(css_urls, js_urls, function() {\n      console.debug(\"Bokeh: BokehJS plotting callback run at\", now());\n      run_inline_js();\n    });\n  }\n}(window));"
     },
     "metadata": {},
     "output_type": "display_data"
    },
    {
     "data": {
      "text/html": [
       "\n",
       "  <div id=\"d6276f3f-9fdd-4f97-ab19-5e5ab86d314a\" data-root-id=\"p1036\" style=\"display: contents;\"></div>\n"
      ]
     },
     "metadata": {},
     "output_type": "display_data"
    },
    {
     "data": {
      "application/javascript": "(function(root) {\n  function embed_document(root) {\n  const docs_json = {\"63cd94f1-4b4e-47f1-b53e-e99bf48d3a24\":{\"version\":\"3.6.0\",\"title\":\"Bokeh Application\",\"roots\":[{\"type\":\"object\",\"name\":\"Figure\",\"id\":\"p1036\",\"attributes\":{\"width\":400,\"height\":400,\"x_range\":{\"type\":\"object\",\"name\":\"DataRange1d\",\"id\":\"p1037\"},\"y_range\":{\"type\":\"object\",\"name\":\"DataRange1d\",\"id\":\"p1038\"},\"x_scale\":{\"type\":\"object\",\"name\":\"LinearScale\",\"id\":\"p1046\"},\"y_scale\":{\"type\":\"object\",\"name\":\"LinearScale\",\"id\":\"p1047\"},\"title\":{\"type\":\"object\",\"name\":\"Title\",\"id\":\"p1039\",\"attributes\":{\"text\":\"Line Chart\"}},\"renderers\":[{\"type\":\"object\",\"name\":\"GlyphRenderer\",\"id\":\"p1077\",\"attributes\":{\"data_source\":{\"type\":\"object\",\"name\":\"ColumnDataSource\",\"id\":\"p1071\",\"attributes\":{\"selected\":{\"type\":\"object\",\"name\":\"Selection\",\"id\":\"p1072\",\"attributes\":{\"indices\":[],\"line_indices\":[]}},\"selection_policy\":{\"type\":\"object\",\"name\":\"UnionRenderers\",\"id\":\"p1073\"},\"data\":{\"type\":\"map\",\"entries\":[[\"x\",{\"type\":\"ndarray\",\"array\":{\"type\":\"bytes\",\"data\":\"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\"},\"shape\":[1000],\"dtype\":\"float64\",\"order\":\"little\"}],[\"y\",{\"type\":\"ndarray\",\"array\":{\"type\":\"bytes\",\"data\":\"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\"},\"shape\":[1000],\"dtype\":\"float64\",\"order\":\"little\"}]]}}},\"view\":{\"type\":\"object\",\"name\":\"CDSView\",\"id\":\"p1078\",\"attributes\":{\"filter\":{\"type\":\"object\",\"name\":\"AllIndices\",\"id\":\"p1079\"}}},\"glyph\":{\"type\":\"object\",\"name\":\"Line\",\"id\":\"p1074\",\"attributes\":{\"x\":{\"type\":\"field\",\"field\":\"x\"},\"y\":{\"type\":\"field\",\"field\":\"y\"},\"line_color\":\"#1f77b4\"}},\"nonselection_glyph\":{\"type\":\"object\",\"name\":\"Line\",\"id\":\"p1075\",\"attributes\":{\"x\":{\"type\":\"field\",\"field\":\"x\"},\"y\":{\"type\":\"field\",\"field\":\"y\"},\"line_color\":\"#1f77b4\",\"line_alpha\":0.1}},\"muted_glyph\":{\"type\":\"object\",\"name\":\"Line\",\"id\":\"p1076\",\"attributes\":{\"x\":{\"type\":\"field\",\"field\":\"x\"},\"y\":{\"type\":\"field\",\"field\":\"y\"},\"line_color\":\"#1f77b4\",\"line_alpha\":0.2}}}}],\"toolbar\":{\"type\":\"object\",\"name\":\"Toolbar\",\"id\":\"p1045\",\"attributes\":{\"tools\":[{\"type\":\"object\",\"name\":\"PanTool\",\"id\":\"p1058\"},{\"type\":\"object\",\"name\":\"WheelZoomTool\",\"id\":\"p1059\",\"attributes\":{\"renderers\":\"auto\"}},{\"type\":\"object\",\"name\":\"BoxZoomTool\",\"id\":\"p1060\",\"attributes\":{\"overlay\":{\"type\":\"object\",\"name\":\"BoxAnnotation\",\"id\":\"p1061\",\"attributes\":{\"syncable\":false,\"line_color\":\"black\",\"line_alpha\":1.0,\"line_width\":2,\"line_dash\":[4,4],\"fill_color\":\"lightgrey\",\"fill_alpha\":0.5,\"level\":\"overlay\",\"visible\":false,\"left\":{\"type\":\"number\",\"value\":\"nan\"},\"right\":{\"type\":\"number\",\"value\":\"nan\"},\"top\":{\"type\":\"number\",\"value\":\"nan\"},\"bottom\":{\"type\":\"number\",\"value\":\"nan\"},\"left_units\":\"canvas\",\"right_units\":\"canvas\",\"top_units\":\"canvas\",\"bottom_units\":\"canvas\",\"handles\":{\"type\":\"object\",\"name\":\"BoxInteractionHandles\",\"id\":\"p1067\",\"attributes\":{\"all\":{\"type\":\"object\",\"name\":\"AreaVisuals\",\"id\":\"p1066\",\"attributes\":{\"fill_color\":\"white\",\"hover_fill_color\":\"lightgray\"}}}}}}}},{\"type\":\"object\",\"name\":\"SaveTool\",\"id\":\"p1068\"},{\"type\":\"object\",\"name\":\"ResetTool\",\"id\":\"p1069\"},{\"type\":\"object\",\"name\":\"HelpTool\",\"id\":\"p1070\"}]}},\"left\":[{\"type\":\"object\",\"name\":\"LinearAxis\",\"id\":\"p1053\",\"attributes\":{\"ticker\":{\"type\":\"object\",\"name\":\"BasicTicker\",\"id\":\"p1054\",\"attributes\":{\"mantissas\":[1,2,5]}},\"formatter\":{\"type\":\"object\",\"name\":\"BasicTickFormatter\",\"id\":\"p1055\"},\"major_label_policy\":{\"type\":\"object\",\"name\":\"AllLabels\",\"id\":\"p1056\"}}}],\"below\":[{\"type\":\"object\",\"name\":\"LinearAxis\",\"id\":\"p1048\",\"attributes\":{\"ticker\":{\"type\":\"object\",\"name\":\"BasicTicker\",\"id\":\"p1049\",\"attributes\":{\"mantissas\":[1,2,5]}},\"formatter\":{\"type\":\"object\",\"name\":\"BasicTickFormatter\",\"id\":\"p1050\"},\"major_label_policy\":{\"type\":\"object\",\"name\":\"AllLabels\",\"id\":\"p1051\"}}}],\"center\":[{\"type\":\"object\",\"name\":\"Grid\",\"id\":\"p1052\",\"attributes\":{\"axis\":{\"id\":\"p1048\"}}},{\"type\":\"object\",\"name\":\"Grid\",\"id\":\"p1057\",\"attributes\":{\"dimension\":1,\"axis\":{\"id\":\"p1053\"}}}]}}]}};\n  const render_items = [{\"docid\":\"63cd94f1-4b4e-47f1-b53e-e99bf48d3a24\",\"roots\":{\"p1036\":\"d6276f3f-9fdd-4f97-ab19-5e5ab86d314a\"},\"root_ids\":[\"p1036\"]}];\n  void root.Bokeh.embed.embed_items_notebook(docs_json, render_items);\n  }\n  if (root.Bokeh !== undefined) {\n    embed_document(root);\n  } else {\n    let attempts = 0;\n    const timer = setInterval(function(root) {\n      if (root.Bokeh !== undefined) {\n        clearInterval(timer);\n        embed_document(root);\n      } else {\n        attempts++;\n        if (attempts > 100) {\n          clearInterval(timer);\n          console.log(\"Bokeh: ERROR: Unable to run BokehJS code because BokehJS library is missing\");\n        }\n      }\n    }, 10, root)\n  }\n})(window);",
      "application/vnd.bokehjs_exec.v0+json": ""
     },
     "metadata": {
      "application/vnd.bokehjs_exec.v0+json": {
       "id": "p1036"
      }
     },
     "output_type": "display_data"
    }
   ],
   "execution_count": 21
  },
  {
   "metadata": {
    "ExecuteTime": {
     "end_time": "2024-11-23T21:19:47.198013Z",
     "start_time": "2024-11-23T21:19:47.165340Z"
    }
   },
   "cell_type": "code",
   "source": [
    "# Bar charts\n",
    "categories = ['A', 'B', 'C', 'D']\n",
    "values = [10, 15, 7, 12]\n",
    "p2 = figure(title='Bar Chart', width=400, height=400, y_range=categories)\n",
    "p2.hbar(y=categories, right=values, height=0.5)\n",
    "show(p2)"
   ],
   "id": "fc3c8d5ec95bcf0",
   "outputs": [
    {
     "data": {
      "text/html": [
       "\n",
       "  <div id=\"f4a34993-e895-4661-9942-d462f453292b\" data-root-id=\"p1161\" style=\"display: contents;\"></div>\n"
      ]
     },
     "metadata": {},
     "output_type": "display_data"
    },
    {
     "data": {
      "application/javascript": "(function(root) {\n  function embed_document(root) {\n  const docs_json = {\"d2f2f558-7af0-4e56-bbe7-9f6fd86249d7\":{\"version\":\"3.6.0\",\"title\":\"Bokeh Application\",\"roots\":[{\"type\":\"object\",\"name\":\"Figure\",\"id\":\"p1161\",\"attributes\":{\"width\":400,\"height\":400,\"x_range\":{\"type\":\"object\",\"name\":\"DataRange1d\",\"id\":\"p1163\"},\"y_range\":{\"type\":\"object\",\"name\":\"FactorRange\",\"id\":\"p1171\",\"attributes\":{\"factors\":[\"A\",\"B\",\"C\",\"D\"]}},\"x_scale\":{\"type\":\"object\",\"name\":\"LinearScale\",\"id\":\"p1172\"},\"y_scale\":{\"type\":\"object\",\"name\":\"CategoricalScale\",\"id\":\"p1173\"},\"title\":{\"type\":\"object\",\"name\":\"Title\",\"id\":\"p1164\",\"attributes\":{\"text\":\"Bar Chart\"}},\"renderers\":[{\"type\":\"object\",\"name\":\"GlyphRenderer\",\"id\":\"p1203\",\"attributes\":{\"data_source\":{\"type\":\"object\",\"name\":\"ColumnDataSource\",\"id\":\"p1197\",\"attributes\":{\"selected\":{\"type\":\"object\",\"name\":\"Selection\",\"id\":\"p1198\",\"attributes\":{\"indices\":[],\"line_indices\":[]}},\"selection_policy\":{\"type\":\"object\",\"name\":\"UnionRenderers\",\"id\":\"p1199\"},\"data\":{\"type\":\"map\",\"entries\":[[\"y\",[\"A\",\"B\",\"C\",\"D\"]],[\"right\",[10,15,7,12]]]}}},\"view\":{\"type\":\"object\",\"name\":\"CDSView\",\"id\":\"p1204\",\"attributes\":{\"filter\":{\"type\":\"object\",\"name\":\"AllIndices\",\"id\":\"p1205\"}}},\"glyph\":{\"type\":\"object\",\"name\":\"HBar\",\"id\":\"p1200\",\"attributes\":{\"y\":{\"type\":\"field\",\"field\":\"y\"},\"height\":{\"type\":\"value\",\"value\":0.5},\"right\":{\"type\":\"field\",\"field\":\"right\"},\"line_color\":{\"type\":\"value\",\"value\":\"#1f77b4\"},\"fill_color\":{\"type\":\"value\",\"value\":\"#1f77b4\"}}},\"nonselection_glyph\":{\"type\":\"object\",\"name\":\"HBar\",\"id\":\"p1201\",\"attributes\":{\"y\":{\"type\":\"field\",\"field\":\"y\"},\"height\":{\"type\":\"value\",\"value\":0.5},\"right\":{\"type\":\"field\",\"field\":\"right\"},\"line_color\":{\"type\":\"value\",\"value\":\"#1f77b4\"},\"line_alpha\":{\"type\":\"value\",\"value\":0.1},\"fill_color\":{\"type\":\"value\",\"value\":\"#1f77b4\"},\"fill_alpha\":{\"type\":\"value\",\"value\":0.1},\"hatch_alpha\":{\"type\":\"value\",\"value\":0.1}}},\"muted_glyph\":{\"type\":\"object\",\"name\":\"HBar\",\"id\":\"p1202\",\"attributes\":{\"y\":{\"type\":\"field\",\"field\":\"y\"},\"height\":{\"type\":\"value\",\"value\":0.5},\"right\":{\"type\":\"field\",\"field\":\"right\"},\"line_color\":{\"type\":\"value\",\"value\":\"#1f77b4\"},\"line_alpha\":{\"type\":\"value\",\"value\":0.2},\"fill_color\":{\"type\":\"value\",\"value\":\"#1f77b4\"},\"fill_alpha\":{\"type\":\"value\",\"value\":0.2},\"hatch_alpha\":{\"type\":\"value\",\"value\":0.2}}}}}],\"toolbar\":{\"type\":\"object\",\"name\":\"Toolbar\",\"id\":\"p1170\",\"attributes\":{\"tools\":[{\"type\":\"object\",\"name\":\"PanTool\",\"id\":\"p1184\"},{\"type\":\"object\",\"name\":\"WheelZoomTool\",\"id\":\"p1185\",\"attributes\":{\"renderers\":\"auto\"}},{\"type\":\"object\",\"name\":\"BoxZoomTool\",\"id\":\"p1186\",\"attributes\":{\"overlay\":{\"type\":\"object\",\"name\":\"BoxAnnotation\",\"id\":\"p1187\",\"attributes\":{\"syncable\":false,\"line_color\":\"black\",\"line_alpha\":1.0,\"line_width\":2,\"line_dash\":[4,4],\"fill_color\":\"lightgrey\",\"fill_alpha\":0.5,\"level\":\"overlay\",\"visible\":false,\"left\":{\"type\":\"number\",\"value\":\"nan\"},\"right\":{\"type\":\"number\",\"value\":\"nan\"},\"top\":{\"type\":\"number\",\"value\":\"nan\"},\"bottom\":{\"type\":\"number\",\"value\":\"nan\"},\"left_units\":\"canvas\",\"right_units\":\"canvas\",\"top_units\":\"canvas\",\"bottom_units\":\"canvas\",\"handles\":{\"type\":\"object\",\"name\":\"BoxInteractionHandles\",\"id\":\"p1193\",\"attributes\":{\"all\":{\"type\":\"object\",\"name\":\"AreaVisuals\",\"id\":\"p1192\",\"attributes\":{\"fill_color\":\"white\",\"hover_fill_color\":\"lightgray\"}}}}}}}},{\"type\":\"object\",\"name\":\"SaveTool\",\"id\":\"p1194\"},{\"type\":\"object\",\"name\":\"ResetTool\",\"id\":\"p1195\"},{\"type\":\"object\",\"name\":\"HelpTool\",\"id\":\"p1196\"}]}},\"left\":[{\"type\":\"object\",\"name\":\"CategoricalAxis\",\"id\":\"p1179\",\"attributes\":{\"ticker\":{\"type\":\"object\",\"name\":\"CategoricalTicker\",\"id\":\"p1180\"},\"formatter\":{\"type\":\"object\",\"name\":\"CategoricalTickFormatter\",\"id\":\"p1181\"},\"major_label_policy\":{\"type\":\"object\",\"name\":\"AllLabels\",\"id\":\"p1182\"}}}],\"below\":[{\"type\":\"object\",\"name\":\"LinearAxis\",\"id\":\"p1174\",\"attributes\":{\"ticker\":{\"type\":\"object\",\"name\":\"BasicTicker\",\"id\":\"p1175\",\"attributes\":{\"mantissas\":[1,2,5]}},\"formatter\":{\"type\":\"object\",\"name\":\"BasicTickFormatter\",\"id\":\"p1176\"},\"major_label_policy\":{\"type\":\"object\",\"name\":\"AllLabels\",\"id\":\"p1177\"}}}],\"center\":[{\"type\":\"object\",\"name\":\"Grid\",\"id\":\"p1178\",\"attributes\":{\"axis\":{\"id\":\"p1174\"}}},{\"type\":\"object\",\"name\":\"Grid\",\"id\":\"p1183\",\"attributes\":{\"dimension\":1,\"axis\":{\"id\":\"p1179\"}}}]}}]}};\n  const render_items = [{\"docid\":\"d2f2f558-7af0-4e56-bbe7-9f6fd86249d7\",\"roots\":{\"p1161\":\"f4a34993-e895-4661-9942-d462f453292b\"},\"root_ids\":[\"p1161\"]}];\n  void root.Bokeh.embed.embed_items_notebook(docs_json, render_items);\n  }\n  if (root.Bokeh !== undefined) {\n    embed_document(root);\n  } else {\n    let attempts = 0;\n    const timer = setInterval(function(root) {\n      if (root.Bokeh !== undefined) {\n        clearInterval(timer);\n        embed_document(root);\n      } else {\n        attempts++;\n        if (attempts > 100) {\n          clearInterval(timer);\n          console.log(\"Bokeh: ERROR: Unable to run BokehJS code because BokehJS library is missing\");\n        }\n      }\n    }, 10, root)\n  }\n})(window);",
      "application/vnd.bokehjs_exec.v0+json": ""
     },
     "metadata": {
      "application/vnd.bokehjs_exec.v0+json": {
       "id": "p1161"
      }
     },
     "output_type": "display_data"
    }
   ],
   "execution_count": 24
  },
  {
   "metadata": {
    "ExecuteTime": {
     "end_time": "2024-11-23T21:24:24.770407Z",
     "start_time": "2024-11-23T21:24:24.728503Z"
    }
   },
   "cell_type": "code",
   "source": [
    "# Stacked Columns\n",
    "from bokeh.models.sources import ColumnDataSource\n",
    "data = {'categories': ['A', 'B', 'C', 'D'],\n",
    "        'value1': [10, 15, 7, 12],\n",
    "        'value2': [5, 8, 10, 6]}\n",
    "source = ColumnDataSource(data=data)\n",
    "p3 = figure(title='Stacked Columns Chart', width=400, height=400, x_range=data['categories'])\n",
    "p3.vbar_stack(stackers=['value1', 'value2'],x='categories',width=0.5, color=['blue', 'green'], source=source)\n",
    "show(p3)"
   ],
   "id": "c3d5ccaa1eb7fa04",
   "outputs": [
    {
     "data": {
      "text/html": [
       "\n",
       "  <div id=\"d15ecb95-e681-43ab-aa63-f772f1dee6d2\" data-root-id=\"p1392\" style=\"display: contents;\"></div>\n"
      ]
     },
     "metadata": {},
     "output_type": "display_data"
    },
    {
     "data": {
      "application/javascript": "(function(root) {\n  function embed_document(root) {\n  const docs_json = {\"e2e474fc-35ad-4b38-8b1a-8c2527245e1a\":{\"version\":\"3.6.0\",\"title\":\"Bokeh Application\",\"roots\":[{\"type\":\"object\",\"name\":\"Figure\",\"id\":\"p1392\",\"attributes\":{\"width\":400,\"height\":400,\"x_range\":{\"type\":\"object\",\"name\":\"FactorRange\",\"id\":\"p1402\",\"attributes\":{\"factors\":[\"A\",\"B\",\"C\",\"D\"]}},\"y_range\":{\"type\":\"object\",\"name\":\"DataRange1d\",\"id\":\"p1394\"},\"x_scale\":{\"type\":\"object\",\"name\":\"CategoricalScale\",\"id\":\"p1403\"},\"y_scale\":{\"type\":\"object\",\"name\":\"LinearScale\",\"id\":\"p1404\"},\"title\":{\"type\":\"object\",\"name\":\"Title\",\"id\":\"p1395\",\"attributes\":{\"text\":\"Stacked Columns Chart\"}},\"renderers\":[{\"type\":\"object\",\"name\":\"GlyphRenderer\",\"id\":\"p1438\",\"attributes\":{\"name\":\"value1\",\"data_source\":{\"type\":\"object\",\"name\":\"ColumnDataSource\",\"id\":\"p1389\",\"attributes\":{\"selected\":{\"type\":\"object\",\"name\":\"Selection\",\"id\":\"p1390\",\"attributes\":{\"indices\":[],\"line_indices\":[]}},\"selection_policy\":{\"type\":\"object\",\"name\":\"UnionRenderers\",\"id\":\"p1391\"},\"data\":{\"type\":\"map\",\"entries\":[[\"categories\",[\"A\",\"B\",\"C\",\"D\"]],[\"value1\",[10,15,7,12]],[\"value2\",[5,8,10,6]]]}}},\"view\":{\"type\":\"object\",\"name\":\"CDSView\",\"id\":\"p1439\",\"attributes\":{\"filter\":{\"type\":\"object\",\"name\":\"AllIndices\",\"id\":\"p1440\"}}},\"glyph\":{\"type\":\"object\",\"name\":\"VBar\",\"id\":\"p1435\",\"attributes\":{\"x\":{\"type\":\"field\",\"field\":\"categories\"},\"width\":{\"type\":\"value\",\"value\":0.5},\"bottom\":{\"type\":\"expr\",\"expr\":{\"type\":\"object\",\"name\":\"Stack\",\"id\":\"p1428\",\"attributes\":{\"fields\":[]}}},\"top\":{\"type\":\"expr\",\"expr\":{\"type\":\"object\",\"name\":\"Stack\",\"id\":\"p1429\",\"attributes\":{\"fields\":[\"value1\"]}}},\"line_color\":{\"type\":\"value\",\"value\":\"blue\"},\"fill_color\":{\"type\":\"value\",\"value\":\"blue\"},\"hatch_color\":{\"type\":\"value\",\"value\":\"blue\"}}},\"nonselection_glyph\":{\"type\":\"object\",\"name\":\"VBar\",\"id\":\"p1436\",\"attributes\":{\"x\":{\"type\":\"field\",\"field\":\"categories\"},\"width\":{\"type\":\"value\",\"value\":0.5},\"bottom\":{\"type\":\"expr\",\"expr\":{\"id\":\"p1428\"}},\"top\":{\"type\":\"expr\",\"expr\":{\"id\":\"p1429\"}},\"line_color\":{\"type\":\"value\",\"value\":\"blue\"},\"line_alpha\":{\"type\":\"value\",\"value\":0.1},\"fill_color\":{\"type\":\"value\",\"value\":\"blue\"},\"fill_alpha\":{\"type\":\"value\",\"value\":0.1},\"hatch_color\":{\"type\":\"value\",\"value\":\"blue\"},\"hatch_alpha\":{\"type\":\"value\",\"value\":0.1}}},\"muted_glyph\":{\"type\":\"object\",\"name\":\"VBar\",\"id\":\"p1437\",\"attributes\":{\"x\":{\"type\":\"field\",\"field\":\"categories\"},\"width\":{\"type\":\"value\",\"value\":0.5},\"bottom\":{\"type\":\"expr\",\"expr\":{\"id\":\"p1428\"}},\"top\":{\"type\":\"expr\",\"expr\":{\"id\":\"p1429\"}},\"line_color\":{\"type\":\"value\",\"value\":\"blue\"},\"line_alpha\":{\"type\":\"value\",\"value\":0.2},\"fill_color\":{\"type\":\"value\",\"value\":\"blue\"},\"fill_alpha\":{\"type\":\"value\",\"value\":0.2},\"hatch_color\":{\"type\":\"value\",\"value\":\"blue\"},\"hatch_alpha\":{\"type\":\"value\",\"value\":0.2}}}}},{\"type\":\"object\",\"name\":\"GlyphRenderer\",\"id\":\"p1447\",\"attributes\":{\"name\":\"value2\",\"data_source\":{\"id\":\"p1389\"},\"view\":{\"type\":\"object\",\"name\":\"CDSView\",\"id\":\"p1448\",\"attributes\":{\"filter\":{\"type\":\"object\",\"name\":\"AllIndices\",\"id\":\"p1449\"}}},\"glyph\":{\"type\":\"object\",\"name\":\"VBar\",\"id\":\"p1444\",\"attributes\":{\"x\":{\"type\":\"field\",\"field\":\"categories\"},\"width\":{\"type\":\"value\",\"value\":0.5},\"bottom\":{\"type\":\"expr\",\"expr\":{\"type\":\"object\",\"name\":\"Stack\",\"id\":\"p1430\",\"attributes\":{\"fields\":[\"value1\"]}}},\"top\":{\"type\":\"expr\",\"expr\":{\"type\":\"object\",\"name\":\"Stack\",\"id\":\"p1431\",\"attributes\":{\"fields\":[\"value1\",\"value2\"]}}},\"line_color\":{\"type\":\"value\",\"value\":\"green\"},\"fill_color\":{\"type\":\"value\",\"value\":\"green\"},\"hatch_color\":{\"type\":\"value\",\"value\":\"green\"}}},\"nonselection_glyph\":{\"type\":\"object\",\"name\":\"VBar\",\"id\":\"p1445\",\"attributes\":{\"x\":{\"type\":\"field\",\"field\":\"categories\"},\"width\":{\"type\":\"value\",\"value\":0.5},\"bottom\":{\"type\":\"expr\",\"expr\":{\"id\":\"p1430\"}},\"top\":{\"type\":\"expr\",\"expr\":{\"id\":\"p1431\"}},\"line_color\":{\"type\":\"value\",\"value\":\"green\"},\"line_alpha\":{\"type\":\"value\",\"value\":0.1},\"fill_color\":{\"type\":\"value\",\"value\":\"green\"},\"fill_alpha\":{\"type\":\"value\",\"value\":0.1},\"hatch_color\":{\"type\":\"value\",\"value\":\"green\"},\"hatch_alpha\":{\"type\":\"value\",\"value\":0.1}}},\"muted_glyph\":{\"type\":\"object\",\"name\":\"VBar\",\"id\":\"p1446\",\"attributes\":{\"x\":{\"type\":\"field\",\"field\":\"categories\"},\"width\":{\"type\":\"value\",\"value\":0.5},\"bottom\":{\"type\":\"expr\",\"expr\":{\"id\":\"p1430\"}},\"top\":{\"type\":\"expr\",\"expr\":{\"id\":\"p1431\"}},\"line_color\":{\"type\":\"value\",\"value\":\"green\"},\"line_alpha\":{\"type\":\"value\",\"value\":0.2},\"fill_color\":{\"type\":\"value\",\"value\":\"green\"},\"fill_alpha\":{\"type\":\"value\",\"value\":0.2},\"hatch_color\":{\"type\":\"value\",\"value\":\"green\"},\"hatch_alpha\":{\"type\":\"value\",\"value\":0.2}}}}}],\"toolbar\":{\"type\":\"object\",\"name\":\"Toolbar\",\"id\":\"p1401\",\"attributes\":{\"tools\":[{\"type\":\"object\",\"name\":\"PanTool\",\"id\":\"p1415\"},{\"type\":\"object\",\"name\":\"WheelZoomTool\",\"id\":\"p1416\",\"attributes\":{\"renderers\":\"auto\"}},{\"type\":\"object\",\"name\":\"BoxZoomTool\",\"id\":\"p1417\",\"attributes\":{\"overlay\":{\"type\":\"object\",\"name\":\"BoxAnnotation\",\"id\":\"p1418\",\"attributes\":{\"syncable\":false,\"line_color\":\"black\",\"line_alpha\":1.0,\"line_width\":2,\"line_dash\":[4,4],\"fill_color\":\"lightgrey\",\"fill_alpha\":0.5,\"level\":\"overlay\",\"visible\":false,\"left\":{\"type\":\"number\",\"value\":\"nan\"},\"right\":{\"type\":\"number\",\"value\":\"nan\"},\"top\":{\"type\":\"number\",\"value\":\"nan\"},\"bottom\":{\"type\":\"number\",\"value\":\"nan\"},\"left_units\":\"canvas\",\"right_units\":\"canvas\",\"top_units\":\"canvas\",\"bottom_units\":\"canvas\",\"handles\":{\"type\":\"object\",\"name\":\"BoxInteractionHandles\",\"id\":\"p1424\",\"attributes\":{\"all\":{\"type\":\"object\",\"name\":\"AreaVisuals\",\"id\":\"p1423\",\"attributes\":{\"fill_color\":\"white\",\"hover_fill_color\":\"lightgray\"}}}}}}}},{\"type\":\"object\",\"name\":\"SaveTool\",\"id\":\"p1425\"},{\"type\":\"object\",\"name\":\"ResetTool\",\"id\":\"p1426\"},{\"type\":\"object\",\"name\":\"HelpTool\",\"id\":\"p1427\"}]}},\"left\":[{\"type\":\"object\",\"name\":\"LinearAxis\",\"id\":\"p1410\",\"attributes\":{\"ticker\":{\"type\":\"object\",\"name\":\"BasicTicker\",\"id\":\"p1411\",\"attributes\":{\"mantissas\":[1,2,5]}},\"formatter\":{\"type\":\"object\",\"name\":\"BasicTickFormatter\",\"id\":\"p1412\"},\"major_label_policy\":{\"type\":\"object\",\"name\":\"AllLabels\",\"id\":\"p1413\"}}}],\"below\":[{\"type\":\"object\",\"name\":\"CategoricalAxis\",\"id\":\"p1405\",\"attributes\":{\"ticker\":{\"type\":\"object\",\"name\":\"CategoricalTicker\",\"id\":\"p1406\"},\"formatter\":{\"type\":\"object\",\"name\":\"CategoricalTickFormatter\",\"id\":\"p1407\"},\"major_label_policy\":{\"type\":\"object\",\"name\":\"AllLabels\",\"id\":\"p1408\"}}}],\"center\":[{\"type\":\"object\",\"name\":\"Grid\",\"id\":\"p1409\",\"attributes\":{\"axis\":{\"id\":\"p1405\"}}},{\"type\":\"object\",\"name\":\"Grid\",\"id\":\"p1414\",\"attributes\":{\"dimension\":1,\"axis\":{\"id\":\"p1410\"}}}]}}]}};\n  const render_items = [{\"docid\":\"e2e474fc-35ad-4b38-8b1a-8c2527245e1a\",\"roots\":{\"p1392\":\"d15ecb95-e681-43ab-aa63-f772f1dee6d2\"},\"root_ids\":[\"p1392\"]}];\n  void root.Bokeh.embed.embed_items_notebook(docs_json, render_items);\n  }\n  if (root.Bokeh !== undefined) {\n    embed_document(root);\n  } else {\n    let attempts = 0;\n    const timer = setInterval(function(root) {\n      if (root.Bokeh !== undefined) {\n        clearInterval(timer);\n        embed_document(root);\n      } else {\n        attempts++;\n        if (attempts > 100) {\n          clearInterval(timer);\n          console.log(\"Bokeh: ERROR: Unable to run BokehJS code because BokehJS library is missing\");\n        }\n      }\n    }, 10, root)\n  }\n})(window);",
      "application/vnd.bokehjs_exec.v0+json": ""
     },
     "metadata": {
      "application/vnd.bokehjs_exec.v0+json": {
       "id": "p1392"
      }
     },
     "output_type": "display_data"
    }
   ],
   "execution_count": 29
  },
  {
   "metadata": {},
   "cell_type": "code",
   "outputs": [],
   "execution_count": null,
   "source": "",
   "id": "62899eb107ed8305"
  }
 ],
 "metadata": {
  "kernelspec": {
   "display_name": "Python 3",
   "language": "python",
   "name": "python3"
  },
  "language_info": {
   "codemirror_mode": {
    "name": "ipython",
    "version": 2
   },
   "file_extension": ".py",
   "mimetype": "text/x-python",
   "name": "python",
   "nbconvert_exporter": "python",
   "pygments_lexer": "ipython2",
   "version": "2.7.6"
  }
 },
 "nbformat": 4,
 "nbformat_minor": 5
}
