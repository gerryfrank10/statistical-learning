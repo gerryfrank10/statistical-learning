{
 "cells": [
  {
   "cell_type": "code",
   "id": "initial_id",
   "metadata": {
    "collapsed": true,
    "ExecuteTime": {
     "end_time": "2024-11-20T21:52:42.266538Z",
     "start_time": "2024-11-20T21:52:42.261865Z"
    }
   },
   "source": [
    "# Binomial Distribution\n",
    "'''\n",
    "    This probability distribution describes the probability of success ub a fixed number of independent trials\n",
    "    Example : What is the probability of getting 6 heads when you toss the coin 10 times.\n",
    "            here k = 6, p = 0.5 and n = 10\n",
    "\n",
    "'''\n",
    "\n",
    "from scipy.stats import binom\n",
    "\n",
    "\n",
    "n = 10 # The number of trials\n",
    "p = 0.5 # The probability of success\n",
    "binomial_dist = binom(n, p)\n",
    "\n",
    "# Probability mass function for k success where k <= n\n",
    "k = 3\n",
    "probability = binomial_dist.pmf(k)\n",
    "print(f'The probability of {k} is {probability}')"
   ],
   "outputs": [
    {
     "name": "stdout",
     "output_type": "stream",
     "text": [
      "The probability of 3 is 0.11718750000000004\n"
     ]
    }
   ],
   "execution_count": 9
  },
  {
   "metadata": {
    "ExecuteTime": {
     "end_time": "2024-11-20T22:01:41.578821Z",
     "start_time": "2024-11-20T22:01:41.573751Z"
    }
   },
   "cell_type": "code",
   "source": [
    "from IPython.display import Math\n",
    "Math(r'nCx . p^x . (1-p)^n-x')"
   ],
   "id": "dcf08917cad25637",
   "outputs": [
    {
     "data": {
      "text/plain": [
       "<IPython.core.display.Math object>"
      ],
      "text/latex": "$\\displaystyle nCx . p^x . (1-p)^n-x$"
     },
     "execution_count": 17,
     "metadata": {},
     "output_type": "execute_result"
    }
   ],
   "execution_count": 17
  },
  {
   "metadata": {
    "ExecuteTime": {
     "end_time": "2024-11-20T22:03:00.188441Z",
     "start_time": "2024-11-20T22:03:00.182017Z"
    }
   },
   "cell_type": "code",
   "source": [
    "# Probability Density Function\n",
    "'''\n",
    "    Is function that describes the probability of a continuous random variable, giving random variable to have\n",
    "    a certain value rather than just falling within a certain range of values\n",
    "    It satisfy the following condition:\n",
    "        1. f(X)> 0 for x£R\n",
    "        2. int_f(x) = 1\n",
    "'''\n",
    "from scipy.stats import norm\n",
    "mu = 0\n",
    "sigma = 1\n",
    "\n",
    "normal_dist = norm(mu , sigma)\n",
    "x = 1.5\n",
    "pdf_value = normal_dist.pdf(x)\n",
    "print(f'The pdf of {x} is {pdf_value}')"
   ],
   "id": "70d782aa5c4f8a3b",
   "outputs": [
    {
     "name": "stdout",
     "output_type": "stream",
     "text": [
      "The pdf of 1.5 is 0.12951759566589174\n"
     ]
    }
   ],
   "execution_count": 18
  },
  {
   "metadata": {
    "ExecuteTime": {
     "end_time": "2024-11-20T22:18:41.419302Z",
     "start_time": "2024-11-20T22:18:41.336490Z"
    }
   },
   "cell_type": "code",
   "source": [
    "# Sampling Distribution\n",
    "'''\n",
    "    Is the distribution of the sample mean or other statistics when the sample are selected randomly from a population\n",
    "    Used to understand the behaviour of a statistic when the samples are randomly selected from a population\n",
    "'''\n",
    "import numpy as np\n",
    "import matplotlib.pyplot as plt\n",
    "\n",
    "population = np.random.normal(0, 1, 1000)\n",
    "sample_size = 100\n",
    "sample = np.random.choice(population, size=sample_size, replace=False)\n",
    "\n",
    "sample_mean = np.mean(sample)\n",
    "print(f'The mean sample of population is {sample_mean}')\n",
    "print(f'The sample standard deviation is {np.std(sample)}')\n",
    "\n",
    "plt.hist(population, bins=100)\n",
    "plt.title('Histogram of population')\n",
    "plt.xlabel('Population')\n",
    "plt.ylabel('Frequency')\n",
    "plt.show()"
   ],
   "id": "b34ed4e10102ca88",
   "outputs": [
    {
     "name": "stdout",
     "output_type": "stream",
     "text": [
      "The mean sample of population is -0.11427663950202184\n",
      "The sample standard deviation is 0.9768222000119484\n"
     ]
    },
    {
     "data": {
      "text/plain": [
       "<Figure size 640x480 with 1 Axes>"
      ],
      "image/png": "[encoded data removed]"
     },
     "metadata": {},
     "output_type": "display_data"
    }
   ],
   "execution_count": 24
  },
  {
   "metadata": {
    "ExecuteTime": {
     "end_time": "2024-11-20T22:32:41.919707Z",
     "start_time": "2024-11-20T22:32:41.913630Z"
    }
   },
   "cell_type": "code",
   "source": [
    "# Normal Distribution\n",
    "from scipy.stats import norm\n",
    "import numpy as np\n",
    "\n",
    "# Finding the z-score of the 95th percentile for a normal distribution\n",
    "p = 0.95\n",
    "z_score = norm.ppf(p)\n",
    "print(f'The z-score of population is {z_score}')"
   ],
   "id": "674f3fe3b907ee1c",
   "outputs": [
    {
     "name": "stdout",
     "output_type": "stream",
     "text": [
      "The z-score of population is 1.644853626951472\n"
     ]
    }
   ],
   "execution_count": 25
  },
  {
   "metadata": {
    "ExecuteTime": {
     "end_time": "2024-11-20T22:38:43.169149Z",
     "start_time": "2024-11-20T22:38:43.165402Z"
    }
   },
   "cell_type": "code",
   "source": [
    "# So what is x for 0.95 z_score\n",
    "mean = 1\n",
    "std = 0\n",
    "\n",
    "z_score = norm.ppf(0.95)\n",
    "x = mean + std * z_score\n",
    "print(f'The mean of population is {x}')"
   ],
   "id": "821e823a9eb3d40a",
   "outputs": [
    {
     "name": "stdout",
     "output_type": "stream",
     "text": [
      "The mean of population is 1.0\n"
     ]
    }
   ],
   "execution_count": 33
  },
  {
   "metadata": {
    "ExecuteTime": {
     "end_time": "2024-11-20T22:44:33.931643Z",
     "start_time": "2024-11-20T22:44:33.926168Z"
    }
   },
   "cell_type": "code",
   "source": [
    "# Probability Density function\n",
    "'''\n",
    "    Describes the likelihood of an outcome for continuous/discrete random variables\n",
    "'''\n",
    "from scipy.stats import norm\n",
    "mu = 0\n",
    "sigma = 1\n",
    "normal_dist = norm(mu , sigma)\n",
    "# This is a point in x-axis measuring the height at that particular point\n",
    "x = 1.5\n",
    "pdf_value = normal_dist.pdf(x)\n",
    "print(f'The pdf of {x} is {pdf_value}')"
   ],
   "id": "ca00cd8316b54055",
   "outputs": [
    {
     "name": "stdout",
     "output_type": "stream",
     "text": [
      "The pdf of 1.5 is 0.12951759566589174\n"
     ]
    }
   ],
   "execution_count": 34
  },
  {
   "metadata": {
    "ExecuteTime": {
     "end_time": "2024-11-20T22:58:02.688850Z",
     "start_time": "2024-11-20T22:58:02.618214Z"
    }
   },
   "cell_type": "code",
   "source": [
    "# Central Limit Theorem\n",
    "'''\n",
    "    This states that the sampling distribution of the sample mean approaches a normal distribution\n",
    "    as the sample size increases\n",
    "'''\n",
    "import matplotlib.pyplot as plt\n",
    "import numpy as np\n",
    "\n",
    "population = np.random.normal(0, 1, 1000)\n",
    "sample_size = 100\n",
    "\n",
    "sample_mean = []\n",
    "for _ in range(sample_size):\n",
    "    sample = np.random.choice(population, size=sample_size, replace=False)\n",
    "    sample_mean.append(np.mean(sample))\n",
    "\n",
    "plt.hist(population, bins=30, density=True, alpha=0.7)\n",
    "plt.xlabel('Sample Mean')\n",
    "plt.ylabel('Probability')\n",
    "plt.title('Samping Distribution')\n",
    "plt.show()\n"
   ],
   "id": "c420763bf67877d6",
   "outputs": [
    {
     "data": {
      "text/plain": [
       "<Figure size 640x480 with 1 Axes>"
      ],
      "image/png": "[encoded data removed]"
     },
     "metadata": {},
     "output_type": "display_data"
    }
   ],
   "execution_count": 35
  },
  {
   "metadata": {
    "ExecuteTime": {
     "end_time": "2024-11-20T23:01:58.732037Z",
     "start_time": "2024-11-20T23:01:58.725797Z"
    }
   },
   "cell_type": "code",
   "source": [
    "# Hypothesis testing\n",
    "'''\n",
    "    Is the statistical method used to make inferences or draw conclusions about a population based on a sample data.\n",
    "    it involves stating a null hypothesis and an alternative hypothesis, calculating test statistics and comparing it to critical value or p-value\n",
    "    if p-value < 0.05 indicates a strong evidence against Ho reject it  while p > 0.05 weak hypothesis so fail to reject it\n",
    "'''\n",
    "from scipy.stats import ttest_ind\n",
    "sample1 = [10,12,15,13,11]\n",
    "sample2 = [14,16,18,17,19]\n",
    "\n",
    "t_statistic, p_value = ttest_ind(sample1, sample2)\n",
    "print(f'The t-statistic is {t_statistic}')\n",
    "print(f'The p-value is {p_value}')"
   ],
   "id": "b90b65832ba3fd7c",
   "outputs": [
    {
     "name": "stdout",
     "output_type": "stream",
     "text": [
      "The t-statistic is -3.7811767080232186\n",
      "The p-value is 0.005379107766972856\n"
     ]
    }
   ],
   "execution_count": 36
  },
  {
   "metadata": {
    "ExecuteTime": {
     "end_time": "2024-11-20T23:12:22.715390Z",
     "start_time": "2024-11-20T23:12:22.669593Z"
    }
   },
   "cell_type": "code",
   "source": [
    "# Monte carlo simulation\n",
    "'''\n",
    "    This is technique that uses a random sampling to estimate probabilities and analyze complex systems or process\n",
    "    It involves generating random numbers based on specified distribution and running simulations to obtain numerical results\n",
    "'''\n",
    "import random\n",
    "num_points = 100000\n",
    "points_inside_circle = 0\n",
    "\n",
    "for _ in range(num_points):\n",
    "    x = random.uniform(-1, 1)\n",
    "    y = random.uniform(-1, 1)\n",
    "    if x**2 + y**2 <= 1:\n",
    "        points_inside_circle += 1\n",
    "\n",
    "pi_estimate = 4 * points_inside_circle/num_points\n",
    "print(f'The estimated value of pi is {pi_estimate}')"
   ],
   "id": "c5206e01ee54ddb7",
   "outputs": [
    {
     "name": "stdout",
     "output_type": "stream",
     "text": [
      "The estimated value of pi is 3.14148\n"
     ]
    }
   ],
   "execution_count": 37
  },
  {
   "metadata": {},
   "cell_type": "code",
   "outputs": [],
   "execution_count": null,
   "source": "",
   "id": "fe8466ea1c7e452f"
  }
 ],
 "metadata": {
  "kernelspec": {
   "display_name": "Python 3",
   "language": "python",
   "name": "python3"
  },
  "language_info": {
   "codemirror_mode": {
    "name": "ipython",
    "version": 2
   },
   "file_extension": ".py",
   "mimetype": "text/x-python",
   "name": "python",
   "nbconvert_exporter": "python",
   "pygments_lexer": "ipython2",
   "version": "2.7.6"
  }
 },
 "nbformat": 4,
 "nbformat_minor": 5
}
